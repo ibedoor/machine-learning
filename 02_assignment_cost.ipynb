{
  "nbformat": 4,
  "nbformat_minor": 0,
  "metadata": {
    "colab": {
      "name": "02_assignment_cost.ipynb",
      "provenance": [],
      "collapsed_sections": []
    },
    "kernelspec": {
      "name": "python3",
      "display_name": "Python 3"
    }
  },
  "cells": [
    {
      "cell_type": "code",
      "metadata": {
        "id": "0DBsWMnDfWJN"
      },
      "source": [
        "%%capture\n",
        "# STARTER CODE - RUN THIS CELL - DO NOT CHANGE\n",
        "!pip install category_encoders\n",
        "import seaborn as sns\n",
        "import pandas as pd\n",
        "import numpy as np\n",
        "import matplotlib.pyplot as plt\n",
        "import category_encoders as ce\n",
        "from sklearn.linear_model import LinearRegression, LogisticRegression\n",
        "from sklearn.preprocessing import StandardScaler\n",
        "from sklearn.model_selection import train_test_split\n",
        "from sklearn.pipeline import make_pipeline\n",
        "from sklearn.metrics import mean_squared_error, mean_absolute_error, accuracy_score, accuracy_score, recall_score, precision_score\n",
        "df_r = sns.load_dataset(\"tips\").dropna()\n",
        "df_c = sns.load_dataset(\"titanic\").dropna()\n",
        "model_r = LinearRegression()\n",
        "model_c = LogisticRegression()\n",
        "x_train_r, x_test_r, y_train_r, y_test_r = train_test_split(df_r.drop(\"total_bill\", axis=1), df_r[\"total_bill\"])\n",
        "x_train_c, x_test_c, y_train_c, y_test_c = train_test_split(df_c.drop([\"survived\", \"alive\", \"adult_male\"], axis=1), df_c[\"survived\"])\n",
        "pipe_r = make_pipeline(ce.OrdinalEncoder(), StandardScaler(), LinearRegression()).fit(x_train_r, y_train_r)\n",
        "pipe_c = make_pipeline(ce.OrdinalEncoder(), StandardScaler(), LogisticRegression()).fit(x_train_c, y_train_c)\n",
        "y_pred_r = pipe_r.predict(x_test_r)\n",
        "y_pred_c = pipe_c.predict(x_test_c)"
      ],
      "execution_count": null,
      "outputs": []
    },
    {
      "cell_type": "markdown",
      "metadata": {
        "id": "JA6ub2bZemNP"
      },
      "source": [
        "# Cost Functions\n",
        "\n",
        "- Without importing any libraries please write a cost function for each of the following listed below.\n",
        "- Do not refrence ANY online resources other than whats provided\n",
        "\n",
        "You can only use these resources, `pandas` and `numpy` to make your functions:\n",
        "- [Mean Squared Error](https://en.wikipedia.org/wiki/Mean_squared_error)\n",
        "- [Mean Absolute Error](https://en.wikipedia.org/wiki/Mean_absolute_error)\n",
        "- [Root Mean Squared Error](https://en.wikipedia.org/wiki/Root-mean-square_deviation)\n",
        "- [Residual Sum of Squares](https://en.wikipedia.org/wiki/Residual_sum_of_squares)\n",
        "- [Precision, Recall, Accuracy](https://en.wikipedia.org/wiki/Confusion_matrix)\n",
        "- [Scikit-Learn](https://scikit-learn.org/stable/index.html)"
      ]
    },
    {
      "cell_type": "markdown",
      "metadata": {
        "id": "39_TltPpf60I"
      },
      "source": [
        "#### Regression Cost Functions\n",
        "\n",
        "- Use `y_test_r` as your true labels\n",
        "- Use `y_pred_r` as your predicted labels"
      ]
    },
    {
      "cell_type": "code",
      "metadata": {
        "id": "LgU4Ke0Cd3gw",
        "colab": {
          "base_uri": "https://localhost:8080/"
        },
        "outputId": "8974004f-5fbb-4759-a189-c04c81759b1a"
      },
      "source": [
        "# Create a Mean Squared Error Function\n",
        "def mse(y_true, y_pred):\n",
        "    sr = (y_pred - y_true) ** 2\n",
        "    return sum(sr) / len(y_pred)\n",
        "\n",
        "mse(y_test_r, y_pred_r)"
      ],
      "execution_count": null,
      "outputs": [
        {
          "output_type": "execute_result",
          "data": {
            "text/plain": [
              "36.32711040570984"
            ]
          },
          "metadata": {
            "tags": []
          },
          "execution_count": 2
        }
      ]
    },
    {
      "cell_type": "code",
      "metadata": {
        "id": "Eyp3WVY_tuBz",
        "colab": {
          "base_uri": "https://localhost:8080/"
        },
        "outputId": "243db797-2e1e-48f0-899b-1b8c51a5940b"
      },
      "source": [
        "# Your Mean Squared Error function should equal this value\n",
        "mean_squared_error(y_test_r, y_pred_r)"
      ],
      "execution_count": null,
      "outputs": [
        {
          "output_type": "execute_result",
          "data": {
            "text/plain": [
              "36.327110405709846"
            ]
          },
          "metadata": {
            "tags": []
          },
          "execution_count": 3
        }
      ]
    },
    {
      "cell_type": "code",
      "metadata": {
        "id": "n-B-pkxtfAtI",
        "colab": {
          "base_uri": "https://localhost:8080/"
        },
        "outputId": "f3cfd792-8d50-4b59-a56e-a7dcfa5600e1"
      },
      "source": [
        "# Create a Mean Absolute Error Function\n",
        "def mae(y_true, y_pred):\n",
        "    ar = abs(y_pred - y_true)\n",
        "    return np.mean(ar)\n",
        "\n",
        "mae(y_test_r, y_pred_r)"
      ],
      "execution_count": null,
      "outputs": [
        {
          "output_type": "execute_result",
          "data": {
            "text/plain": [
              "4.362232426429646"
            ]
          },
          "metadata": {
            "tags": []
          },
          "execution_count": 4
        }
      ]
    },
    {
      "cell_type": "code",
      "metadata": {
        "id": "8ZzkyvrSuCkc",
        "colab": {
          "base_uri": "https://localhost:8080/"
        },
        "outputId": "0f2589e4-1163-4b28-8ac4-54b142328daa"
      },
      "source": [
        "# Your Mean Absolute Error function should equal this value\n",
        "mean_absolute_error(y_test_r, y_pred_r)"
      ],
      "execution_count": null,
      "outputs": [
        {
          "output_type": "execute_result",
          "data": {
            "text/plain": [
              "4.362232426429647"
            ]
          },
          "metadata": {
            "tags": []
          },
          "execution_count": 5
        }
      ]
    },
    {
      "cell_type": "code",
      "metadata": {
        "id": "w4nobsDJfk4L",
        "colab": {
          "base_uri": "https://localhost:8080/"
        },
        "outputId": "8e1437c8-e935-48c8-a972-4bbf37750f77"
      },
      "source": [
        "# Create a Root Mean Squared Error Function\n",
        "def rmse(y_true, y_pred):\n",
        "    sr = ((y_pred - y_true) ** 2).mean()\n",
        "    return np.sqrt(sr)\n",
        "\n",
        "rmse(y_test_r, y_pred_r)"
      ],
      "execution_count": null,
      "outputs": [
        {
          "output_type": "execute_result",
          "data": {
            "text/plain": [
              "6.027197558211431"
            ]
          },
          "metadata": {
            "tags": []
          },
          "execution_count": 9
        }
      ]
    },
    {
      "cell_type": "code",
      "metadata": {
        "id": "WswkpQCruRyb",
        "colab": {
          "base_uri": "https://localhost:8080/"
        },
        "outputId": "d0c08b66-806b-4714-fb5b-2098b2e485b1"
      },
      "source": [
        "# Your Root Mean Squared Error function should equal this value\n",
        "mean_squared_error(y_test_r, y_pred_r, squared=False)"
      ],
      "execution_count": null,
      "outputs": [
        {
          "output_type": "execute_result",
          "data": {
            "text/plain": [
              "6.027197558211432"
            ]
          },
          "metadata": {
            "tags": []
          },
          "execution_count": 7
        }
      ]
    },
    {
      "cell_type": "code",
      "metadata": {
        "id": "RcuwEx9qd_hq",
        "colab": {
          "base_uri": "https://localhost:8080/"
        },
        "outputId": "77bed345-0dd2-4c4d-8071-35395612ebd6"
      },
      "source": [
        "# Create a Sum of Squared Error Function\n",
        "def rss(y_true, y_pred):\n",
        "    se = (y_pred - y_true) ** 2\n",
        "    return np.sum(se)\n",
        "\n",
        "rss(y_test_r, y_pred_r)"
      ],
      "execution_count": null,
      "outputs": [
        {
          "output_type": "execute_result",
          "data": {
            "text/plain": [
              "2215.9537347483006"
            ]
          },
          "metadata": {
            "tags": []
          },
          "execution_count": 10
        }
      ]
    },
    {
      "cell_type": "markdown",
      "metadata": {
        "id": "fYpJ2jdYf-Et"
      },
      "source": [
        "#### Classification Cost Functions\n",
        "\n",
        "- Use `y_test_c` as your true labels\n",
        "- Use `y_pred_c` as your predicted labels"
      ]
    },
    {
      "cell_type": "code",
      "metadata": {
        "id": "aipG_B_7h3yI",
        "colab": {
          "base_uri": "https://localhost:8080/"
        },
        "outputId": "b1007a44-ca4c-49b8-c6b2-9e07a3bb8092"
      },
      "source": [
        "# Replace None with the correct value value\n",
        "true_positive = 0\n",
        "true_negative = 0\n",
        "false_positive = 0\n",
        "false_negative = 0\n",
        "\n",
        "# Write a loop to identify true positives, false negatives, false positives, and true negatives\n",
        "for i in range(len(y_pred_c)):\n",
        "  # condition true positive\n",
        "  if y_test_c.iloc[i] == y_pred_c[i] == 1:\n",
        "    true_positive +=1\n",
        "  # condition false positive\n",
        "  if y_test_c.iloc[i] != y_pred_c[i] and y_pred_c[i] == 1:\n",
        "    false_positive += 1\n",
        "  # condition true negative\n",
        "  if y_test_c.iloc[i] == y_pred_c[i] == 0:\n",
        "    true_negative += 1\n",
        "  # condition false negative\n",
        "  if y_test_c.iloc[i] != y_pred_c[i] and y_pred_c[i] == 0:\n",
        "    false_negative += 1\n",
        "\n",
        "# Uncomment below when your loop works to see totals of each\n",
        "print(f\"True Positives: {true_positive}\\nTrue Negatives: {true_negative}\\nFalse Positives: {false_positive}\\nFalse Negatives: {false_negative}\")"
      ],
      "execution_count": null,
      "outputs": [
        {
          "output_type": "stream",
          "text": [
            "True Positives: 27\n",
            "True Negatives: 9\n",
            "False Positives: 5\n",
            "False Negatives: 5\n"
          ],
          "name": "stdout"
        }
      ]
    },
    {
      "cell_type": "code",
      "metadata": {
        "id": "Q3Ctlw2heCig",
        "colab": {
          "base_uri": "https://localhost:8080/"
        },
        "outputId": "2ac9dc2f-3b1c-44af-daf7-03e17b480445"
      },
      "source": [
        "# Create A Function to Calculate Precision\n",
        "def precision(TP, FP):\n",
        "    pre = TP / (TP + FP)\n",
        "    return pre \n",
        "\n",
        "precision(true_positive, false_positive)"
      ],
      "execution_count": null,
      "outputs": [
        {
          "output_type": "execute_result",
          "data": {
            "text/plain": [
              "0.84375"
            ]
          },
          "metadata": {
            "tags": []
          },
          "execution_count": 31
        }
      ]
    },
    {
      "cell_type": "code",
      "metadata": {
        "id": "UpzJxKZJqz9S",
        "colab": {
          "base_uri": "https://localhost:8080/"
        },
        "outputId": "5dcf95cc-beb0-4731-d279-2942ababc910"
      },
      "source": [
        "# Your precision function should equal this value\n",
        "precision_score(y_test_c, y_pred_c)"
      ],
      "execution_count": null,
      "outputs": [
        {
          "output_type": "execute_result",
          "data": {
            "text/plain": [
              "0.84375"
            ]
          },
          "metadata": {
            "tags": []
          },
          "execution_count": 15
        }
      ]
    },
    {
      "cell_type": "code",
      "metadata": {
        "id": "rAX5khvCedHC",
        "colab": {
          "base_uri": "https://localhost:8080/"
        },
        "outputId": "91cca23b-52f3-43d4-ce2f-5a40f683e451"
      },
      "source": [
        "# Create A Function to Calculate Recall\n",
        "def recall(TP, FN):\n",
        "    rec = TP / (TP + FN)\n",
        "    return rec\n",
        "\n",
        "recall(true_positive, false_negative)"
      ],
      "execution_count": null,
      "outputs": [
        {
          "output_type": "execute_result",
          "data": {
            "text/plain": [
              "0.84375"
            ]
          },
          "metadata": {
            "tags": []
          },
          "execution_count": 33
        }
      ]
    },
    {
      "cell_type": "code",
      "metadata": {
        "id": "sPin2Q9Zqk-X",
        "colab": {
          "base_uri": "https://localhost:8080/"
        },
        "outputId": "c213b77b-d156-4141-8008-00ed3a37fba5"
      },
      "source": [
        "# Your recall function should equal this value\n",
        "recall_score(y_test_c, y_pred_c)"
      ],
      "execution_count": null,
      "outputs": [
        {
          "output_type": "execute_result",
          "data": {
            "text/plain": [
              "0.84375"
            ]
          },
          "metadata": {
            "tags": []
          },
          "execution_count": 34
        }
      ]
    },
    {
      "cell_type": "code",
      "metadata": {
        "id": "RQ8YleBTegvn",
        "colab": {
          "base_uri": "https://localhost:8080/"
        },
        "outputId": "38f5f701-0bcf-4e2e-8b58-1f9d1daf13a9"
      },
      "source": [
        "# Create a Function to Calculate Accuracy\n",
        "def accuracy(TP, FP, TN, FN):\n",
        "    acc = (TP + TN) / (TP + TN + FP + FN)\n",
        "    return acc\n",
        "\n",
        "accuracy(true_positive, false_positive, true_negative, false_negative)"
      ],
      "execution_count": null,
      "outputs": [
        {
          "output_type": "execute_result",
          "data": {
            "text/plain": [
              "0.782608695652174"
            ]
          },
          "metadata": {
            "tags": []
          },
          "execution_count": 37
        }
      ]
    },
    {
      "cell_type": "code",
      "metadata": {
        "id": "tzNMG0PmqSkn",
        "colab": {
          "base_uri": "https://localhost:8080/"
        },
        "outputId": "bb2a4553-dbb3-412c-ca6d-222dfb3af78d"
      },
      "source": [
        "# Your accuracy score function should equal this value\n",
        "accuracy_score(y_test_c, y_pred_c)"
      ],
      "execution_count": null,
      "outputs": [
        {
          "output_type": "execute_result",
          "data": {
            "text/plain": [
              "0.782608695652174"
            ]
          },
          "metadata": {
            "tags": []
          },
          "execution_count": 36
        }
      ]
    }
  ]
}