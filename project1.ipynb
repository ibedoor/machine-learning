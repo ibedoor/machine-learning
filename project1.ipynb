{
  "nbformat": 4,
  "nbformat_minor": 0,
  "metadata": {
    "colab": {
      "name": "project1.ipynb",
      "provenance": [],
      "authorship_tag": "ABX9TyOraFUwH2ducLHOSFgRpipI",
      "include_colab_link": true
    },
    "kernelspec": {
      "name": "python3",
      "display_name": "Python 3"
    },
    "language_info": {
      "name": "python"
    }
  },
  "cells": [
    {
      "cell_type": "markdown",
      "metadata": {
        "id": "view-in-github",
        "colab_type": "text"
      },
      "source": [
        "<a href=\"https://colab.research.google.com/github/ibedoor/machine-learning/blob/main/project1.ipynb\" target=\"_parent\"><img src=\"https://colab.research.google.com/assets/colab-badge.svg\" alt=\"Open In Colab\"/></a>"
      ]
    },
    {
      "cell_type": "code",
      "metadata": {
        "colab": {
          "base_uri": "https://localhost:8080/"
        },
        "id": "hIy5lYnCZQ2G",
        "outputId": "cda633df-b011-4569-9ca8-9fd2f585454a"
      },
      "source": [
        "age = input('Please Enter your Age: ')\n",
        "\n",
        "print ('You Are', age, 'Years Old!')"
      ],
      "execution_count": 1,
      "outputs": [
        {
          "output_type": "stream",
          "text": [
            "Please Enter your Age: 18\n",
            "You Are 18 Years Old!\n"
          ],
          "name": "stdout"
        }
      ]
    }
  ]
}