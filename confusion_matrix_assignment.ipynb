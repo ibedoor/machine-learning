{
  "nbformat": 4,
  "nbformat_minor": 0,
  "metadata": {
    "colab": {
      "name": "confusion_matrix_assignment.ipynb",
      "provenance": [],
      "include_colab_link": true
    },
    "kernelspec": {
      "name": "python3",
      "display_name": "Python 3"
    }
  },
  "cells": [
    {
      "cell_type": "markdown",
      "metadata": {
        "id": "view-in-github",
        "colab_type": "text"
      },
      "source": [
        "<a href=\"https://colab.research.google.com/github/ibedoor/machine-learning/blob/main/confusion_matrix_assignment.ipynb\" target=\"_parent\"><img src=\"https://colab.research.google.com/assets/colab-badge.svg\" alt=\"Open In Colab\"/></a>"
      ]
    },
    {
      "cell_type": "markdown",
      "metadata": {
        "id": "93NOZbbEHw0X"
      },
      "source": [
        "# Confusion Matrix\r\n",
        "\r\n",
        "#### Dataset Options\r\n",
        "1. Binary Classification Dataset of Your Choice\r\n",
        "2. Seattle Rain Dataset\r\n",
        "    - `https://github.com/daniel-dc-cd/data_science/raw/master/module_3_Python/data/seattle_weather_1948-2017.csv`\r\n",
        "    - Note: target is `RAIN`\r\n",
        "3. Titanic Dataset\r\n",
        "    - `https://github.com/daniel-dc-cd/data_science/raw/master/module_3_Python/data/titanic.csv`\r\n",
        "3. Customer Churn\r\n",
        "    - `https://github.com/gumdropsteve/intro_to_machine_learning/raw/main/day_05/data/churn_data.csv`\r\n",
        "    - [Data dict](https://docs.google.com/document/d/1SxzoPHWxoLHx_kiPTZEzZOoda2chHbHLdMGAFsGIqCY/edit?usp=sharing)\r\n",
        "    - Note: target is `Churn`\r\n",
        "4. Iris dataset\r\n",
        "    - `https://raw.githubusercontent.com/gumdropsteve/datasets/master/iris.csv`\r\n",
        "    - Note: 3 possible classes"
      ]
    },
    {
      "cell_type": "code",
      "metadata": {
        "id": "KKM1Z-Zwb7mc"
      },
      "source": [
        "import pandas as pd\r\n",
        "import numpy as np\r\n",
        "import matplotlib.pyplot as plt\r\n",
        "import seaborn as sns\r\n",
        "from sklearn.metrics import*\r\n",
        "from matplotlib import cm\r\n",
        "cs = cm.Set2(np.arange(2)/2.)"
      ],
      "execution_count": 1,
      "outputs": []
    },
    {
      "cell_type": "markdown",
      "metadata": {
        "id": "1-pAYZ79enXP"
      },
      "source": [
        "1. Load in your dataset."
      ]
    },
    {
      "cell_type": "code",
      "metadata": {
        "id": "5QYjsm9EHwTt"
      },
      "source": [
        "df = pd.read_csv('https://github.com/daniel-dc-cd/data_science/raw/master/module_3_Python/data/seattle_weather_1948-2017.csv')"
      ],
      "execution_count": 2,
      "outputs": []
    },
    {
      "cell_type": "code",
      "metadata": {
        "id": "TRoXHBwbgGMx"
      },
      "source": [
        "df = pd.DataFrame(df)"
      ],
      "execution_count": 3,
      "outputs": []
    },
    {
      "cell_type": "markdown",
      "metadata": {
        "id": "5vgZDwSEIDjF"
      },
      "source": [
        "2. Find out some information about the data..."
      ]
    },
    {
      "cell_type": "code",
      "metadata": {
        "id": "LdR4alSHIEFd",
        "colab": {
          "base_uri": "https://localhost:8080/",
          "height": 197
        },
        "outputId": "6b7c466f-6c57-4f94-8dd4-5b33e9f1f91d"
      },
      "source": [
        "df.sample(5)"
      ],
      "execution_count": 4,
      "outputs": [
        {
          "output_type": "execute_result",
          "data": {
            "text/html": [
              "<div>\n",
              "<style scoped>\n",
              "    .dataframe tbody tr th:only-of-type {\n",
              "        vertical-align: middle;\n",
              "    }\n",
              "\n",
              "    .dataframe tbody tr th {\n",
              "        vertical-align: top;\n",
              "    }\n",
              "\n",
              "    .dataframe thead th {\n",
              "        text-align: right;\n",
              "    }\n",
              "</style>\n",
              "<table border=\"1\" class=\"dataframe\">\n",
              "  <thead>\n",
              "    <tr style=\"text-align: right;\">\n",
              "      <th></th>\n",
              "      <th>DATE</th>\n",
              "      <th>PRCP</th>\n",
              "      <th>TMAX</th>\n",
              "      <th>TMIN</th>\n",
              "      <th>RAIN</th>\n",
              "    </tr>\n",
              "  </thead>\n",
              "  <tbody>\n",
              "    <tr>\n",
              "      <th>4511</th>\n",
              "      <td>1960-05-08</td>\n",
              "      <td>0.00</td>\n",
              "      <td>61</td>\n",
              "      <td>40</td>\n",
              "      <td>False</td>\n",
              "    </tr>\n",
              "    <tr>\n",
              "      <th>9651</th>\n",
              "      <td>1974-06-04</td>\n",
              "      <td>0.45</td>\n",
              "      <td>54</td>\n",
              "      <td>51</td>\n",
              "      <td>True</td>\n",
              "    </tr>\n",
              "    <tr>\n",
              "      <th>23760</th>\n",
              "      <td>2013-01-19</td>\n",
              "      <td>0.00</td>\n",
              "      <td>34</td>\n",
              "      <td>31</td>\n",
              "      <td>False</td>\n",
              "    </tr>\n",
              "    <tr>\n",
              "      <th>17878</th>\n",
              "      <td>1996-12-12</td>\n",
              "      <td>0.15</td>\n",
              "      <td>47</td>\n",
              "      <td>40</td>\n",
              "      <td>True</td>\n",
              "    </tr>\n",
              "    <tr>\n",
              "      <th>23789</th>\n",
              "      <td>2013-02-17</td>\n",
              "      <td>0.00</td>\n",
              "      <td>49</td>\n",
              "      <td>40</td>\n",
              "      <td>False</td>\n",
              "    </tr>\n",
              "  </tbody>\n",
              "</table>\n",
              "</div>"
            ],
            "text/plain": [
              "             DATE  PRCP  TMAX  TMIN   RAIN\n",
              "4511   1960-05-08  0.00    61    40  False\n",
              "9651   1974-06-04  0.45    54    51   True\n",
              "23760  2013-01-19  0.00    34    31  False\n",
              "17878  1996-12-12  0.15    47    40   True\n",
              "23789  2013-02-17  0.00    49    40  False"
            ]
          },
          "metadata": {
            "tags": []
          },
          "execution_count": 4
        }
      ]
    },
    {
      "cell_type": "code",
      "metadata": {
        "id": "7CXr_Sx1ew9T",
        "colab": {
          "base_uri": "https://localhost:8080/"
        },
        "outputId": "e12c0700-afeb-47f2-e4d5-0a1515e439a0"
      },
      "source": [
        "df.keys()"
      ],
      "execution_count": 5,
      "outputs": [
        {
          "output_type": "execute_result",
          "data": {
            "text/plain": [
              "Index(['DATE', 'PRCP', 'TMAX', 'TMIN', 'RAIN'], dtype='object')"
            ]
          },
          "metadata": {
            "tags": []
          },
          "execution_count": 5
        }
      ]
    },
    {
      "cell_type": "code",
      "metadata": {
        "id": "qjUbCTDESV0y",
        "colab": {
          "base_uri": "https://localhost:8080/",
          "height": 287
        },
        "outputId": "45d1d7fc-c92f-4c99-f7f7-bc18dedc358d"
      },
      "source": [
        "df.describe()"
      ],
      "execution_count": 6,
      "outputs": [
        {
          "output_type": "execute_result",
          "data": {
            "text/html": [
              "<div>\n",
              "<style scoped>\n",
              "    .dataframe tbody tr th:only-of-type {\n",
              "        vertical-align: middle;\n",
              "    }\n",
              "\n",
              "    .dataframe tbody tr th {\n",
              "        vertical-align: top;\n",
              "    }\n",
              "\n",
              "    .dataframe thead th {\n",
              "        text-align: right;\n",
              "    }\n",
              "</style>\n",
              "<table border=\"1\" class=\"dataframe\">\n",
              "  <thead>\n",
              "    <tr style=\"text-align: right;\">\n",
              "      <th></th>\n",
              "      <th>PRCP</th>\n",
              "      <th>TMAX</th>\n",
              "      <th>TMIN</th>\n",
              "    </tr>\n",
              "  </thead>\n",
              "  <tbody>\n",
              "    <tr>\n",
              "      <th>count</th>\n",
              "      <td>25548.000000</td>\n",
              "      <td>25551.000000</td>\n",
              "      <td>25551.000000</td>\n",
              "    </tr>\n",
              "    <tr>\n",
              "      <th>mean</th>\n",
              "      <td>0.106222</td>\n",
              "      <td>59.544206</td>\n",
              "      <td>44.514226</td>\n",
              "    </tr>\n",
              "    <tr>\n",
              "      <th>std</th>\n",
              "      <td>0.239031</td>\n",
              "      <td>12.772984</td>\n",
              "      <td>8.892836</td>\n",
              "    </tr>\n",
              "    <tr>\n",
              "      <th>min</th>\n",
              "      <td>0.000000</td>\n",
              "      <td>4.000000</td>\n",
              "      <td>0.000000</td>\n",
              "    </tr>\n",
              "    <tr>\n",
              "      <th>25%</th>\n",
              "      <td>0.000000</td>\n",
              "      <td>50.000000</td>\n",
              "      <td>38.000000</td>\n",
              "    </tr>\n",
              "    <tr>\n",
              "      <th>50%</th>\n",
              "      <td>0.000000</td>\n",
              "      <td>58.000000</td>\n",
              "      <td>45.000000</td>\n",
              "    </tr>\n",
              "    <tr>\n",
              "      <th>75%</th>\n",
              "      <td>0.100000</td>\n",
              "      <td>69.000000</td>\n",
              "      <td>52.000000</td>\n",
              "    </tr>\n",
              "    <tr>\n",
              "      <th>max</th>\n",
              "      <td>5.020000</td>\n",
              "      <td>103.000000</td>\n",
              "      <td>71.000000</td>\n",
              "    </tr>\n",
              "  </tbody>\n",
              "</table>\n",
              "</div>"
            ],
            "text/plain": [
              "               PRCP          TMAX          TMIN\n",
              "count  25548.000000  25551.000000  25551.000000\n",
              "mean       0.106222     59.544206     44.514226\n",
              "std        0.239031     12.772984      8.892836\n",
              "min        0.000000      4.000000      0.000000\n",
              "25%        0.000000     50.000000     38.000000\n",
              "50%        0.000000     58.000000     45.000000\n",
              "75%        0.100000     69.000000     52.000000\n",
              "max        5.020000    103.000000     71.000000"
            ]
          },
          "metadata": {
            "tags": []
          },
          "execution_count": 6
        }
      ]
    },
    {
      "cell_type": "code",
      "metadata": {
        "id": "fADazPVWIFRu",
        "colab": {
          "base_uri": "https://localhost:8080/"
        },
        "outputId": "77475d08-2948-4fa8-8955-03ac79caac43"
      },
      "source": [
        "df.info()"
      ],
      "execution_count": 7,
      "outputs": [
        {
          "output_type": "stream",
          "text": [
            "<class 'pandas.core.frame.DataFrame'>\n",
            "RangeIndex: 25551 entries, 0 to 25550\n",
            "Data columns (total 5 columns):\n",
            " #   Column  Non-Null Count  Dtype  \n",
            "---  ------  --------------  -----  \n",
            " 0   DATE    25551 non-null  object \n",
            " 1   PRCP    25548 non-null  float64\n",
            " 2   TMAX    25551 non-null  int64  \n",
            " 3   TMIN    25551 non-null  int64  \n",
            " 4   RAIN    25548 non-null  object \n",
            "dtypes: float64(1), int64(2), object(2)\n",
            "memory usage: 998.2+ KB\n"
          ],
          "name": "stdout"
        }
      ]
    },
    {
      "cell_type": "markdown",
      "metadata": {
        "id": "VdhMUQ27d5j7"
      },
      "source": [
        "Cleaning Data"
      ]
    },
    {
      "cell_type": "code",
      "metadata": {
        "colab": {
          "base_uri": "https://localhost:8080/"
        },
        "id": "i0K1CdmndtQg",
        "outputId": "fda5b616-8fa2-4ee9-dcdc-ea54df974f53"
      },
      "source": [
        "df.isnull().sum()"
      ],
      "execution_count": 8,
      "outputs": [
        {
          "output_type": "execute_result",
          "data": {
            "text/plain": [
              "DATE    0\n",
              "PRCP    3\n",
              "TMAX    0\n",
              "TMIN    0\n",
              "RAIN    3\n",
              "dtype: int64"
            ]
          },
          "metadata": {
            "tags": []
          },
          "execution_count": 8
        }
      ]
    },
    {
      "cell_type": "code",
      "metadata": {
        "id": "1_k4yGkEd9t3"
      },
      "source": [
        "df.dropna(inplace=True)"
      ],
      "execution_count": 9,
      "outputs": []
    },
    {
      "cell_type": "code",
      "metadata": {
        "colab": {
          "base_uri": "https://localhost:8080/"
        },
        "id": "5xJPrdwDeXEw",
        "outputId": "9e77ce2c-f139-43cb-8d01-6f17bdaf3650"
      },
      "source": [
        "df.isnull().sum()"
      ],
      "execution_count": 10,
      "outputs": [
        {
          "output_type": "execute_result",
          "data": {
            "text/plain": [
              "DATE    0\n",
              "PRCP    0\n",
              "TMAX    0\n",
              "TMIN    0\n",
              "RAIN    0\n",
              "dtype: int64"
            ]
          },
          "metadata": {
            "tags": []
          },
          "execution_count": 10
        }
      ]
    },
    {
      "cell_type": "markdown",
      "metadata": {
        "id": "Cw5EfiZHd9KA"
      },
      "source": [
        ""
      ]
    },
    {
      "cell_type": "code",
      "metadata": {
        "id": "IXxoqJg2gdub"
      },
      "source": [
        "df['RAIN'] = df['RAIN'].astype(str)"
      ],
      "execution_count": 11,
      "outputs": []
    },
    {
      "cell_type": "code",
      "metadata": {
        "id": "en1AiIKjc8U4"
      },
      "source": [
        "df['RAIN'] = df['RAIN'].map({'False':0, 'True':1}).astype(int)"
      ],
      "execution_count": 12,
      "outputs": []
    },
    {
      "cell_type": "code",
      "metadata": {
        "colab": {
          "base_uri": "https://localhost:8080/"
        },
        "id": "CS8ZzwzYek-3",
        "outputId": "54432fa1-b3d6-437e-b63d-9c2738411f5e"
      },
      "source": [
        "df['RAIN']"
      ],
      "execution_count": 13,
      "outputs": [
        {
          "output_type": "execute_result",
          "data": {
            "text/plain": [
              "0        1\n",
              "1        1\n",
              "2        1\n",
              "3        1\n",
              "4        1\n",
              "        ..\n",
              "25546    0\n",
              "25547    0\n",
              "25548    0\n",
              "25549    0\n",
              "25550    0\n",
              "Name: RAIN, Length: 25548, dtype: int64"
            ]
          },
          "metadata": {
            "tags": []
          },
          "execution_count": 13
        }
      ]
    },
    {
      "cell_type": "markdown",
      "metadata": {
        "id": "4FsmeuGnIOYd"
      },
      "source": [
        "3. Show me the relationships in your data... \r\n",
        "- corr ([help](https://stackoverflow.com/a/50703596/11074111))\r\n",
        "- pariplot\r\n",
        "- some other visualizations (of your choice)"
      ]
    },
    {
      "cell_type": "code",
      "metadata": {
        "id": "hoW-M_ObIiqn",
        "colab": {
          "base_uri": "https://localhost:8080/",
          "height": 106
        },
        "outputId": "d894d798-9ee0-449a-8786-a89f8969ebb6"
      },
      "source": [
        "# correlation\r\n",
        "corr = df.corr()\r\n",
        "corr.style.background_gradient(cmap='coolwarm')"
      ],
      "execution_count": 14,
      "outputs": [
        {
          "output_type": "execute_result",
          "data": {
            "text/html": [
              "<style  type=\"text/css\" >\n",
              "#T_85209a7a_6561_11eb_aa6b_0242ac1c0002row0_col0,#T_85209a7a_6561_11eb_aa6b_0242ac1c0002row1_col1,#T_85209a7a_6561_11eb_aa6b_0242ac1c0002row2_col2,#T_85209a7a_6561_11eb_aa6b_0242ac1c0002row3_col3{\n",
              "            background-color:  #b40426;\n",
              "            color:  #f1f1f1;\n",
              "        }#T_85209a7a_6561_11eb_aa6b_0242ac1c0002row0_col1{\n",
              "            background-color:  #5e7de7;\n",
              "            color:  #000000;\n",
              "        }#T_85209a7a_6561_11eb_aa6b_0242ac1c0002row0_col2{\n",
              "            background-color:  #4e68d8;\n",
              "            color:  #000000;\n",
              "        }#T_85209a7a_6561_11eb_aa6b_0242ac1c0002row0_col3{\n",
              "            background-color:  #f6bda2;\n",
              "            color:  #000000;\n",
              "        }#T_85209a7a_6561_11eb_aa6b_0242ac1c0002row1_col0,#T_85209a7a_6561_11eb_aa6b_0242ac1c0002row1_col3,#T_85209a7a_6561_11eb_aa6b_0242ac1c0002row3_col1,#T_85209a7a_6561_11eb_aa6b_0242ac1c0002row3_col2{\n",
              "            background-color:  #3b4cc0;\n",
              "            color:  #f1f1f1;\n",
              "        }#T_85209a7a_6561_11eb_aa6b_0242ac1c0002row1_col2{\n",
              "            background-color:  #dd5f4b;\n",
              "            color:  #000000;\n",
              "        }#T_85209a7a_6561_11eb_aa6b_0242ac1c0002row2_col0{\n",
              "            background-color:  #6384eb;\n",
              "            color:  #000000;\n",
              "        }#T_85209a7a_6561_11eb_aa6b_0242ac1c0002row2_col1{\n",
              "            background-color:  #d65244;\n",
              "            color:  #000000;\n",
              "        }#T_85209a7a_6561_11eb_aa6b_0242ac1c0002row2_col3{\n",
              "            background-color:  #7396f5;\n",
              "            color:  #000000;\n",
              "        }#T_85209a7a_6561_11eb_aa6b_0242ac1c0002row3_col0{\n",
              "            background-color:  #f2cab5;\n",
              "            color:  #000000;\n",
              "        }</style><table id=\"T_85209a7a_6561_11eb_aa6b_0242ac1c0002\" ><thead>    <tr>        <th class=\"blank level0\" ></th>        <th class=\"col_heading level0 col0\" >PRCP</th>        <th class=\"col_heading level0 col1\" >TMAX</th>        <th class=\"col_heading level0 col2\" >TMIN</th>        <th class=\"col_heading level0 col3\" >RAIN</th>    </tr></thead><tbody>\n",
              "                <tr>\n",
              "                        <th id=\"T_85209a7a_6561_11eb_aa6b_0242ac1c0002level0_row0\" class=\"row_heading level0 row0\" >PRCP</th>\n",
              "                        <td id=\"T_85209a7a_6561_11eb_aa6b_0242ac1c0002row0_col0\" class=\"data row0 col0\" >1.000000</td>\n",
              "                        <td id=\"T_85209a7a_6561_11eb_aa6b_0242ac1c0002row0_col1\" class=\"data row0 col1\" >-0.226736</td>\n",
              "                        <td id=\"T_85209a7a_6561_11eb_aa6b_0242ac1c0002row0_col2\" class=\"data row0 col2\" >-0.064365</td>\n",
              "                        <td id=\"T_85209a7a_6561_11eb_aa6b_0242ac1c0002row0_col3\" class=\"data row0 col3\" >0.515160</td>\n",
              "            </tr>\n",
              "            <tr>\n",
              "                        <th id=\"T_85209a7a_6561_11eb_aa6b_0242ac1c0002level0_row1\" class=\"row_heading level0 row1\" >TMAX</th>\n",
              "                        <td id=\"T_85209a7a_6561_11eb_aa6b_0242ac1c0002row1_col0\" class=\"data row1 col0\" >-0.226736</td>\n",
              "                        <td id=\"T_85209a7a_6561_11eb_aa6b_0242ac1c0002row1_col1\" class=\"data row1 col1\" >1.000000</td>\n",
              "                        <td id=\"T_85209a7a_6561_11eb_aa6b_0242ac1c0002row1_col2\" class=\"data row1 col2\" >0.860675</td>\n",
              "                        <td id=\"T_85209a7a_6561_11eb_aa6b_0242ac1c0002row1_col3\" class=\"data row1 col3\" >-0.389241</td>\n",
              "            </tr>\n",
              "            <tr>\n",
              "                        <th id=\"T_85209a7a_6561_11eb_aa6b_0242ac1c0002level0_row2\" class=\"row_heading level0 row2\" >TMIN</th>\n",
              "                        <td id=\"T_85209a7a_6561_11eb_aa6b_0242ac1c0002row2_col0\" class=\"data row2 col0\" >-0.064365</td>\n",
              "                        <td id=\"T_85209a7a_6561_11eb_aa6b_0242ac1c0002row2_col1\" class=\"data row2 col1\" >0.860675</td>\n",
              "                        <td id=\"T_85209a7a_6561_11eb_aa6b_0242ac1c0002row2_col2\" class=\"data row2 col2\" >1.000000</td>\n",
              "                        <td id=\"T_85209a7a_6561_11eb_aa6b_0242ac1c0002row2_col3\" class=\"data row2 col3\" >-0.139905</td>\n",
              "            </tr>\n",
              "            <tr>\n",
              "                        <th id=\"T_85209a7a_6561_11eb_aa6b_0242ac1c0002level0_row3\" class=\"row_heading level0 row3\" >RAIN</th>\n",
              "                        <td id=\"T_85209a7a_6561_11eb_aa6b_0242ac1c0002row3_col0\" class=\"data row3 col0\" >0.515160</td>\n",
              "                        <td id=\"T_85209a7a_6561_11eb_aa6b_0242ac1c0002row3_col1\" class=\"data row3 col1\" >-0.389241</td>\n",
              "                        <td id=\"T_85209a7a_6561_11eb_aa6b_0242ac1c0002row3_col2\" class=\"data row3 col2\" >-0.139905</td>\n",
              "                        <td id=\"T_85209a7a_6561_11eb_aa6b_0242ac1c0002row3_col3\" class=\"data row3 col3\" >1.000000</td>\n",
              "            </tr>\n",
              "    </tbody></table>"
            ],
            "text/plain": [
              "<pandas.io.formats.style.Styler at 0x7f770e92b748>"
            ]
          },
          "metadata": {
            "tags": []
          },
          "execution_count": 14
        }
      ]
    },
    {
      "cell_type": "code",
      "metadata": {
        "id": "_rjI9vTrSW0R",
        "colab": {
          "base_uri": "https://localhost:8080/",
          "height": 603
        },
        "outputId": "67cd3fa8-ccfc-4473-fd5a-f7266cfdab8d"
      },
      "source": [
        "# pairplot \r\n",
        "sns.pairplot(df, hue='RAIN')"
      ],
      "execution_count": 15,
      "outputs": [
        {
          "output_type": "stream",
          "text": [
            "/usr/local/lib/python3.6/dist-packages/seaborn/distributions.py:306: UserWarning: Dataset has 0 variance; skipping density estimate.\n",
            "  warnings.warn(msg, UserWarning)\n"
          ],
          "name": "stderr"
        },
        {
          "output_type": "execute_result",
          "data": {
            "text/plain": [
              "<seaborn.axisgrid.PairGrid at 0x7f770e92b550>"
            ]
          },
          "metadata": {
            "tags": []
          },
          "execution_count": 15
        },
        {
          "output_type": "display_data",
          "data": {
            "image/png": "[encoded data removed]",
            "text/plain": [
              "<Figure size 582.375x540 with 12 Axes>"
            ]
          },
          "metadata": {
            "tags": [],
            "needs_background": "light"
          }
        }
      ]
    },
    {
      "cell_type": "code",
      "metadata": {
        "colab": {
          "base_uri": "https://localhost:8080/"
        },
        "id": "3fQIbYv5A6mW",
        "outputId": "30e1ee40-82e5-409f-d040-0a47437d3074"
      },
      "source": [
        "df['RAIN'].unique()"
      ],
      "execution_count": 16,
      "outputs": [
        {
          "output_type": "execute_result",
          "data": {
            "text/plain": [
              "array([1, 0])"
            ]
          },
          "metadata": {
            "tags": []
          },
          "execution_count": 16
        }
      ]
    },
    {
      "cell_type": "code",
      "metadata": {
        "id": "v0i8HnN6IjTs",
        "colab": {
          "base_uri": "https://localhost:8080/",
          "height": 428
        },
        "outputId": "8dfa38e0-ffa7-4d2e-eb9a-fb0a2106e46d"
      },
      "source": [
        "r = df.RAIN.value_counts()\r\n",
        "plt.figure(figsize=(10,7))\r\n",
        "r.plot.pie(autopct='%.1f%%', labels=['Rain', 'Not Rain'], colors = cs).set_title('When will Rain and will not', fontsize=15);"
      ],
      "execution_count": 17,
      "outputs": [
        {
          "output_type": "display_data",
          "data": {
            "image/png": "[encoded data removed]",
            "text/plain": [
              "<Figure size 720x504 with 1 Axes>"
            ]
          },
          "metadata": {
            "tags": []
          }
        }
      ]
    },
    {
      "cell_type": "markdown",
      "metadata": {
        "id": "FW44-tCOSgnF"
      },
      "source": [
        "4. Perform any data prep that needs to be done before splitting...\r\n",
        "\r\n",
        "Note: may not be necessary, may require more cells"
      ]
    },
    {
      "cell_type": "markdown",
      "metadata": {
        "id": "9IhRygRcJBBy"
      },
      "source": [
        "5. Split your data into training and testing datasets..."
      ]
    },
    {
      "cell_type": "code",
      "metadata": {
        "id": "k8igHaRaIjMF"
      },
      "source": [
        "from sklearn.model_selection import train_test_split\r\n",
        "\r\n",
        "X = df['PRCP']\r\n",
        "y = df.RAIN\r\n",
        "\r\n",
        "X_train, X_test, y_train, y_test = train_test_split(X, y, train_size=0.7)"
      ],
      "execution_count": 18,
      "outputs": []
    },
    {
      "cell_type": "markdown",
      "metadata": {
        "id": "vAEzLu-7ItC5"
      },
      "source": [
        "6. Import, create, and fit a LogisticRegression model with 1 variable"
      ]
    },
    {
      "cell_type": "code",
      "metadata": {
        "id": "34aVrxcNIv4d"
      },
      "source": [
        "from sklearn.linear_model import LogisticRegression"
      ],
      "execution_count": 19,
      "outputs": []
    },
    {
      "cell_type": "code",
      "metadata": {
        "id": "vwu1bH1_JK6V"
      },
      "source": [
        "lr = LogisticRegression()"
      ],
      "execution_count": 20,
      "outputs": []
    },
    {
      "cell_type": "code",
      "metadata": {
        "colab": {
          "base_uri": "https://localhost:8080/"
        },
        "id": "np-U-IEDjyqw",
        "outputId": "3be8568b-6f83-4170-af5e-0b49e3aba1ce"
      },
      "source": [
        "lr.fit(pd.DataFrame(X_train), y_train)"
      ],
      "execution_count": 21,
      "outputs": [
        {
          "output_type": "execute_result",
          "data": {
            "text/plain": [
              "LogisticRegression(C=1.0, class_weight=None, dual=False, fit_intercept=True,\n",
              "                   intercept_scaling=1, l1_ratio=None, max_iter=100,\n",
              "                   multi_class='auto', n_jobs=None, penalty='l2',\n",
              "                   random_state=None, solver='lbfgs', tol=0.0001, verbose=0,\n",
              "                   warm_start=False)"
            ]
          },
          "metadata": {
            "tags": []
          },
          "execution_count": 21
        }
      ]
    },
    {
      "cell_type": "markdown",
      "metadata": {
        "id": "C4jtgDpVIysR"
      },
      "source": [
        "6. Make predictions on your `X_test` values..."
      ]
    },
    {
      "cell_type": "code",
      "metadata": {
        "id": "6n7j9lyYJQhj"
      },
      "source": [
        "preds = lr.predict(pd.DataFrame(X_test))"
      ],
      "execution_count": 22,
      "outputs": []
    },
    {
      "cell_type": "code",
      "metadata": {
        "colab": {
          "base_uri": "https://localhost:8080/"
        },
        "id": "wmkV1fCZkNMZ",
        "outputId": "8d66d277-a60c-4027-ce9a-de112f1ad2cd"
      },
      "source": [
        "preds[:-5]"
      ],
      "execution_count": 23,
      "outputs": [
        {
          "output_type": "execute_result",
          "data": {
            "text/plain": [
              "array([0, 0, 0, ..., 0, 0, 0])"
            ]
          },
          "metadata": {
            "tags": []
          },
          "execution_count": 23
        }
      ]
    },
    {
      "cell_type": "code",
      "metadata": {
        "id": "Yt0ohN6bJR9s",
        "colab": {
          "base_uri": "https://localhost:8080/"
        },
        "outputId": "5f1bb350-732d-445a-eaf5-72a16de2be32"
      },
      "source": [
        "# what do they look like? (show me some of the predictions)\r\n",
        "preds[:-5]"
      ],
      "execution_count": 24,
      "outputs": [
        {
          "output_type": "execute_result",
          "data": {
            "text/plain": [
              "array([0, 0, 0, ..., 0, 0, 0])"
            ]
          },
          "metadata": {
            "tags": []
          },
          "execution_count": 24
        }
      ]
    },
    {
      "cell_type": "markdown",
      "metadata": {
        "id": "0MH2sdLGJYGo"
      },
      "source": [
        "7. Score your model...\r\n",
        "- accuracy_score"
      ]
    },
    {
      "cell_type": "code",
      "metadata": {
        "id": "qzEn_dRzJW7z",
        "colab": {
          "base_uri": "https://localhost:8080/"
        },
        "outputId": "f70ffc85-6e15-46a1-8a9e-2d510d6e3e0c"
      },
      "source": [
        "from sklearn.metrics import accuracy_score\r\n",
        "\r\n",
        "acc = accuracy_score(y_test, lr.predict(pd.DataFrame(X_test)))\r\n",
        "print(\"Accuracy is {:.2f}%\".format(acc*100))"
      ],
      "execution_count": 25,
      "outputs": [
        {
          "output_type": "stream",
          "text": [
            "Accuracy is 91.51%\n"
          ],
          "name": "stdout"
        }
      ]
    },
    {
      "cell_type": "markdown",
      "metadata": {
        "id": "ByqHfC94UyGl"
      },
      "source": [
        "8. Confustion Matrix"
      ]
    },
    {
      "cell_type": "code",
      "metadata": {
        "id": "eTgWdLT1JgFj",
        "colab": {
          "base_uri": "https://localhost:8080/",
          "height": 281
        },
        "outputId": "d435208d-4962-4248-8111-950f1a06acc5"
      },
      "source": [
        "from sklearn.metrics import confusion_matrix\r\n",
        "cf = confusion_matrix(y_test, lr.predict(pd.DataFrame(X_test)))\r\n",
        "\r\n",
        "names =  ['TN', 'FP', 'FN','TP']\r\n",
        "perc = [\"{0:.2%}\".format(value) for value in\r\n",
        "                     cf.flatten()/np.sum(cf)]\r\n",
        "labels = [f\"{v1}\\n{v2}\" for v1, v2 in\r\n",
        "          zip(names, perc)]\r\n",
        "labels = np.asarray(labels).reshape(2,2)\r\n",
        "\r\n",
        "plt.figure(figsize=(6,4))\r\n",
        "plt.rcParams.update({'font.size': 10})\r\n",
        "sns.heatmap(cf, annot=labels, fmt='', cmap='Set2').set_title(\"Confusion Matrix\");"
      ],
      "execution_count": 26,
      "outputs": [
        {
          "output_type": "display_data",
          "data": {
            "image/png": "[encoded data removed]",
            "text/plain": [
              "<Figure size 432x288 with 2 Axes>"
            ]
          },
          "metadata": {
            "tags": [],
            "needs_background": "light"
          }
        }
      ]
    },
    {
      "cell_type": "code",
      "metadata": {
        "colab": {
          "base_uri": "https://localhost:8080/",
          "height": 296
        },
        "id": "GsGfzkauk35f",
        "outputId": "bd44b814-d5d7-4acd-d324-9e2f4d668853"
      },
      "source": [
        "# confusion matrix by sklearn\r\n",
        "from sklearn.metrics import plot_confusion_matrix\r\n",
        "plot_confusion_matrix(lr, X=pd.DataFrame(X_test), y_true=y_test, cmap='Set3')"
      ],
      "execution_count": 27,
      "outputs": [
        {
          "output_type": "execute_result",
          "data": {
            "text/plain": [
              "<sklearn.metrics._plot.confusion_matrix.ConfusionMatrixDisplay at 0x7f7701e90c18>"
            ]
          },
          "metadata": {
            "tags": []
          },
          "execution_count": 27
        },
        {
          "output_type": "display_data",
          "data": {
            "image/png": "[encoded data removed]",
            "text/plain": [
              "<Figure size 432x288 with 2 Axes>"
            ]
          },
          "metadata": {
            "tags": [],
            "needs_background": "light"
          }
        }
      ]
    },
    {
      "cell_type": "markdown",
      "metadata": {
        "id": "hOAwLlniU1Oy"
      },
      "source": [
        "9. Explain your confusion matrix...\r\n",
        "- How many of each value (TP, FP, TN, FN) do you have?\r\n",
        "- What does each mean?\r\n"
      ]
    },
    {
      "cell_type": "markdown",
      "metadata": {
        "id": "CEC-Sju8VH2P"
      },
      "source": [
        "  **TN: 57.25%**\\\r\n",
        "  **FP: 0.00%**\\\r\n",
        "  **FN: 8.10%**\\\r\n",
        "  **TP: 34.65%**"
      ]
    },
    {
      "cell_type": "markdown",
      "metadata": {
        "id": "7VofTItTVH-e"
      },
      "source": [
        "**TN** = predicted NOT RAIN , is NOT RAIN\\\r\n",
        "**FP** = predicted RAIN, is NOT RAIN\\\r\n",
        "**FN** = predicted NOT RAIN, is RAIN\\\r\n",
        "**TP** = predicted RAIN, is RAIN"
      ]
    },
    {
      "cell_type": "markdown",
      "metadata": {
        "id": "KDpe83ogJgg3"
      },
      "source": [
        "10. Create, and fit a LogisticRegression model with **more than** 1 variable"
      ]
    },
    {
      "cell_type": "code",
      "metadata": {
        "id": "ihXsRPtTJp7m"
      },
      "source": [
        "from sklearn.model_selection import train_test_split\r\n",
        "\r\n",
        "vars = ['PRCP', 'TMAX', 'TMIN']  \r\n",
        "\r\n",
        "X = df[vars]\r\n",
        "y = df.RAIN\r\n",
        "\r\n",
        "X_train, X_test, y_train, y_test = train_test_split(X, y, train_size=0.7)"
      ],
      "execution_count": 28,
      "outputs": []
    },
    {
      "cell_type": "code",
      "metadata": {
        "id": "7q6mkOr6JsAk",
        "colab": {
          "base_uri": "https://localhost:8080/"
        },
        "outputId": "16889b4e-fd73-4755-9979-0effe88ac12c"
      },
      "source": [
        "lr.fit(X_train, y_train)"
      ],
      "execution_count": 29,
      "outputs": [
        {
          "output_type": "execute_result",
          "data": {
            "text/plain": [
              "LogisticRegression(C=1.0, class_weight=None, dual=False, fit_intercept=True,\n",
              "                   intercept_scaling=1, l1_ratio=None, max_iter=100,\n",
              "                   multi_class='auto', n_jobs=None, penalty='l2',\n",
              "                   random_state=None, solver='lbfgs', tol=0.0001, verbose=0,\n",
              "                   warm_start=False)"
            ]
          },
          "metadata": {
            "tags": []
          },
          "execution_count": 29
        }
      ]
    },
    {
      "cell_type": "markdown",
      "metadata": {
        "id": "SJCKwpNXJutC"
      },
      "source": [
        "11. Make predictions on your `X_test` values..."
      ]
    },
    {
      "cell_type": "code",
      "metadata": {
        "id": "IdGtbPJJJvjd"
      },
      "source": [
        "preds= lr.predict(X_test)"
      ],
      "execution_count": 30,
      "outputs": []
    },
    {
      "cell_type": "code",
      "metadata": {
        "id": "V8fRIPrqJzF5",
        "colab": {
          "base_uri": "https://localhost:8080/"
        },
        "outputId": "f9289f11-f519-44fb-e71c-27ea087d0900"
      },
      "source": [
        "# what do they look like? (show me some of the predictions)\r\n",
        "preds[:-5]"
      ],
      "execution_count": 31,
      "outputs": [
        {
          "output_type": "execute_result",
          "data": {
            "text/plain": [
              "array([0, 1, 0, ..., 0, 0, 1])"
            ]
          },
          "metadata": {
            "tags": []
          },
          "execution_count": 31
        }
      ]
    },
    {
      "cell_type": "markdown",
      "metadata": {
        "id": "8rdbAft1JzZR"
      },
      "source": [
        "12. Score your model...\r\n",
        "- accuracy_score\r\n"
      ]
    },
    {
      "cell_type": "code",
      "metadata": {
        "id": "uQn0WPxbJ1wi",
        "colab": {
          "base_uri": "https://localhost:8080/"
        },
        "outputId": "a7694f0a-a026-49b8-a109-05e6304c5ed6"
      },
      "source": [
        "acc = accuracy_score(y_test, lr.predict(pd.DataFrame(X_test)))\r\n",
        "print(\"Accuracy is {:.2f}%\".format(acc*100))"
      ],
      "execution_count": 32,
      "outputs": [
        {
          "output_type": "stream",
          "text": [
            "Accuracy is 92.77%\n"
          ],
          "name": "stdout"
        }
      ]
    },
    {
      "cell_type": "markdown",
      "metadata": {
        "id": "HOtpGH7oVTSb"
      },
      "source": [
        "13.  Confustion Matrix"
      ]
    },
    {
      "cell_type": "code",
      "metadata": {
        "id": "wGAaIzfaJ16p",
        "colab": {
          "base_uri": "https://localhost:8080/",
          "height": 281
        },
        "outputId": "484265ce-3790-4a5f-d75e-92abaa606399"
      },
      "source": [
        "from sklearn.metrics import confusion_matrix\r\n",
        "cf = confusion_matrix(y_test, lr.predict(pd.DataFrame(X_test)))\r\n",
        "\r\n",
        "names =  ['TN', 'FP', 'FN','TP']\r\n",
        "perc = [\"{0:.2%}\".format(value) for value in\r\n",
        "                     cf.flatten()/np.sum(cf)]\r\n",
        "labels = [f\"{v1}\\n{v2}\" for v1, v2 in\r\n",
        "          zip(names, perc)]\r\n",
        "labels = np.asarray(labels).reshape(2,2)\r\n",
        "\r\n",
        "plt.figure(figsize=(6,4))\r\n",
        "plt.rcParams.update({'font.size': 10})\r\n",
        "sns.heatmap(cf, annot=labels, fmt='', cmap='Set2').set_title(\"Confusion Matrix\");"
      ],
      "execution_count": 33,
      "outputs": [
        {
          "output_type": "display_data",
          "data": {
            "image/png": "[encoded data removed]",
            "text/plain": [
              "<Figure size 432x288 with 2 Axes>"
            ]
          },
          "metadata": {
            "tags": [],
            "needs_background": "light"
          }
        }
      ]
    },
    {
      "cell_type": "code",
      "metadata": {
        "colab": {
          "base_uri": "https://localhost:8080/",
          "height": 296
        },
        "id": "EhfQLOJz61At",
        "outputId": "8e1664e5-c9fa-40aa-98e5-b1d87966eb35"
      },
      "source": [
        "# confusion matrix by sklearn\r\n",
        "from sklearn.metrics import plot_confusion_matrix\r\n",
        "plot_confusion_matrix(lr, X=X_test, y_true=y_test, cmap='Set3')"
      ],
      "execution_count": 34,
      "outputs": [
        {
          "output_type": "execute_result",
          "data": {
            "text/plain": [
              "<sklearn.metrics._plot.confusion_matrix.ConfusionMatrixDisplay at 0x7f77016388d0>"
            ]
          },
          "metadata": {
            "tags": []
          },
          "execution_count": 34
        },
        {
          "output_type": "display_data",
          "data": {
            "image/png": "[encoded data removed]",
            "text/plain": [
              "<Figure size 432x288 with 2 Axes>"
            ]
          },
          "metadata": {
            "tags": [],
            "needs_background": "light"
          }
        }
      ]
    },
    {
      "cell_type": "markdown",
      "metadata": {
        "id": "LWBRPlaWVb7C"
      },
      "source": [
        "14.  Explain your confusion matrix...\r\n",
        "- How many of each value do you have?\r\n",
        "- What does each mean?"
      ]
    },
    {
      "cell_type": "markdown",
      "metadata": {
        "id": "VYoo9RkPVkaA"
      },
      "source": [
        "  **TN: 57.03%**\\\r\n",
        "  **FP: 0.26%**\\\r\n",
        "  **FN: 7.19%**\\\r\n",
        "  **TP: 35.53%**"
      ]
    },
    {
      "cell_type": "markdown",
      "metadata": {
        "id": "yR071X0VVkkT"
      },
      "source": [
        "**TN** = predicted NOT RAIN , is NOT RAIN\\\r\n",
        "**FP** = predicted RAIN, is NOT RAIN\\\r\n",
        "**FN** = predicted NOT RAIN, is RAIN\\\r\n",
        "**TP** = predicted RAIN, is RAIN"
      ]
    },
    {
      "cell_type": "markdown",
      "metadata": {
        "id": "mdnhA-_aJ2QG"
      },
      "source": [
        "15. Which model is better? Why?"
      ]
    },
    {
      "cell_type": "markdown",
      "metadata": {
        "id": "385yTrGvKJ2I"
      },
      "source": [
        "Actually, there is no significant difference between the two models, because we got 91.90% in the first and 92.55% in the second one."
      ]
    },
    {
      "cell_type": "markdown",
      "metadata": {
        "id": "V_SRt8NQVwsI"
      },
      "source": [
        "## Bonus"
      ]
    },
    {
      "cell_type": "markdown",
      "metadata": {
        "id": "YXq7N9wPKISw"
      },
      "source": [
        "16. Perform GridSearchCV with the better data"
      ]
    },
    {
      "cell_type": "code",
      "metadata": {
        "id": "JQI1-xzHKZ5t"
      },
      "source": [
        "from sklearn.model_selection import GridSearchCV"
      ],
      "execution_count": 35,
      "outputs": []
    },
    {
      "cell_type": "code",
      "metadata": {
        "id": "ZuD63G_ARo0U"
      },
      "source": [
        "p_grid = {'fit_intercept': [True, False], 'max_iter': [100, 250, 1000, 10000]}"
      ],
      "execution_count": 36,
      "outputs": []
    },
    {
      "cell_type": "code",
      "metadata": {
        "id": "rkVFXnrORpMN",
        "colab": {
          "base_uri": "https://localhost:8080/"
        },
        "outputId": "02025faa-2fae-4cc4-8fbc-9602d20d33dc"
      },
      "source": [
        "grid = GridSearchCV(lr, p_grid)\r\n",
        "grid"
      ],
      "execution_count": 37,
      "outputs": [
        {
          "output_type": "execute_result",
          "data": {
            "text/plain": [
              "GridSearchCV(cv=None, error_score=nan,\n",
              "             estimator=LogisticRegression(C=1.0, class_weight=None, dual=False,\n",
              "                                          fit_intercept=True,\n",
              "                                          intercept_scaling=1, l1_ratio=None,\n",
              "                                          max_iter=100, multi_class='auto',\n",
              "                                          n_jobs=None, penalty='l2',\n",
              "                                          random_state=None, solver='lbfgs',\n",
              "                                          tol=0.0001, verbose=0,\n",
              "                                          warm_start=False),\n",
              "             iid='deprecated', n_jobs=None,\n",
              "             param_grid={'fit_intercept': [True, False],\n",
              "                         'max_iter': [100, 250, 1000, 10000]},\n",
              "             pre_dispatch='2*n_jobs', refit=True, return_train_score=False,\n",
              "             scoring=None, verbose=0)"
            ]
          },
          "metadata": {
            "tags": []
          },
          "execution_count": 37
        }
      ]
    },
    {
      "cell_type": "markdown",
      "metadata": {
        "id": "OkFfmndgKagk"
      },
      "source": [
        "17. Update the hyperparameters of your model (create and fit a new model with the results of GridSerachCV)"
      ]
    },
    {
      "cell_type": "code",
      "metadata": {
        "id": "W_Gov4HSrxYb"
      },
      "source": [
        "p_grid = {'fit_intercept': [True], 'max_iter':[100]}"
      ],
      "execution_count": 38,
      "outputs": []
    },
    {
      "cell_type": "code",
      "metadata": {
        "id": "CA70LFOFr5Xm"
      },
      "source": [
        "grid = GridSearchCV(lr, cv=10, verbose=1, param_grid=p_grid)"
      ],
      "execution_count": 39,
      "outputs": []
    },
    {
      "cell_type": "code",
      "metadata": {
        "id": "tMbtfYrsKg7u",
        "colab": {
          "base_uri": "https://localhost:8080/"
        },
        "outputId": "5fac1bde-c0e4-4198-c713-64a4d316f132"
      },
      "source": [
        "grid.fit(X_train, y_train)"
      ],
      "execution_count": 40,
      "outputs": [
        {
          "output_type": "stream",
          "text": [
            "Fitting 10 folds for each of 1 candidates, totalling 10 fits\n"
          ],
          "name": "stdout"
        },
        {
          "output_type": "stream",
          "text": [
            "[Parallel(n_jobs=1)]: Using backend SequentialBackend with 1 concurrent workers.\n",
            "[Parallel(n_jobs=1)]: Done  10 out of  10 | elapsed:    1.4s finished\n"
          ],
          "name": "stderr"
        },
        {
          "output_type": "execute_result",
          "data": {
            "text/plain": [
              "GridSearchCV(cv=10, error_score=nan,\n",
              "             estimator=LogisticRegression(C=1.0, class_weight=None, dual=False,\n",
              "                                          fit_intercept=True,\n",
              "                                          intercept_scaling=1, l1_ratio=None,\n",
              "                                          max_iter=100, multi_class='auto',\n",
              "                                          n_jobs=None, penalty='l2',\n",
              "                                          random_state=None, solver='lbfgs',\n",
              "                                          tol=0.0001, verbose=0,\n",
              "                                          warm_start=False),\n",
              "             iid='deprecated', n_jobs=None,\n",
              "             param_grid={'fit_intercept': [True], 'max_iter': [100]},\n",
              "             pre_dispatch='2*n_jobs', refit=True, return_train_score=False,\n",
              "             scoring=None, verbose=1)"
            ]
          },
          "metadata": {
            "tags": []
          },
          "execution_count": 40
        }
      ]
    },
    {
      "cell_type": "code",
      "metadata": {
        "colab": {
          "base_uri": "https://localhost:8080/"
        },
        "id": "_TXeEug3rrt6",
        "outputId": "ca0d5d71-ec4e-4675-ed89-c7f12a9c971c"
      },
      "source": [
        "grid.best_params_"
      ],
      "execution_count": 41,
      "outputs": [
        {
          "output_type": "execute_result",
          "data": {
            "text/plain": [
              "{'fit_intercept': True, 'max_iter': 100}"
            ]
          },
          "metadata": {
            "tags": []
          },
          "execution_count": 41
        }
      ]
    },
    {
      "cell_type": "markdown",
      "metadata": {
        "id": "RTih62jiKhHd"
      },
      "source": [
        "14. Accuracy Score and Confusion Matrix"
      ]
    },
    {
      "cell_type": "code",
      "metadata": {
        "id": "bHglwkVGKkW7",
        "colab": {
          "base_uri": "https://localhost:8080/"
        },
        "outputId": "dad42683-518a-4c97-cc46-4297c6080a1a"
      },
      "source": [
        "acc = accuracy_score(y_test, lr.predict(pd.DataFrame(X_test)))\r\n",
        "print(\"Accuracy is {:.2f}%\".format(acc*100))"
      ],
      "execution_count": 42,
      "outputs": [
        {
          "output_type": "stream",
          "text": [
            "Accuracy is 92.77%\n"
          ],
          "name": "stdout"
        }
      ]
    },
    {
      "cell_type": "code",
      "metadata": {
        "id": "AgsbHIhqKoQr",
        "colab": {
          "base_uri": "https://localhost:8080/",
          "height": 281
        },
        "outputId": "d20cdd75-7370-4894-c720-c68320b0315a"
      },
      "source": [
        "cf = confusion_matrix(y_test, lr.predict(pd.DataFrame(X_test)))\r\n",
        "\r\n",
        "names =  ['TN', 'FP', 'FN','TP']\r\n",
        "perc = [\"{0:.2%}\".format(value) for value in\r\n",
        "                     cf.flatten()/np.sum(cf)]\r\n",
        "labels = [f\"{v1}\\n{v2}\" for v1, v2 in\r\n",
        "          zip(names, perc)]\r\n",
        "labels = np.asarray(labels).reshape(2,2)\r\n",
        "\r\n",
        "plt.figure(figsize=(6,4))\r\n",
        "plt.rcParams.update({'font.size': 10})\r\n",
        "sns.heatmap(cf, annot=labels, fmt='', cmap='Set3').set_title(\"Confusion Matrix\");"
      ],
      "execution_count": 43,
      "outputs": [
        {
          "output_type": "display_data",
          "data": {
            "image/png": "[encoded data removed]",
            "text/plain": [
              "<Figure size 432x288 with 2 Axes>"
            ]
          },
          "metadata": {
            "tags": [],
            "needs_background": "light"
          }
        }
      ]
    },
    {
      "cell_type": "code",
      "metadata": {
        "colab": {
          "base_uri": "https://localhost:8080/",
          "height": 296
        },
        "id": "1yMVIBA66vNK",
        "outputId": "027ff782-9568-4121-ae05-7f41e498d61c"
      },
      "source": [
        "# confusion matrix by sklearn\r\n",
        "from sklearn.metrics import plot_confusion_matrix\r\n",
        "plot_confusion_matrix(lr, X=X_test, y_true=y_test, cmap='Set3')"
      ],
      "execution_count": 44,
      "outputs": [
        {
          "output_type": "execute_result",
          "data": {
            "text/plain": [
              "<sklearn.metrics._plot.confusion_matrix.ConfusionMatrixDisplay at 0x7f7701507978>"
            ]
          },
          "metadata": {
            "tags": []
          },
          "execution_count": 44
        },
        {
          "output_type": "display_data",
          "data": {
            "image/png": "[encoded data removed]",
            "text/plain": [
              "<Figure size 432x288 with 2 Axes>"
            ]
          },
          "metadata": {
            "tags": [],
            "needs_background": "light"
          }
        }
      ]
    },
    {
      "cell_type": "markdown",
      "metadata": {
        "id": "c3uY8_MnKpXQ"
      },
      "source": [
        "Did the score change at all? Why?"
      ]
    },
    {
      "cell_type": "markdown",
      "metadata": {
        "id": "8xeiVnQSKtYa"
      },
      "source": [
        "Actually, there is no difference between the two models, because we got the same accuercy in both with 92.55% approximately."
      ]
    },
    {
      "cell_type": "markdown",
      "metadata": {
        "id": "0ja0rEIVe10m"
      },
      "source": [
        "### Bonus Bonus\r\n",
        "Figure out ROC plot. Tell me about it."
      ]
    },
    {
      "cell_type": "code",
      "metadata": {
        "id": "7SZUjuQBu2Q3"
      },
      "source": [
        "from sklearn import metrics\r\n",
        "from sklearn.metrics import roc_curve\r\n",
        "from sklearn.metrics import roc_auc_score"
      ],
      "execution_count": 45,
      "outputs": []
    },
    {
      "cell_type": "code",
      "metadata": {
        "id": "WrcH3JE-GDJq"
      },
      "source": [
        "#preds = lr.predict_proba(X_test)"
      ],
      "execution_count": 46,
      "outputs": []
    },
    {
      "cell_type": "code",
      "metadata": {
        "id": "4ayVZFQjGbP5"
      },
      "source": [
        "#preds"
      ],
      "execution_count": 47,
      "outputs": []
    },
    {
      "cell_type": "code",
      "metadata": {
        "id": "hAA4mqNle_ga"
      },
      "source": [
        "fpr, tpr, thresholds = roc_curve(y_test, preds)"
      ],
      "execution_count": 48,
      "outputs": []
    },
    {
      "cell_type": "code",
      "metadata": {
        "colab": {
          "base_uri": "https://localhost:8080/",
          "height": 312
        },
        "id": "UA1bD_4uxIb0",
        "outputId": "64171a1e-d09f-4b32-bf7d-eca0a5158e50"
      },
      "source": [
        "plt.plot(fpr, tpr, color='red', label='ROC')\r\n",
        "plt.plot([0, 1], [0, 1], color='darkblue', linestyle='--')\r\n",
        "plt.xlabel('False Positive Rate')\r\n",
        "plt.ylabel('True Positive Rate')\r\n",
        "plt.title('ROC Curve')\r\n",
        "plt.legend()\r\n",
        "plt.show()\r\n",
        "roc_auc = auc(fpr, tpr)\r\n",
        "print('Area under thr ROC Curve: %f' % (roc_auc* 100))"
      ],
      "execution_count": 49,
      "outputs": [
        {
          "output_type": "display_data",
          "data": {
            "image/png": "[encoded data removed]",
            "text/plain": [
              "<Figure size 432x288 with 1 Axes>"
            ]
          },
          "metadata": {
            "tags": [],
            "needs_background": "light"
          }
        },
        {
          "output_type": "stream",
          "text": [
            "Area under thr ROC Curve: 91.699260\n"
          ],
          "name": "stdout"
        }
      ]
    },
    {
      "cell_type": "markdown",
      "metadata": {
        "id": "tXyhsaOvWFVi"
      },
      "source": [
        "By far this is the best threshold (0.0, 0.8) that we have got since it predicted no false positives( predicted RAIN, is NOT RAIN)\r\n",
        "\r\n",
        "\r\n",
        "Just by glancing over the graph, we can conclude that threshold (0.0,0.8)  is better than the previous threshold and depending on how many False Positives that we are willing to accept, we can choose the optimal threshold."
      ]
    }
  ]
}