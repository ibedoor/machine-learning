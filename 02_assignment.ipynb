{
  "nbformat": 4,
  "nbformat_minor": 0,
  "metadata": {
    "colab": {
      "name": "02_assignment.ipynb",
      "provenance": [],
      "include_colab_link": true
    },
    "kernelspec": {
      "name": "python3",
      "display_name": "Python 3"
    }
  },
  "cells": [
    {
      "cell_type": "markdown",
      "metadata": {
        "id": "view-in-github",
        "colab_type": "text"
      },
      "source": [
        "<a href=\"https://colab.research.google.com/github/ibedoor/machine-learning/blob/main/02_assignment.ipynb\" target=\"_parent\"><img src=\"https://colab.research.google.com/assets/colab-badge.svg\" alt=\"Open In Colab\"/></a>"
      ]
    },
    {
      "cell_type": "markdown",
      "metadata": {
        "id": "93NOZbbEHw0X"
      },
      "source": [
        "# Linear Regression Assignment\r\n",
        "\r\n",
        "1. Load in a sample of the NYC taxi dataset through this parquet link: `https://github.com/gumdropsteve/datasets/raw/master/nyc_taxi/yellow_tripdata_2019-12.parquet`"
      ]
    },
    {
      "cell_type": "code",
      "metadata": {
        "id": "5QYjsm9EHwTt"
      },
      "source": [
        "import pandas as pd\r\n",
        "df = pd.read_parquet('https://github.com/gumdropsteve/datasets/raw/master/nyc_taxi/yellow_tripdata_2019-12.parquet')"
      ],
      "execution_count": 1,
      "outputs": []
    },
    {
      "cell_type": "code",
      "metadata": {
        "colab": {
          "base_uri": "https://localhost:8080/",
          "height": 217
        },
        "id": "BtndP3-xY1ow",
        "outputId": "6f1cf55b-aaf2-483a-8d3f-c4f4573b3f9b"
      },
      "source": [
        "df.head()"
      ],
      "execution_count": 2,
      "outputs": [
        {
          "output_type": "execute_result",
          "data": {
            "text/html": [
              "<div>\n",
              "<style scoped>\n",
              "    .dataframe tbody tr th:only-of-type {\n",
              "        vertical-align: middle;\n",
              "    }\n",
              "\n",
              "    .dataframe tbody tr th {\n",
              "        vertical-align: top;\n",
              "    }\n",
              "\n",
              "    .dataframe thead th {\n",
              "        text-align: right;\n",
              "    }\n",
              "</style>\n",
              "<table border=\"1\" class=\"dataframe\">\n",
              "  <thead>\n",
              "    <tr style=\"text-align: right;\">\n",
              "      <th></th>\n",
              "      <th>VendorID</th>\n",
              "      <th>tpep_pickup_datetime</th>\n",
              "      <th>tpep_dropoff_datetime</th>\n",
              "      <th>passenger_count</th>\n",
              "      <th>trip_distance</th>\n",
              "      <th>RatecodeID</th>\n",
              "      <th>store_and_fwd_flag</th>\n",
              "      <th>PULocationID</th>\n",
              "      <th>DOLocationID</th>\n",
              "      <th>payment_type</th>\n",
              "      <th>fare_amount</th>\n",
              "      <th>extra</th>\n",
              "      <th>mta_tax</th>\n",
              "      <th>tip_amount</th>\n",
              "      <th>tolls_amount</th>\n",
              "      <th>improvement_surcharge</th>\n",
              "      <th>total_amount</th>\n",
              "      <th>congestion_surcharge</th>\n",
              "    </tr>\n",
              "  </thead>\n",
              "  <tbody>\n",
              "    <tr>\n",
              "      <th>0</th>\n",
              "      <td>1.0</td>\n",
              "      <td>2019-12-21 07:55:21</td>\n",
              "      <td>2019-12-21 08:00:18</td>\n",
              "      <td>1.0</td>\n",
              "      <td>1.20</td>\n",
              "      <td>1.0</td>\n",
              "      <td>N</td>\n",
              "      <td>148</td>\n",
              "      <td>4</td>\n",
              "      <td>2.0</td>\n",
              "      <td>6.5</td>\n",
              "      <td>2.5</td>\n",
              "      <td>0.5</td>\n",
              "      <td>0.00</td>\n",
              "      <td>0.0</td>\n",
              "      <td>0.3</td>\n",
              "      <td>9.80</td>\n",
              "      <td>2.5</td>\n",
              "    </tr>\n",
              "    <tr>\n",
              "      <th>1</th>\n",
              "      <td>1.0</td>\n",
              "      <td>2019-12-08 13:20:45</td>\n",
              "      <td>2019-12-08 13:28:32</td>\n",
              "      <td>1.0</td>\n",
              "      <td>1.10</td>\n",
              "      <td>1.0</td>\n",
              "      <td>N</td>\n",
              "      <td>113</td>\n",
              "      <td>90</td>\n",
              "      <td>1.0</td>\n",
              "      <td>7.0</td>\n",
              "      <td>2.5</td>\n",
              "      <td>0.5</td>\n",
              "      <td>3.00</td>\n",
              "      <td>0.0</td>\n",
              "      <td>0.3</td>\n",
              "      <td>13.30</td>\n",
              "      <td>2.5</td>\n",
              "    </tr>\n",
              "    <tr>\n",
              "      <th>2</th>\n",
              "      <td>2.0</td>\n",
              "      <td>2019-12-28 14:41:40</td>\n",
              "      <td>2019-12-28 14:52:29</td>\n",
              "      <td>1.0</td>\n",
              "      <td>1.12</td>\n",
              "      <td>1.0</td>\n",
              "      <td>N</td>\n",
              "      <td>186</td>\n",
              "      <td>137</td>\n",
              "      <td>2.0</td>\n",
              "      <td>8.0</td>\n",
              "      <td>0.0</td>\n",
              "      <td>0.5</td>\n",
              "      <td>0.00</td>\n",
              "      <td>0.0</td>\n",
              "      <td>0.3</td>\n",
              "      <td>11.30</td>\n",
              "      <td>2.5</td>\n",
              "    </tr>\n",
              "    <tr>\n",
              "      <th>3</th>\n",
              "      <td>2.0</td>\n",
              "      <td>2019-12-05 23:42:35</td>\n",
              "      <td>2019-12-05 23:59:18</td>\n",
              "      <td>2.0</td>\n",
              "      <td>3.80</td>\n",
              "      <td>1.0</td>\n",
              "      <td>N</td>\n",
              "      <td>230</td>\n",
              "      <td>263</td>\n",
              "      <td>1.0</td>\n",
              "      <td>14.5</td>\n",
              "      <td>0.5</td>\n",
              "      <td>0.5</td>\n",
              "      <td>3.66</td>\n",
              "      <td>0.0</td>\n",
              "      <td>0.3</td>\n",
              "      <td>21.96</td>\n",
              "      <td>2.5</td>\n",
              "    </tr>\n",
              "    <tr>\n",
              "      <th>4</th>\n",
              "      <td>1.0</td>\n",
              "      <td>2019-12-13 12:30:25</td>\n",
              "      <td>2019-12-13 12:45:04</td>\n",
              "      <td>2.0</td>\n",
              "      <td>2.10</td>\n",
              "      <td>1.0</td>\n",
              "      <td>N</td>\n",
              "      <td>162</td>\n",
              "      <td>239</td>\n",
              "      <td>1.0</td>\n",
              "      <td>11.5</td>\n",
              "      <td>2.5</td>\n",
              "      <td>0.5</td>\n",
              "      <td>3.00</td>\n",
              "      <td>0.0</td>\n",
              "      <td>0.3</td>\n",
              "      <td>17.80</td>\n",
              "      <td>2.5</td>\n",
              "    </tr>\n",
              "  </tbody>\n",
              "</table>\n",
              "</div>"
            ],
            "text/plain": [
              "   VendorID tpep_pickup_datetime  ... total_amount  congestion_surcharge\n",
              "0       1.0  2019-12-21 07:55:21  ...         9.80                   2.5\n",
              "1       1.0  2019-12-08 13:20:45  ...        13.30                   2.5\n",
              "2       2.0  2019-12-28 14:41:40  ...        11.30                   2.5\n",
              "3       2.0  2019-12-05 23:42:35  ...        21.96                   2.5\n",
              "4       1.0  2019-12-13 12:30:25  ...        17.80                   2.5\n",
              "\n",
              "[5 rows x 18 columns]"
            ]
          },
          "metadata": {
            "tags": []
          },
          "execution_count": 2
        }
      ]
    },
    {
      "cell_type": "markdown",
      "metadata": {
        "id": "5vgZDwSEIDjF"
      },
      "source": [
        "2. Find out some information about the data..."
      ]
    },
    {
      "cell_type": "code",
      "metadata": {
        "id": "LdR4alSHIEFd",
        "colab": {
          "base_uri": "https://localhost:8080/"
        },
        "outputId": "ea3cde3f-4467-4e84-c2dd-a4f805ae1a01"
      },
      "source": [
        "df.info()"
      ],
      "execution_count": 3,
      "outputs": [
        {
          "output_type": "stream",
          "text": [
            "<class 'pandas.core.frame.DataFrame'>\n",
            "RangeIndex: 482742 entries, 0 to 482741\n",
            "Data columns (total 18 columns):\n",
            " #   Column                 Non-Null Count   Dtype  \n",
            "---  ------                 --------------   -----  \n",
            " 0   VendorID               479098 non-null  float64\n",
            " 1   tpep_pickup_datetime   482742 non-null  object \n",
            " 2   tpep_dropoff_datetime  482742 non-null  object \n",
            " 3   passenger_count        479098 non-null  float64\n",
            " 4   trip_distance          482742 non-null  float64\n",
            " 5   RatecodeID             479098 non-null  float64\n",
            " 6   store_and_fwd_flag     479098 non-null  object \n",
            " 7   PULocationID           482742 non-null  int64  \n",
            " 8   DOLocationID           482742 non-null  int64  \n",
            " 9   payment_type           479098 non-null  float64\n",
            " 10  fare_amount            482742 non-null  float64\n",
            " 11  extra                  482742 non-null  float64\n",
            " 12  mta_tax                482742 non-null  float64\n",
            " 13  tip_amount             482742 non-null  float64\n",
            " 14  tolls_amount           482742 non-null  float64\n",
            " 15  improvement_surcharge  482742 non-null  float64\n",
            " 16  total_amount           482742 non-null  float64\n",
            " 17  congestion_surcharge   482742 non-null  float64\n",
            "dtypes: float64(13), int64(2), object(3)\n",
            "memory usage: 66.3+ MB\n"
          ],
          "name": "stdout"
        }
      ]
    },
    {
      "cell_type": "code",
      "metadata": {
        "id": "fADazPVWIFRu",
        "colab": {
          "base_uri": "https://localhost:8080/",
          "height": 307
        },
        "outputId": "52cceca1-00f0-466c-f3aa-09c75a123e95"
      },
      "source": [
        "df.describe()"
      ],
      "execution_count": 4,
      "outputs": [
        {
          "output_type": "execute_result",
          "data": {
            "text/html": [
              "<div>\n",
              "<style scoped>\n",
              "    .dataframe tbody tr th:only-of-type {\n",
              "        vertical-align: middle;\n",
              "    }\n",
              "\n",
              "    .dataframe tbody tr th {\n",
              "        vertical-align: top;\n",
              "    }\n",
              "\n",
              "    .dataframe thead th {\n",
              "        text-align: right;\n",
              "    }\n",
              "</style>\n",
              "<table border=\"1\" class=\"dataframe\">\n",
              "  <thead>\n",
              "    <tr style=\"text-align: right;\">\n",
              "      <th></th>\n",
              "      <th>VendorID</th>\n",
              "      <th>passenger_count</th>\n",
              "      <th>trip_distance</th>\n",
              "      <th>RatecodeID</th>\n",
              "      <th>PULocationID</th>\n",
              "      <th>DOLocationID</th>\n",
              "      <th>payment_type</th>\n",
              "      <th>fare_amount</th>\n",
              "      <th>extra</th>\n",
              "      <th>mta_tax</th>\n",
              "      <th>tip_amount</th>\n",
              "      <th>tolls_amount</th>\n",
              "      <th>improvement_surcharge</th>\n",
              "      <th>total_amount</th>\n",
              "      <th>congestion_surcharge</th>\n",
              "    </tr>\n",
              "  </thead>\n",
              "  <tbody>\n",
              "    <tr>\n",
              "      <th>count</th>\n",
              "      <td>479098.000000</td>\n",
              "      <td>479098.000000</td>\n",
              "      <td>482742.000000</td>\n",
              "      <td>479098.000000</td>\n",
              "      <td>482742.000000</td>\n",
              "      <td>482742.000000</td>\n",
              "      <td>479098.000000</td>\n",
              "      <td>482742.000000</td>\n",
              "      <td>482742.000000</td>\n",
              "      <td>482742.000000</td>\n",
              "      <td>482742.000000</td>\n",
              "      <td>482742.000000</td>\n",
              "      <td>482742.000000</td>\n",
              "      <td>482742.000000</td>\n",
              "      <td>482742.000000</td>\n",
              "    </tr>\n",
              "    <tr>\n",
              "      <th>mean</th>\n",
              "      <td>1.666173</td>\n",
              "      <td>1.550393</td>\n",
              "      <td>2.977807</td>\n",
              "      <td>1.065156</td>\n",
              "      <td>163.502449</td>\n",
              "      <td>161.722570</td>\n",
              "      <td>1.298091</td>\n",
              "      <td>14.358827</td>\n",
              "      <td>1.110255</td>\n",
              "      <td>0.492481</td>\n",
              "      <td>2.245453</td>\n",
              "      <td>0.390203</td>\n",
              "      <td>0.298011</td>\n",
              "      <td>20.414273</td>\n",
              "      <td>2.275034</td>\n",
              "    </tr>\n",
              "    <tr>\n",
              "      <th>std</th>\n",
              "      <td>0.471579</td>\n",
              "      <td>1.174092</td>\n",
              "      <td>3.941160</td>\n",
              "      <td>0.903839</td>\n",
              "      <td>66.172609</td>\n",
              "      <td>70.222873</td>\n",
              "      <td>0.487450</td>\n",
              "      <td>573.620806</td>\n",
              "      <td>1.269991</td>\n",
              "      <td>0.071925</td>\n",
              "      <td>2.853395</td>\n",
              "      <td>1.699026</td>\n",
              "      <td>0.033592</td>\n",
              "      <td>573.684344</td>\n",
              "      <td>0.735852</td>\n",
              "    </tr>\n",
              "    <tr>\n",
              "      <th>min</th>\n",
              "      <td>1.000000</td>\n",
              "      <td>0.000000</td>\n",
              "      <td>-30.100000</td>\n",
              "      <td>1.000000</td>\n",
              "      <td>1.000000</td>\n",
              "      <td>1.000000</td>\n",
              "      <td>1.000000</td>\n",
              "      <td>-180.000000</td>\n",
              "      <td>-4.500000</td>\n",
              "      <td>-0.500000</td>\n",
              "      <td>-98.760000</td>\n",
              "      <td>-21.230000</td>\n",
              "      <td>-0.300000</td>\n",
              "      <td>-180.300000</td>\n",
              "      <td>-2.500000</td>\n",
              "    </tr>\n",
              "    <tr>\n",
              "      <th>25%</th>\n",
              "      <td>1.000000</td>\n",
              "      <td>1.000000</td>\n",
              "      <td>0.960000</td>\n",
              "      <td>1.000000</td>\n",
              "      <td>125.000000</td>\n",
              "      <td>112.000000</td>\n",
              "      <td>1.000000</td>\n",
              "      <td>6.500000</td>\n",
              "      <td>0.000000</td>\n",
              "      <td>0.500000</td>\n",
              "      <td>0.000000</td>\n",
              "      <td>0.000000</td>\n",
              "      <td>0.300000</td>\n",
              "      <td>11.300000</td>\n",
              "      <td>2.500000</td>\n",
              "    </tr>\n",
              "    <tr>\n",
              "      <th>50%</th>\n",
              "      <td>2.000000</td>\n",
              "      <td>1.000000</td>\n",
              "      <td>1.600000</td>\n",
              "      <td>1.000000</td>\n",
              "      <td>162.000000</td>\n",
              "      <td>162.000000</td>\n",
              "      <td>1.000000</td>\n",
              "      <td>9.500000</td>\n",
              "      <td>0.500000</td>\n",
              "      <td>0.500000</td>\n",
              "      <td>1.920000</td>\n",
              "      <td>0.000000</td>\n",
              "      <td>0.300000</td>\n",
              "      <td>14.800000</td>\n",
              "      <td>2.500000</td>\n",
              "    </tr>\n",
              "    <tr>\n",
              "      <th>75%</th>\n",
              "      <td>2.000000</td>\n",
              "      <td>2.000000</td>\n",
              "      <td>3.020000</td>\n",
              "      <td>1.000000</td>\n",
              "      <td>233.000000</td>\n",
              "      <td>234.000000</td>\n",
              "      <td>2.000000</td>\n",
              "      <td>15.500000</td>\n",
              "      <td>2.500000</td>\n",
              "      <td>0.500000</td>\n",
              "      <td>3.000000</td>\n",
              "      <td>0.000000</td>\n",
              "      <td>0.300000</td>\n",
              "      <td>21.350000</td>\n",
              "      <td>2.500000</td>\n",
              "    </tr>\n",
              "    <tr>\n",
              "      <th>max</th>\n",
              "      <td>2.000000</td>\n",
              "      <td>9.000000</td>\n",
              "      <td>93.740000</td>\n",
              "      <td>99.000000</td>\n",
              "      <td>265.000000</td>\n",
              "      <td>265.000000</td>\n",
              "      <td>4.000000</td>\n",
              "      <td>398468.380000</td>\n",
              "      <td>90.060000</td>\n",
              "      <td>0.900000</td>\n",
              "      <td>225.000000</td>\n",
              "      <td>113.880000</td>\n",
              "      <td>0.300000</td>\n",
              "      <td>398471.200000</td>\n",
              "      <td>2.750000</td>\n",
              "    </tr>\n",
              "  </tbody>\n",
              "</table>\n",
              "</div>"
            ],
            "text/plain": [
              "            VendorID  passenger_count  ...   total_amount  congestion_surcharge\n",
              "count  479098.000000    479098.000000  ...  482742.000000         482742.000000\n",
              "mean        1.666173         1.550393  ...      20.414273              2.275034\n",
              "std         0.471579         1.174092  ...     573.684344              0.735852\n",
              "min         1.000000         0.000000  ...    -180.300000             -2.500000\n",
              "25%         1.000000         1.000000  ...      11.300000              2.500000\n",
              "50%         2.000000         1.000000  ...      14.800000              2.500000\n",
              "75%         2.000000         2.000000  ...      21.350000              2.500000\n",
              "max         2.000000         9.000000  ...  398471.200000              2.750000\n",
              "\n",
              "[8 rows x 15 columns]"
            ]
          },
          "metadata": {
            "tags": []
          },
          "execution_count": 4
        }
      ]
    },
    {
      "cell_type": "code",
      "metadata": {
        "colab": {
          "base_uri": "https://localhost:8080/"
        },
        "id": "a8iBKjxcZgEl",
        "outputId": "1133ee13-d510-4c21-9f52-7db4d1539563"
      },
      "source": [
        "df.keys()"
      ],
      "execution_count": 5,
      "outputs": [
        {
          "output_type": "execute_result",
          "data": {
            "text/plain": [
              "Index(['VendorID', 'tpep_pickup_datetime', 'tpep_dropoff_datetime',\n",
              "       'passenger_count', 'trip_distance', 'RatecodeID', 'store_and_fwd_flag',\n",
              "       'PULocationID', 'DOLocationID', 'payment_type', 'fare_amount', 'extra',\n",
              "       'mta_tax', 'tip_amount', 'tolls_amount', 'improvement_surcharge',\n",
              "       'total_amount', 'congestion_surcharge'],\n",
              "      dtype='object')"
            ]
          },
          "metadata": {
            "tags": []
          },
          "execution_count": 5
        }
      ]
    },
    {
      "cell_type": "markdown",
      "metadata": {
        "id": "4FsmeuGnIOYd"
      },
      "source": [
        "3. Show me the relationships in your data... \r\n",
        "- corr\r\n",
        "- pariplot\r\n",
        "- some other visualization(s) (of your choice)"
      ]
    },
    {
      "cell_type": "code",
      "metadata": {
        "id": "hoW-M_ObIiqn",
        "colab": {
          "base_uri": "https://localhost:8080/",
          "height": 318
        },
        "outputId": "f7b27811-87ed-43ef-c3a6-88f7bf35cd4f"
      },
      "source": [
        "# visualize correleation\r\n",
        "cor= df.corr()\r\n",
        "cor.style.background_gradient(cmap='coolwarm')"
      ],
      "execution_count": 6,
      "outputs": [
        {
          "output_type": "execute_result",
          "data": {
            "text/html": [
              "<style  type=\"text/css\" >\n",
              "#T_e3bc6818_63cf_11eb_a8cc_0242ac1c0002row0_col0,#T_e3bc6818_63cf_11eb_a8cc_0242ac1c0002row1_col1,#T_e3bc6818_63cf_11eb_a8cc_0242ac1c0002row2_col2,#T_e3bc6818_63cf_11eb_a8cc_0242ac1c0002row3_col3,#T_e3bc6818_63cf_11eb_a8cc_0242ac1c0002row4_col4,#T_e3bc6818_63cf_11eb_a8cc_0242ac1c0002row5_col5,#T_e3bc6818_63cf_11eb_a8cc_0242ac1c0002row6_col6,#T_e3bc6818_63cf_11eb_a8cc_0242ac1c0002row7_col7,#T_e3bc6818_63cf_11eb_a8cc_0242ac1c0002row7_col13,#T_e3bc6818_63cf_11eb_a8cc_0242ac1c0002row8_col8,#T_e3bc6818_63cf_11eb_a8cc_0242ac1c0002row9_col9,#T_e3bc6818_63cf_11eb_a8cc_0242ac1c0002row10_col10,#T_e3bc6818_63cf_11eb_a8cc_0242ac1c0002row11_col11,#T_e3bc6818_63cf_11eb_a8cc_0242ac1c0002row12_col12,#T_e3bc6818_63cf_11eb_a8cc_0242ac1c0002row13_col7,#T_e3bc6818_63cf_11eb_a8cc_0242ac1c0002row13_col13,#T_e3bc6818_63cf_11eb_a8cc_0242ac1c0002row14_col14{\n",
              "            background-color:  #b40426;\n",
              "            color:  #f1f1f1;\n",
              "        }#T_e3bc6818_63cf_11eb_a8cc_0242ac1c0002row0_col1{\n",
              "            background-color:  #92b4fe;\n",
              "            color:  #000000;\n",
              "        }#T_e3bc6818_63cf_11eb_a8cc_0242ac1c0002row0_col2,#T_e3bc6818_63cf_11eb_a8cc_0242ac1c0002row4_col5,#T_e3bc6818_63cf_11eb_a8cc_0242ac1c0002row13_col2{\n",
              "            background-color:  #799cf8;\n",
              "            color:  #000000;\n",
              "        }#T_e3bc6818_63cf_11eb_a8cc_0242ac1c0002row0_col3,#T_e3bc6818_63cf_11eb_a8cc_0242ac1c0002row4_col9{\n",
              "            background-color:  #6e90f2;\n",
              "            color:  #000000;\n",
              "        }#T_e3bc6818_63cf_11eb_a8cc_0242ac1c0002row0_col4,#T_e3bc6818_63cf_11eb_a8cc_0242ac1c0002row1_col4,#T_e3bc6818_63cf_11eb_a8cc_0242ac1c0002row2_col9,#T_e3bc6818_63cf_11eb_a8cc_0242ac1c0002row3_col4{\n",
              "            background-color:  #536edd;\n",
              "            color:  #000000;\n",
              "        }#T_e3bc6818_63cf_11eb_a8cc_0242ac1c0002row0_col5,#T_e3bc6818_63cf_11eb_a8cc_0242ac1c0002row3_col14,#T_e3bc6818_63cf_11eb_a8cc_0242ac1c0002row4_col2,#T_e3bc6818_63cf_11eb_a8cc_0242ac1c0002row7_col5,#T_e3bc6818_63cf_11eb_a8cc_0242ac1c0002row9_col4,#T_e3bc6818_63cf_11eb_a8cc_0242ac1c0002row12_col5,#T_e3bc6818_63cf_11eb_a8cc_0242ac1c0002row13_col5{\n",
              "            background-color:  #5875e1;\n",
              "            color:  #000000;\n",
              "        }#T_e3bc6818_63cf_11eb_a8cc_0242ac1c0002row0_col6{\n",
              "            background-color:  #a5c3fe;\n",
              "            color:  #000000;\n",
              "        }#T_e3bc6818_63cf_11eb_a8cc_0242ac1c0002row0_col7,#T_e3bc6818_63cf_11eb_a8cc_0242ac1c0002row1_col7,#T_e3bc6818_63cf_11eb_a8cc_0242ac1c0002row1_col13,#T_e3bc6818_63cf_11eb_a8cc_0242ac1c0002row4_col7,#T_e3bc6818_63cf_11eb_a8cc_0242ac1c0002row4_col13,#T_e3bc6818_63cf_11eb_a8cc_0242ac1c0002row5_col7,#T_e3bc6818_63cf_11eb_a8cc_0242ac1c0002row5_col13,#T_e3bc6818_63cf_11eb_a8cc_0242ac1c0002row8_col13{\n",
              "            background-color:  #3d50c3;\n",
              "            color:  #f1f1f1;\n",
              "        }#T_e3bc6818_63cf_11eb_a8cc_0242ac1c0002row0_col8,#T_e3bc6818_63cf_11eb_a8cc_0242ac1c0002row2_col4,#T_e3bc6818_63cf_11eb_a8cc_0242ac1c0002row2_col5,#T_e3bc6818_63cf_11eb_a8cc_0242ac1c0002row2_col14,#T_e3bc6818_63cf_11eb_a8cc_0242ac1c0002row3_col9,#T_e3bc6818_63cf_11eb_a8cc_0242ac1c0002row6_col9,#T_e3bc6818_63cf_11eb_a8cc_0242ac1c0002row6_col10,#T_e3bc6818_63cf_11eb_a8cc_0242ac1c0002row6_col12,#T_e3bc6818_63cf_11eb_a8cc_0242ac1c0002row8_col0,#T_e3bc6818_63cf_11eb_a8cc_0242ac1c0002row8_col1,#T_e3bc6818_63cf_11eb_a8cc_0242ac1c0002row9_col3,#T_e3bc6818_63cf_11eb_a8cc_0242ac1c0002row9_col11,#T_e3bc6818_63cf_11eb_a8cc_0242ac1c0002row9_col13,#T_e3bc6818_63cf_11eb_a8cc_0242ac1c0002row10_col6,#T_e3bc6818_63cf_11eb_a8cc_0242ac1c0002row12_col7,#T_e3bc6818_63cf_11eb_a8cc_0242ac1c0002row12_col13,#T_e3bc6818_63cf_11eb_a8cc_0242ac1c0002row14_col2{\n",
              "            background-color:  #3b4cc0;\n",
              "            color:  #f1f1f1;\n",
              "        }#T_e3bc6818_63cf_11eb_a8cc_0242ac1c0002row0_col9,#T_e3bc6818_63cf_11eb_a8cc_0242ac1c0002row11_col1,#T_e3bc6818_63cf_11eb_a8cc_0242ac1c0002row14_col1{\n",
              "            background-color:  #6384eb;\n",
              "            color:  #000000;\n",
              "        }#T_e3bc6818_63cf_11eb_a8cc_0242ac1c0002row0_col10{\n",
              "            background-color:  #adc9fd;\n",
              "            color:  #000000;\n",
              "        }#T_e3bc6818_63cf_11eb_a8cc_0242ac1c0002row0_col11,#T_e3bc6818_63cf_11eb_a8cc_0242ac1c0002row1_col3,#T_e3bc6818_63cf_11eb_a8cc_0242ac1c0002row1_col9,#T_e3bc6818_63cf_11eb_a8cc_0242ac1c0002row1_col11,#T_e3bc6818_63cf_11eb_a8cc_0242ac1c0002row5_col3,#T_e3bc6818_63cf_11eb_a8cc_0242ac1c0002row7_col11{\n",
              "            background-color:  #6b8df0;\n",
              "            color:  #000000;\n",
              "        }#T_e3bc6818_63cf_11eb_a8cc_0242ac1c0002row0_col12,#T_e3bc6818_63cf_11eb_a8cc_0242ac1c0002row3_col12,#T_e3bc6818_63cf_11eb_a8cc_0242ac1c0002row7_col9,#T_e3bc6818_63cf_11eb_a8cc_0242ac1c0002row13_col9{\n",
              "            background-color:  #6a8bef;\n",
              "            color:  #000000;\n",
              "        }#T_e3bc6818_63cf_11eb_a8cc_0242ac1c0002row0_col13,#T_e3bc6818_63cf_11eb_a8cc_0242ac1c0002row9_col7,#T_e3bc6818_63cf_11eb_a8cc_0242ac1c0002row14_col7,#T_e3bc6818_63cf_11eb_a8cc_0242ac1c0002row14_col13{\n",
              "            background-color:  #3c4ec2;\n",
              "            color:  #f1f1f1;\n",
              "        }#T_e3bc6818_63cf_11eb_a8cc_0242ac1c0002row0_col14,#T_e3bc6818_63cf_11eb_a8cc_0242ac1c0002row10_col14{\n",
              "            background-color:  #6f92f3;\n",
              "            color:  #000000;\n",
              "        }#T_e3bc6818_63cf_11eb_a8cc_0242ac1c0002row1_col0{\n",
              "            background-color:  #ead5c9;\n",
              "            color:  #000000;\n",
              "        }#T_e3bc6818_63cf_11eb_a8cc_0242ac1c0002row1_col2,#T_e3bc6818_63cf_11eb_a8cc_0242ac1c0002row7_col2,#T_e3bc6818_63cf_11eb_a8cc_0242ac1c0002row12_col2{\n",
              "            background-color:  #779af7;\n",
              "            color:  #000000;\n",
              "        }#T_e3bc6818_63cf_11eb_a8cc_0242ac1c0002row1_col5{\n",
              "            background-color:  #5673e0;\n",
              "            color:  #000000;\n",
              "        }#T_e3bc6818_63cf_11eb_a8cc_0242ac1c0002row1_col6,#T_e3bc6818_63cf_11eb_a8cc_0242ac1c0002row13_col10{\n",
              "            background-color:  #abc8fd;\n",
              "            color:  #000000;\n",
              "        }#T_e3bc6818_63cf_11eb_a8cc_0242ac1c0002row1_col8{\n",
              "            background-color:  #bcd2f7;\n",
              "            color:  #000000;\n",
              "        }#T_e3bc6818_63cf_11eb_a8cc_0242ac1c0002row1_col10{\n",
              "            background-color:  #a7c5fe;\n",
              "            color:  #000000;\n",
              "        }#T_e3bc6818_63cf_11eb_a8cc_0242ac1c0002row1_col12,#T_e3bc6818_63cf_11eb_a8cc_0242ac1c0002row1_col14,#T_e3bc6818_63cf_11eb_a8cc_0242ac1c0002row4_col12,#T_e3bc6818_63cf_11eb_a8cc_0242ac1c0002row5_col4{\n",
              "            background-color:  #7699f6;\n",
              "            color:  #000000;\n",
              "        }#T_e3bc6818_63cf_11eb_a8cc_0242ac1c0002row2_col0,#T_e3bc6818_63cf_11eb_a8cc_0242ac1c0002row10_col0{\n",
              "            background-color:  #d6dce4;\n",
              "            color:  #000000;\n",
              "        }#T_e3bc6818_63cf_11eb_a8cc_0242ac1c0002row2_col1,#T_e3bc6818_63cf_11eb_a8cc_0242ac1c0002row6_col1,#T_e3bc6818_63cf_11eb_a8cc_0242ac1c0002row8_col3{\n",
              "            background-color:  #6485ec;\n",
              "            color:  #000000;\n",
              "        }#T_e3bc6818_63cf_11eb_a8cc_0242ac1c0002row2_col3,#T_e3bc6818_63cf_11eb_a8cc_0242ac1c0002row3_col11{\n",
              "            background-color:  #96b7ff;\n",
              "            color:  #000000;\n",
              "        }#T_e3bc6818_63cf_11eb_a8cc_0242ac1c0002row2_col6,#T_e3bc6818_63cf_11eb_a8cc_0242ac1c0002row8_col6{\n",
              "            background-color:  #a2c1ff;\n",
              "            color:  #000000;\n",
              "        }#T_e3bc6818_63cf_11eb_a8cc_0242ac1c0002row2_col7,#T_e3bc6818_63cf_11eb_a8cc_0242ac1c0002row2_col13,#T_e3bc6818_63cf_11eb_a8cc_0242ac1c0002row6_col14{\n",
              "            background-color:  #4358cb;\n",
              "            color:  #f1f1f1;\n",
              "        }#T_e3bc6818_63cf_11eb_a8cc_0242ac1c0002row2_col8,#T_e3bc6818_63cf_11eb_a8cc_0242ac1c0002row7_col0,#T_e3bc6818_63cf_11eb_a8cc_0242ac1c0002row7_col8,#T_e3bc6818_63cf_11eb_a8cc_0242ac1c0002row10_col8,#T_e3bc6818_63cf_11eb_a8cc_0242ac1c0002row11_col8,#T_e3bc6818_63cf_11eb_a8cc_0242ac1c0002row13_col0,#T_e3bc6818_63cf_11eb_a8cc_0242ac1c0002row13_col8{\n",
              "            background-color:  #d3dbe7;\n",
              "            color:  #000000;\n",
              "        }#T_e3bc6818_63cf_11eb_a8cc_0242ac1c0002row2_col10{\n",
              "            background-color:  #f7b89c;\n",
              "            color:  #000000;\n",
              "        }#T_e3bc6818_63cf_11eb_a8cc_0242ac1c0002row2_col11{\n",
              "            background-color:  #f7b79b;\n",
              "            color:  #000000;\n",
              "        }#T_e3bc6818_63cf_11eb_a8cc_0242ac1c0002row2_col12,#T_e3bc6818_63cf_11eb_a8cc_0242ac1c0002row11_col12{\n",
              "            background-color:  #7a9df8;\n",
              "            color:  #000000;\n",
              "        }#T_e3bc6818_63cf_11eb_a8cc_0242ac1c0002row3_col0,#T_e3bc6818_63cf_11eb_a8cc_0242ac1c0002row11_col0{\n",
              "            background-color:  #d4dbe6;\n",
              "            color:  #000000;\n",
              "        }#T_e3bc6818_63cf_11eb_a8cc_0242ac1c0002row3_col1,#T_e3bc6818_63cf_11eb_a8cc_0242ac1c0002row7_col1,#T_e3bc6818_63cf_11eb_a8cc_0242ac1c0002row10_col1,#T_e3bc6818_63cf_11eb_a8cc_0242ac1c0002row12_col3,#T_e3bc6818_63cf_11eb_a8cc_0242ac1c0002row13_col1{\n",
              "            background-color:  #5f7fe8;\n",
              "            color:  #000000;\n",
              "        }#T_e3bc6818_63cf_11eb_a8cc_0242ac1c0002row3_col2{\n",
              "            background-color:  #9bbcff;\n",
              "            color:  #000000;\n",
              "        }#T_e3bc6818_63cf_11eb_a8cc_0242ac1c0002row3_col5,#T_e3bc6818_63cf_11eb_a8cc_0242ac1c0002row8_col4{\n",
              "            background-color:  #5977e3;\n",
              "            color:  #000000;\n",
              "        }#T_e3bc6818_63cf_11eb_a8cc_0242ac1c0002row3_col6,#T_e3bc6818_63cf_11eb_a8cc_0242ac1c0002row7_col6,#T_e3bc6818_63cf_11eb_a8cc_0242ac1c0002row8_col10,#T_e3bc6818_63cf_11eb_a8cc_0242ac1c0002row13_col6{\n",
              "            background-color:  #a9c6fd;\n",
              "            color:  #000000;\n",
              "        }#T_e3bc6818_63cf_11eb_a8cc_0242ac1c0002row3_col7,#T_e3bc6818_63cf_11eb_a8cc_0242ac1c0002row3_col13,#T_e3bc6818_63cf_11eb_a8cc_0242ac1c0002row6_col13,#T_e3bc6818_63cf_11eb_a8cc_0242ac1c0002row8_col7,#T_e3bc6818_63cf_11eb_a8cc_0242ac1c0002row11_col9{\n",
              "            background-color:  #3e51c5;\n",
              "            color:  #f1f1f1;\n",
              "        }#T_e3bc6818_63cf_11eb_a8cc_0242ac1c0002row3_col8,#T_e3bc6818_63cf_11eb_a8cc_0242ac1c0002row6_col8{\n",
              "            background-color:  #cfdaea;\n",
              "            color:  #000000;\n",
              "        }#T_e3bc6818_63cf_11eb_a8cc_0242ac1c0002row3_col10{\n",
              "            background-color:  #c5d6f2;\n",
              "            color:  #000000;\n",
              "        }#T_e3bc6818_63cf_11eb_a8cc_0242ac1c0002row4_col0,#T_e3bc6818_63cf_11eb_a8cc_0242ac1c0002row5_col0{\n",
              "            background-color:  #d2dbe8;\n",
              "            color:  #000000;\n",
              "        }#T_e3bc6818_63cf_11eb_a8cc_0242ac1c0002row4_col1,#T_e3bc6818_63cf_11eb_a8cc_0242ac1c0002row5_col1,#T_e3bc6818_63cf_11eb_a8cc_0242ac1c0002row6_col11{\n",
              "            background-color:  #5e7de7;\n",
              "            color:  #000000;\n",
              "        }#T_e3bc6818_63cf_11eb_a8cc_0242ac1c0002row4_col3,#T_e3bc6818_63cf_11eb_a8cc_0242ac1c0002row8_col11{\n",
              "            background-color:  #688aef;\n",
              "            color:  #000000;\n",
              "        }#T_e3bc6818_63cf_11eb_a8cc_0242ac1c0002row4_col6,#T_e3bc6818_63cf_11eb_a8cc_0242ac1c0002row4_col10,#T_e3bc6818_63cf_11eb_a8cc_0242ac1c0002row5_col6{\n",
              "            background-color:  #a1c0ff;\n",
              "            color:  #000000;\n",
              "        }#T_e3bc6818_63cf_11eb_a8cc_0242ac1c0002row4_col8,#T_e3bc6818_63cf_11eb_a8cc_0242ac1c0002row5_col8{\n",
              "            background-color:  #d5dbe5;\n",
              "            color:  #000000;\n",
              "        }#T_e3bc6818_63cf_11eb_a8cc_0242ac1c0002row4_col11,#T_e3bc6818_63cf_11eb_a8cc_0242ac1c0002row9_col2,#T_e3bc6818_63cf_11eb_a8cc_0242ac1c0002row10_col9{\n",
              "            background-color:  #5a78e4;\n",
              "            color:  #000000;\n",
              "        }#T_e3bc6818_63cf_11eb_a8cc_0242ac1c0002row4_col14,#T_e3bc6818_63cf_11eb_a8cc_0242ac1c0002row5_col14{\n",
              "            background-color:  #97b8ff;\n",
              "            color:  #000000;\n",
              "        }#T_e3bc6818_63cf_11eb_a8cc_0242ac1c0002row5_col2{\n",
              "            background-color:  #5470de;\n",
              "            color:  #000000;\n",
              "        }#T_e3bc6818_63cf_11eb_a8cc_0242ac1c0002row5_col9,#T_e3bc6818_63cf_11eb_a8cc_0242ac1c0002row12_col6{\n",
              "            background-color:  #7396f5;\n",
              "            color:  #000000;\n",
              "        }#T_e3bc6818_63cf_11eb_a8cc_0242ac1c0002row5_col10,#T_e3bc6818_63cf_11eb_a8cc_0242ac1c0002row11_col6{\n",
              "            background-color:  #9fbfff;\n",
              "            color:  #000000;\n",
              "        }#T_e3bc6818_63cf_11eb_a8cc_0242ac1c0002row5_col11,#T_e3bc6818_63cf_11eb_a8cc_0242ac1c0002row7_col4,#T_e3bc6818_63cf_11eb_a8cc_0242ac1c0002row12_col4,#T_e3bc6818_63cf_11eb_a8cc_0242ac1c0002row13_col4{\n",
              "            background-color:  #5572df;\n",
              "            color:  #000000;\n",
              "        }#T_e3bc6818_63cf_11eb_a8cc_0242ac1c0002row5_col12{\n",
              "            background-color:  #7597f6;\n",
              "            color:  #000000;\n",
              "        }#T_e3bc6818_63cf_11eb_a8cc_0242ac1c0002row6_col0,#T_e3bc6818_63cf_11eb_a8cc_0242ac1c0002row14_col0{\n",
              "            background-color:  #d1dae9;\n",
              "            color:  #000000;\n",
              "        }#T_e3bc6818_63cf_11eb_a8cc_0242ac1c0002row6_col2,#T_e3bc6818_63cf_11eb_a8cc_0242ac1c0002row6_col3,#T_e3bc6818_63cf_11eb_a8cc_0242ac1c0002row7_col3,#T_e3bc6818_63cf_11eb_a8cc_0242ac1c0002row12_col11,#T_e3bc6818_63cf_11eb_a8cc_0242ac1c0002row13_col3,#T_e3bc6818_63cf_11eb_a8cc_0242ac1c0002row13_col11{\n",
              "            background-color:  #6c8ff1;\n",
              "            color:  #000000;\n",
              "        }#T_e3bc6818_63cf_11eb_a8cc_0242ac1c0002row6_col4,#T_e3bc6818_63cf_11eb_a8cc_0242ac1c0002row10_col4{\n",
              "            background-color:  #4c66d6;\n",
              "            color:  #000000;\n",
              "        }#T_e3bc6818_63cf_11eb_a8cc_0242ac1c0002row6_col5{\n",
              "            background-color:  #4f69d9;\n",
              "            color:  #000000;\n",
              "        }#T_e3bc6818_63cf_11eb_a8cc_0242ac1c0002row6_col7{\n",
              "            background-color:  #3f53c6;\n",
              "            color:  #f1f1f1;\n",
              "        }#T_e3bc6818_63cf_11eb_a8cc_0242ac1c0002row7_col10{\n",
              "            background-color:  #aac7fd;\n",
              "            color:  #000000;\n",
              "        }#T_e3bc6818_63cf_11eb_a8cc_0242ac1c0002row7_col12,#T_e3bc6818_63cf_11eb_a8cc_0242ac1c0002row8_col2,#T_e3bc6818_63cf_11eb_a8cc_0242ac1c0002row13_col12{\n",
              "            background-color:  #7295f4;\n",
              "            color:  #000000;\n",
              "        }#T_e3bc6818_63cf_11eb_a8cc_0242ac1c0002row7_col14,#T_e3bc6818_63cf_11eb_a8cc_0242ac1c0002row13_col14{\n",
              "            background-color:  #7093f3;\n",
              "            color:  #000000;\n",
              "        }#T_e3bc6818_63cf_11eb_a8cc_0242ac1c0002row8_col5{\n",
              "            background-color:  #5d7ce6;\n",
              "            color:  #000000;\n",
              "        }#T_e3bc6818_63cf_11eb_a8cc_0242ac1c0002row8_col9,#T_e3bc6818_63cf_11eb_a8cc_0242ac1c0002row14_col6{\n",
              "            background-color:  #7ea1fa;\n",
              "            color:  #000000;\n",
              "        }#T_e3bc6818_63cf_11eb_a8cc_0242ac1c0002row8_col12{\n",
              "            background-color:  #86a9fc;\n",
              "            color:  #000000;\n",
              "        }#T_e3bc6818_63cf_11eb_a8cc_0242ac1c0002row8_col14{\n",
              "            background-color:  #9dbdff;\n",
              "            color:  #000000;\n",
              "        }#T_e3bc6818_63cf_11eb_a8cc_0242ac1c0002row9_col0{\n",
              "            background-color:  #cedaeb;\n",
              "            color:  #000000;\n",
              "        }#T_e3bc6818_63cf_11eb_a8cc_0242ac1c0002row9_col1,#T_e3bc6818_63cf_11eb_a8cc_0242ac1c0002row9_col5,#T_e3bc6818_63cf_11eb_a8cc_0242ac1c0002row12_col1{\n",
              "            background-color:  #6180e9;\n",
              "            color:  #000000;\n",
              "        }#T_e3bc6818_63cf_11eb_a8cc_0242ac1c0002row9_col6,#T_e3bc6818_63cf_11eb_a8cc_0242ac1c0002row14_col4{\n",
              "            background-color:  #7da0f9;\n",
              "            color:  #000000;\n",
              "        }#T_e3bc6818_63cf_11eb_a8cc_0242ac1c0002row9_col8,#T_e3bc6818_63cf_11eb_a8cc_0242ac1c0002row12_col8{\n",
              "            background-color:  #dcdddd;\n",
              "            color:  #000000;\n",
              "        }#T_e3bc6818_63cf_11eb_a8cc_0242ac1c0002row9_col10,#T_e3bc6818_63cf_11eb_a8cc_0242ac1c0002row11_col3{\n",
              "            background-color:  #9abbff;\n",
              "            color:  #000000;\n",
              "        }#T_e3bc6818_63cf_11eb_a8cc_0242ac1c0002row9_col12{\n",
              "            background-color:  #ef886b;\n",
              "            color:  #000000;\n",
              "        }#T_e3bc6818_63cf_11eb_a8cc_0242ac1c0002row9_col14,#T_e3bc6818_63cf_11eb_a8cc_0242ac1c0002row10_col11{\n",
              "            background-color:  #e0dbd8;\n",
              "            color:  #000000;\n",
              "        }#T_e3bc6818_63cf_11eb_a8cc_0242ac1c0002row10_col2{\n",
              "            background-color:  #f1cdba;\n",
              "            color:  #000000;\n",
              "        }#T_e3bc6818_63cf_11eb_a8cc_0242ac1c0002row10_col3{\n",
              "            background-color:  #93b5fe;\n",
              "            color:  #000000;\n",
              "        }#T_e3bc6818_63cf_11eb_a8cc_0242ac1c0002row10_col5{\n",
              "            background-color:  #4e68d8;\n",
              "            color:  #000000;\n",
              "        }#T_e3bc6818_63cf_11eb_a8cc_0242ac1c0002row10_col7,#T_e3bc6818_63cf_11eb_a8cc_0242ac1c0002row11_col7{\n",
              "            background-color:  #4055c8;\n",
              "            color:  #f1f1f1;\n",
              "        }#T_e3bc6818_63cf_11eb_a8cc_0242ac1c0002row10_col12{\n",
              "            background-color:  #81a4fb;\n",
              "            color:  #000000;\n",
              "        }#T_e3bc6818_63cf_11eb_a8cc_0242ac1c0002row10_col13,#T_e3bc6818_63cf_11eb_a8cc_0242ac1c0002row11_col13{\n",
              "            background-color:  #4257c9;\n",
              "            color:  #f1f1f1;\n",
              "        }#T_e3bc6818_63cf_11eb_a8cc_0242ac1c0002row11_col2{\n",
              "            background-color:  #f7b396;\n",
              "            color:  #000000;\n",
              "        }#T_e3bc6818_63cf_11eb_a8cc_0242ac1c0002row11_col4{\n",
              "            background-color:  #465ecf;\n",
              "            color:  #f1f1f1;\n",
              "        }#T_e3bc6818_63cf_11eb_a8cc_0242ac1c0002row11_col5,#T_e3bc6818_63cf_11eb_a8cc_0242ac1c0002row14_col11{\n",
              "            background-color:  #455cce;\n",
              "            color:  #f1f1f1;\n",
              "        }#T_e3bc6818_63cf_11eb_a8cc_0242ac1c0002row11_col10{\n",
              "            background-color:  #f3c7b1;\n",
              "            color:  #000000;\n",
              "        }#T_e3bc6818_63cf_11eb_a8cc_0242ac1c0002row11_col14,#T_e3bc6818_63cf_11eb_a8cc_0242ac1c0002row14_col3{\n",
              "            background-color:  #506bda;\n",
              "            color:  #000000;\n",
              "        }#T_e3bc6818_63cf_11eb_a8cc_0242ac1c0002row12_col0,#T_e3bc6818_63cf_11eb_a8cc_0242ac1c0002row12_col14{\n",
              "            background-color:  #ccd9ed;\n",
              "            color:  #000000;\n",
              "        }#T_e3bc6818_63cf_11eb_a8cc_0242ac1c0002row12_col9{\n",
              "            background-color:  #f08b6e;\n",
              "            color:  #000000;\n",
              "        }#T_e3bc6818_63cf_11eb_a8cc_0242ac1c0002row12_col10{\n",
              "            background-color:  #b1cbfc;\n",
              "            color:  #000000;\n",
              "        }#T_e3bc6818_63cf_11eb_a8cc_0242ac1c0002row14_col5{\n",
              "            background-color:  #80a3fa;\n",
              "            color:  #000000;\n",
              "        }#T_e3bc6818_63cf_11eb_a8cc_0242ac1c0002row14_col8{\n",
              "            background-color:  #e7d7ce;\n",
              "            color:  #000000;\n",
              "        }#T_e3bc6818_63cf_11eb_a8cc_0242ac1c0002row14_col9{\n",
              "            background-color:  #dddcdc;\n",
              "            color:  #000000;\n",
              "        }#T_e3bc6818_63cf_11eb_a8cc_0242ac1c0002row14_col10{\n",
              "            background-color:  #a6c4fe;\n",
              "            color:  #000000;\n",
              "        }#T_e3bc6818_63cf_11eb_a8cc_0242ac1c0002row14_col12{\n",
              "            background-color:  #cdd9ec;\n",
              "            color:  #000000;\n",
              "        }</style><table id=\"T_e3bc6818_63cf_11eb_a8cc_0242ac1c0002\" ><thead>    <tr>        <th class=\"blank level0\" ></th>        <th class=\"col_heading level0 col0\" >VendorID</th>        <th class=\"col_heading level0 col1\" >passenger_count</th>        <th class=\"col_heading level0 col2\" >trip_distance</th>        <th class=\"col_heading level0 col3\" >RatecodeID</th>        <th class=\"col_heading level0 col4\" >PULocationID</th>        <th class=\"col_heading level0 col5\" >DOLocationID</th>        <th class=\"col_heading level0 col6\" >payment_type</th>        <th class=\"col_heading level0 col7\" >fare_amount</th>        <th class=\"col_heading level0 col8\" >extra</th>        <th class=\"col_heading level0 col9\" >mta_tax</th>        <th class=\"col_heading level0 col10\" >tip_amount</th>        <th class=\"col_heading level0 col11\" >tolls_amount</th>        <th class=\"col_heading level0 col12\" >improvement_surcharge</th>        <th class=\"col_heading level0 col13\" >total_amount</th>        <th class=\"col_heading level0 col14\" >congestion_surcharge</th>    </tr></thead><tbody>\n",
              "                <tr>\n",
              "                        <th id=\"T_e3bc6818_63cf_11eb_a8cc_0242ac1c0002level0_row0\" class=\"row_heading level0 row0\" >VendorID</th>\n",
              "                        <td id=\"T_e3bc6818_63cf_11eb_a8cc_0242ac1c0002row0_col0\" class=\"data row0 col0\" >1.000000</td>\n",
              "                        <td id=\"T_e3bc6818_63cf_11eb_a8cc_0242ac1c0002row0_col1\" class=\"data row0 col1\" >0.165798</td>\n",
              "                        <td id=\"T_e3bc6818_63cf_11eb_a8cc_0242ac1c0002row0_col2\" class=\"data row0 col2\" >0.025826</td>\n",
              "                        <td id=\"T_e3bc6818_63cf_11eb_a8cc_0242ac1c0002row0_col3\" class=\"data row0 col3\" >0.009225</td>\n",
              "                        <td id=\"T_e3bc6818_63cf_11eb_a8cc_0242ac1c0002row0_col4\" class=\"data row0 col4\" >-0.006963</td>\n",
              "                        <td id=\"T_e3bc6818_63cf_11eb_a8cc_0242ac1c0002row0_col5\" class=\"data row0 col5\" >-0.002515</td>\n",
              "                        <td id=\"T_e3bc6818_63cf_11eb_a8cc_0242ac1c0002row0_col6\" class=\"data row0 col6\" >-0.012707</td>\n",
              "                        <td id=\"T_e3bc6818_63cf_11eb_a8cc_0242ac1c0002row0_col7\" class=\"data row0 col7\" >-0.001725</td>\n",
              "                        <td id=\"T_e3bc6818_63cf_11eb_a8cc_0242ac1c0002row0_col8\" class=\"data row0 col8\" >-0.858735</td>\n",
              "                        <td id=\"T_e3bc6818_63cf_11eb_a8cc_0242ac1c0002row0_col9\" class=\"data row0 col9\" >-0.028355</td>\n",
              "                        <td id=\"T_e3bc6818_63cf_11eb_a8cc_0242ac1c0002row0_col10\" class=\"data row0 col10\" >0.021642</td>\n",
              "                        <td id=\"T_e3bc6818_63cf_11eb_a8cc_0242ac1c0002row0_col11\" class=\"data row0 col11\" >0.010144</td>\n",
              "                        <td id=\"T_e3bc6818_63cf_11eb_a8cc_0242ac1c0002row0_col12\" class=\"data row0 col12\" >-0.039408</td>\n",
              "                        <td id=\"T_e3bc6818_63cf_11eb_a8cc_0242ac1c0002row0_col13\" class=\"data row0 col13\" >-0.001597</td>\n",
              "                        <td id=\"T_e3bc6818_63cf_11eb_a8cc_0242ac1c0002row0_col14\" class=\"data row0 col14\" >-0.009748</td>\n",
              "            </tr>\n",
              "            <tr>\n",
              "                        <th id=\"T_e3bc6818_63cf_11eb_a8cc_0242ac1c0002level0_row1\" class=\"row_heading level0 row1\" >passenger_count</th>\n",
              "                        <td id=\"T_e3bc6818_63cf_11eb_a8cc_0242ac1c0002row1_col0\" class=\"data row1 col0\" >0.165798</td>\n",
              "                        <td id=\"T_e3bc6818_63cf_11eb_a8cc_0242ac1c0002row1_col1\" class=\"data row1 col1\" >1.000000</td>\n",
              "                        <td id=\"T_e3bc6818_63cf_11eb_a8cc_0242ac1c0002row1_col2\" class=\"data row1 col2\" >0.019496</td>\n",
              "                        <td id=\"T_e3bc6818_63cf_11eb_a8cc_0242ac1c0002row1_col3\" class=\"data row1 col3\" >0.000271</td>\n",
              "                        <td id=\"T_e3bc6818_63cf_11eb_a8cc_0242ac1c0002row1_col4\" class=\"data row1 col4\" >-0.006724</td>\n",
              "                        <td id=\"T_e3bc6818_63cf_11eb_a8cc_0242ac1c0002row1_col5\" class=\"data row1 col5\" >-0.004947</td>\n",
              "                        <td id=\"T_e3bc6818_63cf_11eb_a8cc_0242ac1c0002row1_col6\" class=\"data row1 col6\" >0.016564</td>\n",
              "                        <td id=\"T_e3bc6818_63cf_11eb_a8cc_0242ac1c0002row1_col7\" class=\"data row1 col7\" >-0.000294</td>\n",
              "                        <td id=\"T_e3bc6818_63cf_11eb_a8cc_0242ac1c0002row1_col8\" class=\"data row1 col8\" >-0.135692</td>\n",
              "                        <td id=\"T_e3bc6818_63cf_11eb_a8cc_0242ac1c0002row1_col9\" class=\"data row1 col9\" >0.002063</td>\n",
              "                        <td id=\"T_e3bc6818_63cf_11eb_a8cc_0242ac1c0002row1_col10\" class=\"data row1 col10\" >0.000780</td>\n",
              "                        <td id=\"T_e3bc6818_63cf_11eb_a8cc_0242ac1c0002row1_col11\" class=\"data row1 col11\" >0.012475</td>\n",
              "                        <td id=\"T_e3bc6818_63cf_11eb_a8cc_0242ac1c0002row1_col12\" class=\"data row1 col12\" >0.003783</td>\n",
              "                        <td id=\"T_e3bc6818_63cf_11eb_a8cc_0242ac1c0002row1_col13\" class=\"data row1 col13\" >-0.000227</td>\n",
              "                        <td id=\"T_e3bc6818_63cf_11eb_a8cc_0242ac1c0002row1_col14\" class=\"data row1 col14\" >0.013716</td>\n",
              "            </tr>\n",
              "            <tr>\n",
              "                        <th id=\"T_e3bc6818_63cf_11eb_a8cc_0242ac1c0002level0_row2\" class=\"row_heading level0 row2\" >trip_distance</th>\n",
              "                        <td id=\"T_e3bc6818_63cf_11eb_a8cc_0242ac1c0002row2_col0\" class=\"data row2 col0\" >0.025826</td>\n",
              "                        <td id=\"T_e3bc6818_63cf_11eb_a8cc_0242ac1c0002row2_col1\" class=\"data row2 col1\" >0.019496</td>\n",
              "                        <td id=\"T_e3bc6818_63cf_11eb_a8cc_0242ac1c0002row2_col2\" class=\"data row2 col2\" >1.000000</td>\n",
              "                        <td id=\"T_e3bc6818_63cf_11eb_a8cc_0242ac1c0002row2_col3\" class=\"data row2 col3\" >0.144107</td>\n",
              "                        <td id=\"T_e3bc6818_63cf_11eb_a8cc_0242ac1c0002row2_col4\" class=\"data row2 col4\" >-0.094794</td>\n",
              "                        <td id=\"T_e3bc6818_63cf_11eb_a8cc_0242ac1c0002row2_col5\" class=\"data row2 col5\" >-0.107132</td>\n",
              "                        <td id=\"T_e3bc6818_63cf_11eb_a8cc_0242ac1c0002row2_col6\" class=\"data row2 col6\" >-0.020566</td>\n",
              "                        <td id=\"T_e3bc6818_63cf_11eb_a8cc_0242ac1c0002row2_col7\" class=\"data row2 col7\" >0.017491</td>\n",
              "                        <td id=\"T_e3bc6818_63cf_11eb_a8cc_0242ac1c0002row2_col8\" class=\"data row2 col8\" >0.001632</td>\n",
              "                        <td id=\"T_e3bc6818_63cf_11eb_a8cc_0242ac1c0002row2_col9\" class=\"data row2 col9\" >-0.085268</td>\n",
              "                        <td id=\"T_e3bc6818_63cf_11eb_a8cc_0242ac1c0002row2_col10\" class=\"data row2 col10\" >0.506991</td>\n",
              "                        <td id=\"T_e3bc6818_63cf_11eb_a8cc_0242ac1c0002row2_col11\" class=\"data row2 col11\" >0.615388</td>\n",
              "                        <td id=\"T_e3bc6818_63cf_11eb_a8cc_0242ac1c0002row2_col12\" class=\"data row2 col12\" >0.018388</td>\n",
              "                        <td id=\"T_e3bc6818_63cf_11eb_a8cc_0242ac1c0002row2_col13\" class=\"data row2 col13\" >0.021689</td>\n",
              "                        <td id=\"T_e3bc6818_63cf_11eb_a8cc_0242ac1c0002row2_col14\" class=\"data row2 col14\" >-0.210402</td>\n",
              "            </tr>\n",
              "            <tr>\n",
              "                        <th id=\"T_e3bc6818_63cf_11eb_a8cc_0242ac1c0002level0_row3\" class=\"row_heading level0 row3\" >RatecodeID</th>\n",
              "                        <td id=\"T_e3bc6818_63cf_11eb_a8cc_0242ac1c0002row3_col0\" class=\"data row3 col0\" >0.009225</td>\n",
              "                        <td id=\"T_e3bc6818_63cf_11eb_a8cc_0242ac1c0002row3_col1\" class=\"data row3 col1\" >0.000271</td>\n",
              "                        <td id=\"T_e3bc6818_63cf_11eb_a8cc_0242ac1c0002row3_col2\" class=\"data row3 col2\" >0.144107</td>\n",
              "                        <td id=\"T_e3bc6818_63cf_11eb_a8cc_0242ac1c0002row3_col3\" class=\"data row3 col3\" >1.000000</td>\n",
              "                        <td id=\"T_e3bc6818_63cf_11eb_a8cc_0242ac1c0002row3_col4\" class=\"data row3 col4\" >-0.008881</td>\n",
              "                        <td id=\"T_e3bc6818_63cf_11eb_a8cc_0242ac1c0002row3_col5\" class=\"data row3 col5\" >0.002503</td>\n",
              "                        <td id=\"T_e3bc6818_63cf_11eb_a8cc_0242ac1c0002row3_col6\" class=\"data row3 col6\" >0.006139</td>\n",
              "                        <td id=\"T_e3bc6818_63cf_11eb_a8cc_0242ac1c0002row3_col7\" class=\"data row3 col7\" >0.004868</td>\n",
              "                        <td id=\"T_e3bc6818_63cf_11eb_a8cc_0242ac1c0002row3_col8\" class=\"data row3 col8\" >-0.022093</td>\n",
              "                        <td id=\"T_e3bc6818_63cf_11eb_a8cc_0242ac1c0002row3_col9\" class=\"data row3 col9\" >-0.181959</td>\n",
              "                        <td id=\"T_e3bc6818_63cf_11eb_a8cc_0242ac1c0002row3_col10\" class=\"data row3 col10\" >0.133305</td>\n",
              "                        <td id=\"T_e3bc6818_63cf_11eb_a8cc_0242ac1c0002row3_col11\" class=\"data row3 col11\" >0.155296</td>\n",
              "                        <td id=\"T_e3bc6818_63cf_11eb_a8cc_0242ac1c0002row3_col12\" class=\"data row3 col12\" >-0.039509</td>\n",
              "                        <td id=\"T_e3bc6818_63cf_11eb_a8cc_0242ac1c0002row3_col13\" class=\"data row3 col13\" >0.005854</td>\n",
              "                        <td id=\"T_e3bc6818_63cf_11eb_a8cc_0242ac1c0002row3_col14\" class=\"data row3 col14\" >-0.094704</td>\n",
              "            </tr>\n",
              "            <tr>\n",
              "                        <th id=\"T_e3bc6818_63cf_11eb_a8cc_0242ac1c0002level0_row4\" class=\"row_heading level0 row4\" >PULocationID</th>\n",
              "                        <td id=\"T_e3bc6818_63cf_11eb_a8cc_0242ac1c0002row4_col0\" class=\"data row4 col0\" >-0.006963</td>\n",
              "                        <td id=\"T_e3bc6818_63cf_11eb_a8cc_0242ac1c0002row4_col1\" class=\"data row4 col1\" >-0.006724</td>\n",
              "                        <td id=\"T_e3bc6818_63cf_11eb_a8cc_0242ac1c0002row4_col2\" class=\"data row4 col2\" >-0.094794</td>\n",
              "                        <td id=\"T_e3bc6818_63cf_11eb_a8cc_0242ac1c0002row4_col3\" class=\"data row4 col3\" >-0.008881</td>\n",
              "                        <td id=\"T_e3bc6818_63cf_11eb_a8cc_0242ac1c0002row4_col4\" class=\"data row4 col4\" >1.000000</td>\n",
              "                        <td id=\"T_e3bc6818_63cf_11eb_a8cc_0242ac1c0002row4_col5\" class=\"data row4 col5\" >0.107039</td>\n",
              "                        <td id=\"T_e3bc6818_63cf_11eb_a8cc_0242ac1c0002row4_col6\" class=\"data row4 col6\" >-0.028173</td>\n",
              "                        <td id=\"T_e3bc6818_63cf_11eb_a8cc_0242ac1c0002row4_col7\" class=\"data row4 col7\" >-0.000217</td>\n",
              "                        <td id=\"T_e3bc6818_63cf_11eb_a8cc_0242ac1c0002row4_col8\" class=\"data row4 col8\" >0.015927</td>\n",
              "                        <td id=\"T_e3bc6818_63cf_11eb_a8cc_0242ac1c0002row4_col9\" class=\"data row4 col9\" >0.010784</td>\n",
              "                        <td id=\"T_e3bc6818_63cf_11eb_a8cc_0242ac1c0002row4_col10\" class=\"data row4 col10\" >-0.027828</td>\n",
              "                        <td id=\"T_e3bc6818_63cf_11eb_a8cc_0242ac1c0002row4_col11\" class=\"data row4 col11\" >-0.049324</td>\n",
              "                        <td id=\"T_e3bc6818_63cf_11eb_a8cc_0242ac1c0002row4_col12\" class=\"data row4 col12\" >0.002824</td>\n",
              "                        <td id=\"T_e3bc6818_63cf_11eb_a8cc_0242ac1c0002row4_col13\" class=\"data row4 col13\" >-0.000370</td>\n",
              "                        <td id=\"T_e3bc6818_63cf_11eb_a8cc_0242ac1c0002row4_col14\" class=\"data row4 col14\" >0.127982</td>\n",
              "            </tr>\n",
              "            <tr>\n",
              "                        <th id=\"T_e3bc6818_63cf_11eb_a8cc_0242ac1c0002level0_row5\" class=\"row_heading level0 row5\" >DOLocationID</th>\n",
              "                        <td id=\"T_e3bc6818_63cf_11eb_a8cc_0242ac1c0002row5_col0\" class=\"data row5 col0\" >-0.002515</td>\n",
              "                        <td id=\"T_e3bc6818_63cf_11eb_a8cc_0242ac1c0002row5_col1\" class=\"data row5 col1\" >-0.004947</td>\n",
              "                        <td id=\"T_e3bc6818_63cf_11eb_a8cc_0242ac1c0002row5_col2\" class=\"data row5 col2\" >-0.107132</td>\n",
              "                        <td id=\"T_e3bc6818_63cf_11eb_a8cc_0242ac1c0002row5_col3\" class=\"data row5 col3\" >0.002503</td>\n",
              "                        <td id=\"T_e3bc6818_63cf_11eb_a8cc_0242ac1c0002row5_col4\" class=\"data row5 col4\" >0.107039</td>\n",
              "                        <td id=\"T_e3bc6818_63cf_11eb_a8cc_0242ac1c0002row5_col5\" class=\"data row5 col5\" >1.000000</td>\n",
              "                        <td id=\"T_e3bc6818_63cf_11eb_a8cc_0242ac1c0002row5_col6\" class=\"data row5 col6\" >-0.029818</td>\n",
              "                        <td id=\"T_e3bc6818_63cf_11eb_a8cc_0242ac1c0002row5_col7\" class=\"data row5 col7\" >-0.000392</td>\n",
              "                        <td id=\"T_e3bc6818_63cf_11eb_a8cc_0242ac1c0002row5_col8\" class=\"data row5 col8\" >0.014882</td>\n",
              "                        <td id=\"T_e3bc6818_63cf_11eb_a8cc_0242ac1c0002row5_col9\" class=\"data row5 col9\" >0.028633</td>\n",
              "                        <td id=\"T_e3bc6818_63cf_11eb_a8cc_0242ac1c0002row5_col10\" class=\"data row5 col10\" >-0.034075</td>\n",
              "                        <td id=\"T_e3bc6818_63cf_11eb_a8cc_0242ac1c0002row5_col11\" class=\"data row5 col11\" >-0.065728</td>\n",
              "                        <td id=\"T_e3bc6818_63cf_11eb_a8cc_0242ac1c0002row5_col12\" class=\"data row5 col12\" >-0.000009</td>\n",
              "                        <td id=\"T_e3bc6818_63cf_11eb_a8cc_0242ac1c0002row5_col13\" class=\"data row5 col13\" >-0.000616</td>\n",
              "                        <td id=\"T_e3bc6818_63cf_11eb_a8cc_0242ac1c0002row5_col14\" class=\"data row5 col14\" >0.129009</td>\n",
              "            </tr>\n",
              "            <tr>\n",
              "                        <th id=\"T_e3bc6818_63cf_11eb_a8cc_0242ac1c0002level0_row6\" class=\"row_heading level0 row6\" >payment_type</th>\n",
              "                        <td id=\"T_e3bc6818_63cf_11eb_a8cc_0242ac1c0002row6_col0\" class=\"data row6 col0\" >-0.012707</td>\n",
              "                        <td id=\"T_e3bc6818_63cf_11eb_a8cc_0242ac1c0002row6_col1\" class=\"data row6 col1\" >0.016564</td>\n",
              "                        <td id=\"T_e3bc6818_63cf_11eb_a8cc_0242ac1c0002row6_col2\" class=\"data row6 col2\" >-0.020566</td>\n",
              "                        <td id=\"T_e3bc6818_63cf_11eb_a8cc_0242ac1c0002row6_col3\" class=\"data row6 col3\" >0.006139</td>\n",
              "                        <td id=\"T_e3bc6818_63cf_11eb_a8cc_0242ac1c0002row6_col4\" class=\"data row6 col4\" >-0.028173</td>\n",
              "                        <td id=\"T_e3bc6818_63cf_11eb_a8cc_0242ac1c0002row6_col5\" class=\"data row6 col5\" >-0.029818</td>\n",
              "                        <td id=\"T_e3bc6818_63cf_11eb_a8cc_0242ac1c0002row6_col6\" class=\"data row6 col6\" >1.000000</td>\n",
              "                        <td id=\"T_e3bc6818_63cf_11eb_a8cc_0242ac1c0002row6_col7\" class=\"data row6 col7\" >0.006944</td>\n",
              "                        <td id=\"T_e3bc6818_63cf_11eb_a8cc_0242ac1c0002row6_col8\" class=\"data row6 col8\" >-0.021476</td>\n",
              "                        <td id=\"T_e3bc6818_63cf_11eb_a8cc_0242ac1c0002row6_col9\" class=\"data row6 col9\" >-0.178163</td>\n",
              "                        <td id=\"T_e3bc6818_63cf_11eb_a8cc_0242ac1c0002row6_col10\" class=\"data row6 col10\" >-0.484442</td>\n",
              "                        <td id=\"T_e3bc6818_63cf_11eb_a8cc_0242ac1c0002row6_col11\" class=\"data row6 col11\" >-0.033897</td>\n",
              "                        <td id=\"T_e3bc6818_63cf_11eb_a8cc_0242ac1c0002row6_col12\" class=\"data row6 col12\" >-0.221938</td>\n",
              "                        <td id=\"T_e3bc6818_63cf_11eb_a8cc_0242ac1c0002row6_col13\" class=\"data row6 col13\" >0.004156</td>\n",
              "                        <td id=\"T_e3bc6818_63cf_11eb_a8cc_0242ac1c0002row6_col14\" class=\"data row6 col14\" >-0.175131</td>\n",
              "            </tr>\n",
              "            <tr>\n",
              "                        <th id=\"T_e3bc6818_63cf_11eb_a8cc_0242ac1c0002level0_row7\" class=\"row_heading level0 row7\" >fare_amount</th>\n",
              "                        <td id=\"T_e3bc6818_63cf_11eb_a8cc_0242ac1c0002row7_col0\" class=\"data row7 col0\" >-0.001725</td>\n",
              "                        <td id=\"T_e3bc6818_63cf_11eb_a8cc_0242ac1c0002row7_col1\" class=\"data row7 col1\" >-0.000294</td>\n",
              "                        <td id=\"T_e3bc6818_63cf_11eb_a8cc_0242ac1c0002row7_col2\" class=\"data row7 col2\" >0.017491</td>\n",
              "                        <td id=\"T_e3bc6818_63cf_11eb_a8cc_0242ac1c0002row7_col3\" class=\"data row7 col3\" >0.004868</td>\n",
              "                        <td id=\"T_e3bc6818_63cf_11eb_a8cc_0242ac1c0002row7_col4\" class=\"data row7 col4\" >-0.000217</td>\n",
              "                        <td id=\"T_e3bc6818_63cf_11eb_a8cc_0242ac1c0002row7_col5\" class=\"data row7 col5\" >-0.000392</td>\n",
              "                        <td id=\"T_e3bc6818_63cf_11eb_a8cc_0242ac1c0002row7_col6\" class=\"data row7 col6\" >0.006944</td>\n",
              "                        <td id=\"T_e3bc6818_63cf_11eb_a8cc_0242ac1c0002row7_col7\" class=\"data row7 col7\" >1.000000</td>\n",
              "                        <td id=\"T_e3bc6818_63cf_11eb_a8cc_0242ac1c0002row7_col8\" class=\"data row7 col8\" >0.001580</td>\n",
              "                        <td id=\"T_e3bc6818_63cf_11eb_a8cc_0242ac1c0002row7_col9\" class=\"data row7 col9\" >-0.006006</td>\n",
              "                        <td id=\"T_e3bc6818_63cf_11eb_a8cc_0242ac1c0002row7_col10\" class=\"data row7 col10\" >0.010816</td>\n",
              "                        <td id=\"T_e3bc6818_63cf_11eb_a8cc_0242ac1c0002row7_col11\" class=\"data row7 col11\" >0.012652</td>\n",
              "                        <td id=\"T_e3bc6818_63cf_11eb_a8cc_0242ac1c0002row7_col12\" class=\"data row7 col12\" >-0.010373</td>\n",
              "                        <td id=\"T_e3bc6818_63cf_11eb_a8cc_0242ac1c0002row7_col13\" class=\"data row7 col13\" >0.999976</td>\n",
              "                        <td id=\"T_e3bc6818_63cf_11eb_a8cc_0242ac1c0002row7_col14\" class=\"data row7 col14\" >-0.004353</td>\n",
              "            </tr>\n",
              "            <tr>\n",
              "                        <th id=\"T_e3bc6818_63cf_11eb_a8cc_0242ac1c0002level0_row8\" class=\"row_heading level0 row8\" >extra</th>\n",
              "                        <td id=\"T_e3bc6818_63cf_11eb_a8cc_0242ac1c0002row8_col0\" class=\"data row8 col0\" >-0.858735</td>\n",
              "                        <td id=\"T_e3bc6818_63cf_11eb_a8cc_0242ac1c0002row8_col1\" class=\"data row8 col1\" >-0.135692</td>\n",
              "                        <td id=\"T_e3bc6818_63cf_11eb_a8cc_0242ac1c0002row8_col2\" class=\"data row8 col2\" >0.001632</td>\n",
              "                        <td id=\"T_e3bc6818_63cf_11eb_a8cc_0242ac1c0002row8_col3\" class=\"data row8 col3\" >-0.022093</td>\n",
              "                        <td id=\"T_e3bc6818_63cf_11eb_a8cc_0242ac1c0002row8_col4\" class=\"data row8 col4\" >0.015927</td>\n",
              "                        <td id=\"T_e3bc6818_63cf_11eb_a8cc_0242ac1c0002row8_col5\" class=\"data row8 col5\" >0.014882</td>\n",
              "                        <td id=\"T_e3bc6818_63cf_11eb_a8cc_0242ac1c0002row8_col6\" class=\"data row8 col6\" >-0.021476</td>\n",
              "                        <td id=\"T_e3bc6818_63cf_11eb_a8cc_0242ac1c0002row8_col7\" class=\"data row8 col7\" >0.001580</td>\n",
              "                        <td id=\"T_e3bc6818_63cf_11eb_a8cc_0242ac1c0002row8_col8\" class=\"data row8 col8\" >1.000000</td>\n",
              "                        <td id=\"T_e3bc6818_63cf_11eb_a8cc_0242ac1c0002row8_col9\" class=\"data row8 col9\" >0.063720</td>\n",
              "                        <td id=\"T_e3bc6818_63cf_11eb_a8cc_0242ac1c0002row8_col10\" class=\"data row8 col10\" >0.002841</td>\n",
              "                        <td id=\"T_e3bc6818_63cf_11eb_a8cc_0242ac1c0002row8_col11\" class=\"data row8 col11\" >0.002643</td>\n",
              "                        <td id=\"T_e3bc6818_63cf_11eb_a8cc_0242ac1c0002row8_col12\" class=\"data row8 col12\" >0.064156</td>\n",
              "                        <td id=\"T_e3bc6818_63cf_11eb_a8cc_0242ac1c0002row8_col13\" class=\"data row8 col13\" >0.002209</td>\n",
              "                        <td id=\"T_e3bc6818_63cf_11eb_a8cc_0242ac1c0002row8_col14\" class=\"data row8 col14\" >0.147109</td>\n",
              "            </tr>\n",
              "            <tr>\n",
              "                        <th id=\"T_e3bc6818_63cf_11eb_a8cc_0242ac1c0002level0_row9\" class=\"row_heading level0 row9\" >mta_tax</th>\n",
              "                        <td id=\"T_e3bc6818_63cf_11eb_a8cc_0242ac1c0002row9_col0\" class=\"data row9 col0\" >-0.028355</td>\n",
              "                        <td id=\"T_e3bc6818_63cf_11eb_a8cc_0242ac1c0002row9_col1\" class=\"data row9 col1\" >0.002063</td>\n",
              "                        <td id=\"T_e3bc6818_63cf_11eb_a8cc_0242ac1c0002row9_col2\" class=\"data row9 col2\" >-0.085268</td>\n",
              "                        <td id=\"T_e3bc6818_63cf_11eb_a8cc_0242ac1c0002row9_col3\" class=\"data row9 col3\" >-0.181959</td>\n",
              "                        <td id=\"T_e3bc6818_63cf_11eb_a8cc_0242ac1c0002row9_col4\" class=\"data row9 col4\" >0.010784</td>\n",
              "                        <td id=\"T_e3bc6818_63cf_11eb_a8cc_0242ac1c0002row9_col5\" class=\"data row9 col5\" >0.028633</td>\n",
              "                        <td id=\"T_e3bc6818_63cf_11eb_a8cc_0242ac1c0002row9_col6\" class=\"data row9 col6\" >-0.178163</td>\n",
              "                        <td id=\"T_e3bc6818_63cf_11eb_a8cc_0242ac1c0002row9_col7\" class=\"data row9 col7\" >-0.006006</td>\n",
              "                        <td id=\"T_e3bc6818_63cf_11eb_a8cc_0242ac1c0002row9_col8\" class=\"data row9 col8\" >0.063720</td>\n",
              "                        <td id=\"T_e3bc6818_63cf_11eb_a8cc_0242ac1c0002row9_col9\" class=\"data row9 col9\" >1.000000</td>\n",
              "                        <td id=\"T_e3bc6818_63cf_11eb_a8cc_0242ac1c0002row9_col10\" class=\"data row9 col10\" >-0.060702</td>\n",
              "                        <td id=\"T_e3bc6818_63cf_11eb_a8cc_0242ac1c0002row9_col11\" class=\"data row9 col11\" >-0.168105</td>\n",
              "                        <td id=\"T_e3bc6818_63cf_11eb_a8cc_0242ac1c0002row9_col12\" class=\"data row9 col12\" >0.744811</td>\n",
              "                        <td id=\"T_e3bc6818_63cf_11eb_a8cc_0242ac1c0002row9_col13\" class=\"data row9 col13\" >-0.006107</td>\n",
              "                        <td id=\"T_e3bc6818_63cf_11eb_a8cc_0242ac1c0002row9_col14\" class=\"data row9 col14\" >0.409854</td>\n",
              "            </tr>\n",
              "            <tr>\n",
              "                        <th id=\"T_e3bc6818_63cf_11eb_a8cc_0242ac1c0002level0_row10\" class=\"row_heading level0 row10\" >tip_amount</th>\n",
              "                        <td id=\"T_e3bc6818_63cf_11eb_a8cc_0242ac1c0002row10_col0\" class=\"data row10 col0\" >0.021642</td>\n",
              "                        <td id=\"T_e3bc6818_63cf_11eb_a8cc_0242ac1c0002row10_col1\" class=\"data row10 col1\" >0.000780</td>\n",
              "                        <td id=\"T_e3bc6818_63cf_11eb_a8cc_0242ac1c0002row10_col2\" class=\"data row10 col2\" >0.506991</td>\n",
              "                        <td id=\"T_e3bc6818_63cf_11eb_a8cc_0242ac1c0002row10_col3\" class=\"data row10 col3\" >0.133305</td>\n",
              "                        <td id=\"T_e3bc6818_63cf_11eb_a8cc_0242ac1c0002row10_col4\" class=\"data row10 col4\" >-0.027828</td>\n",
              "                        <td id=\"T_e3bc6818_63cf_11eb_a8cc_0242ac1c0002row10_col5\" class=\"data row10 col5\" >-0.034075</td>\n",
              "                        <td id=\"T_e3bc6818_63cf_11eb_a8cc_0242ac1c0002row10_col6\" class=\"data row10 col6\" >-0.484442</td>\n",
              "                        <td id=\"T_e3bc6818_63cf_11eb_a8cc_0242ac1c0002row10_col7\" class=\"data row10 col7\" >0.010816</td>\n",
              "                        <td id=\"T_e3bc6818_63cf_11eb_a8cc_0242ac1c0002row10_col8\" class=\"data row10 col8\" >0.002841</td>\n",
              "                        <td id=\"T_e3bc6818_63cf_11eb_a8cc_0242ac1c0002row10_col9\" class=\"data row10 col9\" >-0.060702</td>\n",
              "                        <td id=\"T_e3bc6818_63cf_11eb_a8cc_0242ac1c0002row10_col10\" class=\"data row10 col10\" >1.000000</td>\n",
              "                        <td id=\"T_e3bc6818_63cf_11eb_a8cc_0242ac1c0002row10_col11\" class=\"data row10 col11\" >0.431176</td>\n",
              "                        <td id=\"T_e3bc6818_63cf_11eb_a8cc_0242ac1c0002row10_col12\" class=\"data row10 col12\" >0.043125</td>\n",
              "                        <td id=\"T_e3bc6818_63cf_11eb_a8cc_0242ac1c0002row10_col13\" class=\"data row10 col13\" >0.017104</td>\n",
              "                        <td id=\"T_e3bc6818_63cf_11eb_a8cc_0242ac1c0002row10_col14\" class=\"data row10 col14\" >-0.008575</td>\n",
              "            </tr>\n",
              "            <tr>\n",
              "                        <th id=\"T_e3bc6818_63cf_11eb_a8cc_0242ac1c0002level0_row11\" class=\"row_heading level0 row11\" >tolls_amount</th>\n",
              "                        <td id=\"T_e3bc6818_63cf_11eb_a8cc_0242ac1c0002row11_col0\" class=\"data row11 col0\" >0.010144</td>\n",
              "                        <td id=\"T_e3bc6818_63cf_11eb_a8cc_0242ac1c0002row11_col1\" class=\"data row11 col1\" >0.012475</td>\n",
              "                        <td id=\"T_e3bc6818_63cf_11eb_a8cc_0242ac1c0002row11_col2\" class=\"data row11 col2\" >0.615388</td>\n",
              "                        <td id=\"T_e3bc6818_63cf_11eb_a8cc_0242ac1c0002row11_col3\" class=\"data row11 col3\" >0.155296</td>\n",
              "                        <td id=\"T_e3bc6818_63cf_11eb_a8cc_0242ac1c0002row11_col4\" class=\"data row11 col4\" >-0.049324</td>\n",
              "                        <td id=\"T_e3bc6818_63cf_11eb_a8cc_0242ac1c0002row11_col5\" class=\"data row11 col5\" >-0.065728</td>\n",
              "                        <td id=\"T_e3bc6818_63cf_11eb_a8cc_0242ac1c0002row11_col6\" class=\"data row11 col6\" >-0.033897</td>\n",
              "                        <td id=\"T_e3bc6818_63cf_11eb_a8cc_0242ac1c0002row11_col7\" class=\"data row11 col7\" >0.012652</td>\n",
              "                        <td id=\"T_e3bc6818_63cf_11eb_a8cc_0242ac1c0002row11_col8\" class=\"data row11 col8\" >0.002643</td>\n",
              "                        <td id=\"T_e3bc6818_63cf_11eb_a8cc_0242ac1c0002row11_col9\" class=\"data row11 col9\" >-0.168105</td>\n",
              "                        <td id=\"T_e3bc6818_63cf_11eb_a8cc_0242ac1c0002row11_col10\" class=\"data row11 col10\" >0.431176</td>\n",
              "                        <td id=\"T_e3bc6818_63cf_11eb_a8cc_0242ac1c0002row11_col11\" class=\"data row11 col11\" >1.000000</td>\n",
              "                        <td id=\"T_e3bc6818_63cf_11eb_a8cc_0242ac1c0002row11_col12\" class=\"data row11 col12\" >0.018226</td>\n",
              "                        <td id=\"T_e3bc6818_63cf_11eb_a8cc_0242ac1c0002row11_col13\" class=\"data row11 col13\" >0.017665</td>\n",
              "                        <td id=\"T_e3bc6818_63cf_11eb_a8cc_0242ac1c0002row11_col14\" class=\"data row11 col14\" >-0.124516</td>\n",
              "            </tr>\n",
              "            <tr>\n",
              "                        <th id=\"T_e3bc6818_63cf_11eb_a8cc_0242ac1c0002level0_row12\" class=\"row_heading level0 row12\" >improvement_surcharge</th>\n",
              "                        <td id=\"T_e3bc6818_63cf_11eb_a8cc_0242ac1c0002row12_col0\" class=\"data row12 col0\" >-0.039408</td>\n",
              "                        <td id=\"T_e3bc6818_63cf_11eb_a8cc_0242ac1c0002row12_col1\" class=\"data row12 col1\" >0.003783</td>\n",
              "                        <td id=\"T_e3bc6818_63cf_11eb_a8cc_0242ac1c0002row12_col2\" class=\"data row12 col2\" >0.018388</td>\n",
              "                        <td id=\"T_e3bc6818_63cf_11eb_a8cc_0242ac1c0002row12_col3\" class=\"data row12 col3\" >-0.039509</td>\n",
              "                        <td id=\"T_e3bc6818_63cf_11eb_a8cc_0242ac1c0002row12_col4\" class=\"data row12 col4\" >0.002824</td>\n",
              "                        <td id=\"T_e3bc6818_63cf_11eb_a8cc_0242ac1c0002row12_col5\" class=\"data row12 col5\" >-0.000009</td>\n",
              "                        <td id=\"T_e3bc6818_63cf_11eb_a8cc_0242ac1c0002row12_col6\" class=\"data row12 col6\" >-0.221938</td>\n",
              "                        <td id=\"T_e3bc6818_63cf_11eb_a8cc_0242ac1c0002row12_col7\" class=\"data row12 col7\" >-0.010373</td>\n",
              "                        <td id=\"T_e3bc6818_63cf_11eb_a8cc_0242ac1c0002row12_col8\" class=\"data row12 col8\" >0.064156</td>\n",
              "                        <td id=\"T_e3bc6818_63cf_11eb_a8cc_0242ac1c0002row12_col9\" class=\"data row12 col9\" >0.744811</td>\n",
              "                        <td id=\"T_e3bc6818_63cf_11eb_a8cc_0242ac1c0002row12_col10\" class=\"data row12 col10\" >0.043125</td>\n",
              "                        <td id=\"T_e3bc6818_63cf_11eb_a8cc_0242ac1c0002row12_col11\" class=\"data row12 col11\" >0.018226</td>\n",
              "                        <td id=\"T_e3bc6818_63cf_11eb_a8cc_0242ac1c0002row12_col12\" class=\"data row12 col12\" >1.000000</td>\n",
              "                        <td id=\"T_e3bc6818_63cf_11eb_a8cc_0242ac1c0002row12_col13\" class=\"data row12 col13\" >-0.009475</td>\n",
              "                        <td id=\"T_e3bc6818_63cf_11eb_a8cc_0242ac1c0002row12_col14\" class=\"data row12 col14\" >0.320042</td>\n",
              "            </tr>\n",
              "            <tr>\n",
              "                        <th id=\"T_e3bc6818_63cf_11eb_a8cc_0242ac1c0002level0_row13\" class=\"row_heading level0 row13\" >total_amount</th>\n",
              "                        <td id=\"T_e3bc6818_63cf_11eb_a8cc_0242ac1c0002row13_col0\" class=\"data row13 col0\" >-0.001597</td>\n",
              "                        <td id=\"T_e3bc6818_63cf_11eb_a8cc_0242ac1c0002row13_col1\" class=\"data row13 col1\" >-0.000227</td>\n",
              "                        <td id=\"T_e3bc6818_63cf_11eb_a8cc_0242ac1c0002row13_col2\" class=\"data row13 col2\" >0.021689</td>\n",
              "                        <td id=\"T_e3bc6818_63cf_11eb_a8cc_0242ac1c0002row13_col3\" class=\"data row13 col3\" >0.005854</td>\n",
              "                        <td id=\"T_e3bc6818_63cf_11eb_a8cc_0242ac1c0002row13_col4\" class=\"data row13 col4\" >-0.000370</td>\n",
              "                        <td id=\"T_e3bc6818_63cf_11eb_a8cc_0242ac1c0002row13_col5\" class=\"data row13 col5\" >-0.000616</td>\n",
              "                        <td id=\"T_e3bc6818_63cf_11eb_a8cc_0242ac1c0002row13_col6\" class=\"data row13 col6\" >0.004156</td>\n",
              "                        <td id=\"T_e3bc6818_63cf_11eb_a8cc_0242ac1c0002row13_col7\" class=\"data row13 col7\" >0.999976</td>\n",
              "                        <td id=\"T_e3bc6818_63cf_11eb_a8cc_0242ac1c0002row13_col8\" class=\"data row13 col8\" >0.002209</td>\n",
              "                        <td id=\"T_e3bc6818_63cf_11eb_a8cc_0242ac1c0002row13_col9\" class=\"data row13 col9\" >-0.006107</td>\n",
              "                        <td id=\"T_e3bc6818_63cf_11eb_a8cc_0242ac1c0002row13_col10\" class=\"data row13 col10\" >0.017104</td>\n",
              "                        <td id=\"T_e3bc6818_63cf_11eb_a8cc_0242ac1c0002row13_col11\" class=\"data row13 col11\" >0.017665</td>\n",
              "                        <td id=\"T_e3bc6818_63cf_11eb_a8cc_0242ac1c0002row13_col12\" class=\"data row13 col12\" >-0.009475</td>\n",
              "                        <td id=\"T_e3bc6818_63cf_11eb_a8cc_0242ac1c0002row13_col13\" class=\"data row13 col13\" >1.000000</td>\n",
              "                        <td id=\"T_e3bc6818_63cf_11eb_a8cc_0242ac1c0002row13_col14\" class=\"data row13 col14\" >-0.003494</td>\n",
              "            </tr>\n",
              "            <tr>\n",
              "                        <th id=\"T_e3bc6818_63cf_11eb_a8cc_0242ac1c0002level0_row14\" class=\"row_heading level0 row14\" >congestion_surcharge</th>\n",
              "                        <td id=\"T_e3bc6818_63cf_11eb_a8cc_0242ac1c0002row14_col0\" class=\"data row14 col0\" >-0.009748</td>\n",
              "                        <td id=\"T_e3bc6818_63cf_11eb_a8cc_0242ac1c0002row14_col1\" class=\"data row14 col1\" >0.013716</td>\n",
              "                        <td id=\"T_e3bc6818_63cf_11eb_a8cc_0242ac1c0002row14_col2\" class=\"data row14 col2\" >-0.210402</td>\n",
              "                        <td id=\"T_e3bc6818_63cf_11eb_a8cc_0242ac1c0002row14_col3\" class=\"data row14 col3\" >-0.094704</td>\n",
              "                        <td id=\"T_e3bc6818_63cf_11eb_a8cc_0242ac1c0002row14_col4\" class=\"data row14 col4\" >0.127982</td>\n",
              "                        <td id=\"T_e3bc6818_63cf_11eb_a8cc_0242ac1c0002row14_col5\" class=\"data row14 col5\" >0.129009</td>\n",
              "                        <td id=\"T_e3bc6818_63cf_11eb_a8cc_0242ac1c0002row14_col6\" class=\"data row14 col6\" >-0.175131</td>\n",
              "                        <td id=\"T_e3bc6818_63cf_11eb_a8cc_0242ac1c0002row14_col7\" class=\"data row14 col7\" >-0.004353</td>\n",
              "                        <td id=\"T_e3bc6818_63cf_11eb_a8cc_0242ac1c0002row14_col8\" class=\"data row14 col8\" >0.147109</td>\n",
              "                        <td id=\"T_e3bc6818_63cf_11eb_a8cc_0242ac1c0002row14_col9\" class=\"data row14 col9\" >0.409854</td>\n",
              "                        <td id=\"T_e3bc6818_63cf_11eb_a8cc_0242ac1c0002row14_col10\" class=\"data row14 col10\" >-0.008575</td>\n",
              "                        <td id=\"T_e3bc6818_63cf_11eb_a8cc_0242ac1c0002row14_col11\" class=\"data row14 col11\" >-0.124516</td>\n",
              "                        <td id=\"T_e3bc6818_63cf_11eb_a8cc_0242ac1c0002row14_col12\" class=\"data row14 col12\" >0.320042</td>\n",
              "                        <td id=\"T_e3bc6818_63cf_11eb_a8cc_0242ac1c0002row14_col13\" class=\"data row14 col13\" >-0.003494</td>\n",
              "                        <td id=\"T_e3bc6818_63cf_11eb_a8cc_0242ac1c0002row14_col14\" class=\"data row14 col14\" >1.000000</td>\n",
              "            </tr>\n",
              "    </tbody></table>"
            ],
            "text/plain": [
              "<pandas.io.formats.style.Styler at 0x7fe2790c15c0>"
            ]
          },
          "metadata": {
            "tags": []
          },
          "execution_count": 6
        }
      ]
    },
    {
      "cell_type": "code",
      "metadata": {
        "id": "k8igHaRaIjMF"
      },
      "source": [
        "import seaborn as sns\r\n",
        "import matplotlib.pyplot as plt\r\n",
        "\r\n",
        "#sns.pairplot(df)"
      ],
      "execution_count": 7,
      "outputs": []
    },
    {
      "cell_type": "code",
      "metadata": {
        "colab": {
          "base_uri": "https://localhost:8080/",
          "height": 50
        },
        "id": "JxGf0lb7bBZT",
        "outputId": "e66fabb6-9ffe-4f56-8b48-252694459827"
      },
      "source": [
        "plt.figure(figsize=(10,8))\r\n",
        "#sns.histplot(df.total_amount);"
      ],
      "execution_count": 8,
      "outputs": [
        {
          "output_type": "execute_result",
          "data": {
            "text/plain": [
              "<Figure size 720x576 with 0 Axes>"
            ]
          },
          "metadata": {
            "tags": []
          },
          "execution_count": 8
        },
        {
          "output_type": "display_data",
          "data": {
            "text/plain": [
              "<Figure size 720x576 with 0 Axes>"
            ]
          },
          "metadata": {
            "tags": []
          }
        }
      ]
    },
    {
      "cell_type": "markdown",
      "metadata": {
        "id": "9IhRygRcJBBy"
      },
      "source": [
        "4. Split your data into training and testing datasets..."
      ]
    },
    {
      "cell_type": "code",
      "metadata": {
        "id": "xMLlr1gV40JO"
      },
      "source": [
        "X = df.fare_amount\r\n",
        "X = X.loc[X<1000]\r\n",
        "y = df.total_amount\r\n",
        "y = y.loc[y<1000]"
      ],
      "execution_count": 10,
      "outputs": []
    },
    {
      "cell_type": "code",
      "metadata": {
        "colab": {
          "base_uri": "https://localhost:8080/"
        },
        "id": "HV6RPC1Pi1sw",
        "outputId": "0c474260-df62-480d-ffbe-1ca30f54d2e5"
      },
      "source": [
        "y_pred_rain=lr.predict(pd.DataFrame(X_train))\r\n",
        "y_pred_rain"
      ],
      "execution_count": 17,
      "outputs": [
        {
          "output_type": "execute_result",
          "data": {
            "text/plain": [
              "array([22.54766934, 10.55806218, 44.12896223, ..., 21.94818898,\n",
              "       65.71025511,  8.16014074])"
            ]
          },
          "metadata": {
            "tags": []
          },
          "execution_count": 17
        }
      ]
    },
    {
      "cell_type": "code",
      "metadata": {
        "colab": {
          "base_uri": "https://localhost:8080/",
          "height": 512
        },
        "id": "-uwYZEQw4vgG",
        "outputId": "ab8ba6fd-93d6-49cc-e476-45da8785fcff"
      },
      "source": [
        "import matplotlib.pyplot as plt\r\n",
        "plt.figure(figsize=(14,8))\r\n",
        "c = \r\n",
        "plt.scatter(x=X_train, y=y_train, color =\"red\", s=100)\r\n",
        "plt.plot(X_train,y_pred_rain)\r\n",
        "plt.title(\"'(Training set)'\")\r\n",
        "plt.xlabel(\"Fare Amount\")\r\n",
        "plt.ylabel(\"Total Amount\")\r\n",
        "plt.show()"
      ],
      "execution_count": 26,
      "outputs": [
        {
          "output_type": "display_data",
          "data": {
            "image/png": "[encoded data removed]",
            "text/plain": [
              "<Figure size 1008x576 with 1 Axes>"
            ]
          },
          "metadata": {
            "tags": [],
            "needs_background": "light"
          }
        }
      ]
    },
    {
      "cell_type": "code",
      "metadata": {
        "id": "LAdc8dOSJEof"
      },
      "source": [
        "from sklearn.model_selection import train_test_split\r\n",
        "\r\n",
        "# focus single variable because we're doing simple linear regression\r\n",
        "\r\n",
        "\r\n",
        "# split data\r\n",
        "X_train, X_test, y_train, y_test = train_test_split(X, y, train_size=0.75, random_state=2)"
      ],
      "execution_count": 11,
      "outputs": []
    },
    {
      "cell_type": "markdown",
      "metadata": {
        "id": "vAEzLu-7ItC5"
      },
      "source": [
        "5. Import, create, and fit a LinearRegression model with 1 variable"
      ]
    },
    {
      "cell_type": "code",
      "metadata": {
        "id": "34aVrxcNIv4d"
      },
      "source": [
        "# import linear regression\r\n",
        "from sklearn.linear_model import LinearRegression"
      ],
      "execution_count": 14,
      "outputs": []
    },
    {
      "cell_type": "code",
      "metadata": {
        "id": "zP658hHbcabY"
      },
      "source": [
        "lr = LinearRegression()\r\n",
        "y_pred_rain=lr.predict(pd.DataFrame(X_train))\r\n",
        "y_pred_rain"
      ],
      "execution_count": 15,
      "outputs": []
    },
    {
      "cell_type": "code",
      "metadata": {
        "id": "vwu1bH1_JK6V",
        "colab": {
          "base_uri": "https://localhost:8080/"
        },
        "outputId": "1c1c9ac9-fcf3-4b08-d405-f2a13390ed79"
      },
      "source": [
        "lr.fit(pd.DataFrame(X_train), y_train)"
      ],
      "execution_count": 16,
      "outputs": [
        {
          "output_type": "execute_result",
          "data": {
            "text/plain": [
              "LinearRegression(copy_X=True, fit_intercept=True, n_jobs=None, normalize=False)"
            ]
          },
          "metadata": {
            "tags": []
          },
          "execution_count": 16
        }
      ]
    },
    {
      "cell_type": "markdown",
      "metadata": {
        "id": "C4jtgDpVIysR"
      },
      "source": [
        "6. Make predictions on your `X_test` values..."
      ]
    },
    {
      "cell_type": "code",
      "metadata": {
        "id": "6n7j9lyYJQhj"
      },
      "source": [
        "predictions = lr.predict(pd.DataFrame(X_test))"
      ],
      "execution_count": 13,
      "outputs": []
    },
    {
      "cell_type": "code",
      "metadata": {
        "id": "Yt0ohN6bJR9s",
        "colab": {
          "base_uri": "https://localhost:8080/"
        },
        "outputId": "4767ce9c-7383-42e1-af93-fc34aa5c9e1b"
      },
      "source": [
        "# what do they look like? (show me some of the predictions)\r\n",
        "predictions[-5:]"
      ],
      "execution_count": 14,
      "outputs": [
        {
          "output_type": "execute_result",
          "data": {
            "text/plain": [
              "array([11.05342749, 12.05349046, 18.55389975, 12.55352194, 18.55389975])"
            ]
          },
          "metadata": {
            "tags": []
          },
          "execution_count": 14
        }
      ]
    },
    {
      "cell_type": "code",
      "metadata": {
        "colab": {
          "base_uri": "https://localhost:8080/"
        },
        "id": "3KpGFCAigFk8",
        "outputId": "18778e64-7b43-41c7-9053-4ab136353768"
      },
      "source": [
        "y_test.tail()"
      ],
      "execution_count": 15,
      "outputs": [
        {
          "output_type": "execute_result",
          "data": {
            "text/plain": [
              "51895      9.96\n",
              "289341    11.80\n",
              "194677    18.96\n",
              "373906     9.80\n",
              "218868    16.80\n",
              "Name: total_amount, dtype: float64"
            ]
          },
          "metadata": {
            "tags": []
          },
          "execution_count": 15
        }
      ]
    },
    {
      "cell_type": "markdown",
      "metadata": {
        "id": "0MH2sdLGJYGo"
      },
      "source": [
        "7. Score your model...\r\n",
        "- r2_score\r\n",
        "- other metric (of your choice...)"
      ]
    },
    {
      "cell_type": "code",
      "metadata": {
        "id": "qzEn_dRzJW7z",
        "colab": {
          "base_uri": "https://localhost:8080/"
        },
        "outputId": "f11946fa-8e76-4c7b-fcbd-64fc5af42620"
      },
      "source": [
        "from sklearn.metrics import r2_score\r\n",
        "\r\n",
        "r2_score(y_true=y_test, y_pred=predictions)"
      ],
      "execution_count": 16,
      "outputs": [
        {
          "output_type": "execute_result",
          "data": {
            "text/plain": [
              "0.9316024197163262"
            ]
          },
          "metadata": {
            "tags": []
          },
          "execution_count": 16
        }
      ]
    },
    {
      "cell_type": "code",
      "metadata": {
        "colab": {
          "base_uri": "https://localhost:8080/"
        },
        "id": "M4w2kloMhIl2",
        "outputId": "07988a5c-d30a-4c92-a294-f37a543ce0f1"
      },
      "source": [
        "from sklearn.metrics import mean_absolute_error\r\n",
        "\r\n",
        "mean_absolute_error(y_true=y_test, y_pred=predictions)"
      ],
      "execution_count": 17,
      "outputs": [
        {
          "output_type": "execute_result",
          "data": {
            "text/plain": [
              "2.3113099127342647"
            ]
          },
          "metadata": {
            "tags": []
          },
          "execution_count": 17
        }
      ]
    },
    {
      "cell_type": "code",
      "metadata": {
        "id": "eTgWdLT1JgFj",
        "colab": {
          "base_uri": "https://localhost:8080/"
        },
        "outputId": "7180f176-5479-4b10-e6fd-7a9570542fd6"
      },
      "source": [
        "y_test.std()"
      ],
      "execution_count": 18,
      "outputs": [
        {
          "output_type": "execute_result",
          "data": {
            "text/plain": [
              "15.37006181621604"
            ]
          },
          "metadata": {
            "tags": []
          },
          "execution_count": 18
        }
      ]
    },
    {
      "cell_type": "code",
      "metadata": {
        "colab": {
          "base_uri": "https://localhost:8080/"
        },
        "id": "wac9gInRtCBx",
        "outputId": "e3a3ffcb-539f-446f-917f-6188d19ef557"
      },
      "source": [
        "lr.coef_"
      ],
      "execution_count": 19,
      "outputs": [
        {
          "output_type": "execute_result",
          "data": {
            "text/plain": [
              "array([1.00006297])"
            ]
          },
          "metadata": {
            "tags": []
          },
          "execution_count": 19
        }
      ]
    },
    {
      "cell_type": "code",
      "metadata": {
        "id": "bnV2-Po8jiOp"
      },
      "source": [
        "Xtrain = X_train[241370:,]"
      ],
      "execution_count": 21,
      "outputs": []
    },
    {
      "cell_type": "code",
      "metadata": {
        "colab": {
          "base_uri": "https://localhost:8080/"
        },
        "id": "VsqUBLF1k8It",
        "outputId": "2f999f7d-ab5d-4e8b-c7fd-a1e44a1f4df0"
      },
      "source": [
        "X_train"
      ],
      "execution_count": 22,
      "outputs": [
        {
          "output_type": "execute_result",
          "data": {
            "text/plain": [
              "256026    16.5\n",
              "410149    11.0\n",
              "117757     4.5\n",
              "437263    70.0\n",
              "178293     6.5\n",
              "          ... \n",
              "437782     4.5\n",
              "95816      8.0\n",
              "203245     9.5\n",
              "100879     8.5\n",
              "351400    14.5\n",
              "Name: fare_amount, Length: 362056, dtype: float64"
            ]
          },
          "metadata": {
            "tags": []
          },
          "execution_count": 22
        }
      ]
    },
    {
      "cell_type": "code",
      "metadata": {
        "colab": {
          "base_uri": "https://localhost:8080/"
        },
        "id": "CJqTFoVEk_ax",
        "outputId": "b9e4e01e-dc72-45d0-9a50-3837c0c3882c"
      },
      "source": [
        "y_train"
      ],
      "execution_count": 23,
      "outputs": [
        {
          "output_type": "execute_result",
          "data": {
            "text/plain": [
              "256026    23.76\n",
              "410149    18.36\n",
              "117757     8.30\n",
              "437263    70.30\n",
              "178293    11.76\n",
              "          ...  \n",
              "437782     8.97\n",
              "95816     12.30\n",
              "203245    12.80\n",
              "100879    14.76\n",
              "351400    21.96\n",
              "Name: total_amount, Length: 362056, dtype: float64"
            ]
          },
          "metadata": {
            "tags": []
          },
          "execution_count": 23
        }
      ]
    },
    {
      "cell_type": "code",
      "metadata": {
        "colab": {
          "base_uri": "https://localhost:8080/"
        },
        "id": "q-c2ZB1lj6Ai",
        "outputId": "f53c8e6d-11f5-4b37-bb6d-ca1c7f161699"
      },
      "source": [
        "Xtrain"
      ],
      "execution_count": 24,
      "outputs": [
        {
          "output_type": "execute_result",
          "data": {
            "text/plain": [
              "391007    52.0\n",
              "283264     3.5\n",
              "472049     4.5\n",
              "309701    22.0\n",
              "86116      6.0\n",
              "          ... \n",
              "437782     4.5\n",
              "95816      8.0\n",
              "203245     9.5\n",
              "100879     8.5\n",
              "351400    14.5\n",
              "Name: fare_amount, Length: 120686, dtype: float64"
            ]
          },
          "metadata": {
            "tags": []
          },
          "execution_count": 24
        }
      ]
    },
    {
      "cell_type": "code",
      "metadata": {
        "colab": {
          "base_uri": "https://localhost:8080/"
        },
        "id": "85r2xJA4jkph",
        "outputId": "bb1204a9-95f5-4b6e-fc3d-afacf193ef7b"
      },
      "source": [
        "predictions.shape"
      ],
      "execution_count": 25,
      "outputs": [
        {
          "output_type": "execute_result",
          "data": {
            "text/plain": [
              "(120686,)"
            ]
          },
          "metadata": {
            "tags": []
          },
          "execution_count": 25
        }
      ]
    },
    {
      "cell_type": "code",
      "metadata": {
        "colab": {
          "base_uri": "https://localhost:8080/"
        },
        "id": "WwLQw-sBkLJh",
        "outputId": "9bc302a5-9a3d-4a52-d012-400780a4db97"
      },
      "source": [
        "y_pred_rain.shape"
      ],
      "execution_count": 26,
      "outputs": [
        {
          "output_type": "execute_result",
          "data": {
            "text/plain": [
              "(362056,)"
            ]
          },
          "metadata": {
            "tags": []
          },
          "execution_count": 26
        }
      ]
    },
    {
      "cell_type": "code",
      "metadata": {
        "colab": {
          "base_uri": "https://localhost:8080/"
        },
        "id": "NUkhuRAtmanG",
        "outputId": "1da65bdf-60cd-42a5-f169-5376a7237c23"
      },
      "source": [
        "X_train.shape"
      ],
      "execution_count": 27,
      "outputs": [
        {
          "output_type": "execute_result",
          "data": {
            "text/plain": [
              "(362056,)"
            ]
          },
          "metadata": {
            "tags": []
          },
          "execution_count": 27
        }
      ]
    },
    {
      "cell_type": "code",
      "metadata": {
        "colab": {
          "base_uri": "https://localhost:8080/"
        },
        "id": "Gse2jaYWnBl5",
        "outputId": "278ca8d6-9683-4f3c-ea46-cb5de77278ee"
      },
      "source": [
        "X_train.max()"
      ],
      "execution_count": 28,
      "outputs": [
        {
          "output_type": "execute_result",
          "data": {
            "text/plain": [
              "398468.38"
            ]
          },
          "metadata": {
            "tags": []
          },
          "execution_count": 28
        }
      ]
    },
    {
      "cell_type": "code",
      "metadata": {
        "colab": {
          "base_uri": "https://localhost:8080/"
        },
        "id": "AY2a7PZgnIqI",
        "outputId": "44115ecf-bb3b-4214-cf98-93ff330147f6"
      },
      "source": [
        "y_train.max()"
      ],
      "execution_count": 29,
      "outputs": [
        {
          "output_type": "execute_result",
          "data": {
            "text/plain": [
              "398471.2"
            ]
          },
          "metadata": {
            "tags": []
          },
          "execution_count": 29
        }
      ]
    },
    {
      "cell_type": "code",
      "metadata": {
        "colab": {
          "base_uri": "https://localhost:8080/"
        },
        "id": "x-e287einXrq",
        "outputId": "4e2b7240-2671-4225-af59-0b0aa71fd601"
      },
      "source": [
        "X_train,"
      ],
      "execution_count": 30,
      "outputs": [
        {
          "output_type": "execute_result",
          "data": {
            "text/plain": [
              "(256026    16.5\n",
              " 410149    11.0\n",
              " 117757     4.5\n",
              " 437263    70.0\n",
              " 178293     6.5\n",
              "           ... \n",
              " 437782     4.5\n",
              " 95816      8.0\n",
              " 203245     9.5\n",
              " 100879     8.5\n",
              " 351400    14.5\n",
              " Name: fare_amount, Length: 362056, dtype: float64,)"
            ]
          },
          "metadata": {
            "tags": []
          },
          "execution_count": 30
        }
      ]
    },
    {
      "cell_type": "code",
      "metadata": {
        "colab": {
          "base_uri": "https://localhost:8080/"
        },
        "id": "MNae47iNoti1",
        "outputId": "f18a0444-bfa3-4bff-d789-298952d09ee0"
      },
      "source": [
        "y_pred_rain.shape"
      ],
      "execution_count": 31,
      "outputs": [
        {
          "output_type": "execute_result",
          "data": {
            "text/plain": [
              "(362056,)"
            ]
          },
          "metadata": {
            "tags": []
          },
          "execution_count": 31
        }
      ]
    },
    {
      "cell_type": "code",
      "metadata": {
        "colab": {
          "base_uri": "https://localhost:8080/"
        },
        "id": "D3in6fGdow2z",
        "outputId": "28f90f9e-23be-4e26-e61d-a7ab6e6acdb5"
      },
      "source": [
        "X_train.shape"
      ],
      "execution_count": 32,
      "outputs": [
        {
          "output_type": "execute_result",
          "data": {
            "text/plain": [
              "(362056,)"
            ]
          },
          "metadata": {
            "tags": []
          },
          "execution_count": 32
        }
      ]
    },
    {
      "cell_type": "code",
      "metadata": {
        "colab": {
          "base_uri": "https://localhost:8080/",
          "height": 264
        },
        "id": "cTk33_GI0A36",
        "outputId": "d7db83e2-76f8-4fd8-db2a-69f6267e18fa"
      },
      "source": [
        "import matplotlib.pyplot as plt\r\n",
        "plt.scatter(y_test, predictions);"
      ],
      "execution_count": 33,
      "outputs": [
        {
          "output_type": "display_data",
          "data": {
            "image/png": "[encoded data removed]",
            "text/plain": [
              "<Figure size 432x288 with 1 Axes>"
            ]
          },
          "metadata": {
            "tags": [],
            "needs_background": "light"
          }
        }
      ]
    },
    {
      "cell_type": "code",
      "metadata": {
        "colab": {
          "base_uri": "https://localhost:8080/",
          "height": 387
        },
        "id": "yFcaoVLWioDV",
        "outputId": "c9f4343c-849a-49ff-dbeb-732261490085"
      },
      "source": [
        "import matplotlib.pyplot as plt\r\n",
        "plt.scatter(x=X_train.loc[X_train<100000], y=y_train.loc[y_train<100000], color =\"red\")\r\n",
        "plt.plot(X_train.loc[X_train<100000],pd.DataFrame(y_pred_rain).loc[pd.Series(y_pred_rain) <100000])\r\n",
        "plt.title(\"'(Training set)'\")\r\n",
        "plt.xlabel(\"\")\r\n",
        "plt.ylabel(\"\")\r\n",
        "plt.show()\r\n"
      ],
      "execution_count": 57,
      "outputs": [
        {
          "output_type": "error",
          "ename": "ValueError",
          "evalue": "ignored",
          "traceback": [
            "\u001b[0;31m---------------------------------------------------------------------------\u001b[0m",
            "\u001b[0;31mValueError\u001b[0m                                Traceback (most recent call last)",
            "\u001b[0;32m<ipython-input-57-75a0ce382d42>\u001b[0m in \u001b[0;36m<module>\u001b[0;34m()\u001b[0m\n\u001b[1;32m      1\u001b[0m \u001b[0;32mimport\u001b[0m \u001b[0mmatplotlib\u001b[0m\u001b[0;34m.\u001b[0m\u001b[0mpyplot\u001b[0m \u001b[0;32mas\u001b[0m \u001b[0mplt\u001b[0m\u001b[0;34m\u001b[0m\u001b[0;34m\u001b[0m\u001b[0m\n\u001b[0;32m----> 2\u001b[0;31m \u001b[0mplt\u001b[0m\u001b[0;34m.\u001b[0m\u001b[0mscatter\u001b[0m\u001b[0;34m(\u001b[0m\u001b[0mx\u001b[0m\u001b[0;34m=\u001b[0m\u001b[0mX_train\u001b[0m\u001b[0;34m.\u001b[0m\u001b[0mloc\u001b[0m\u001b[0;34m[\u001b[0m\u001b[0mX_train\u001b[0m\u001b[0;34m<\u001b[0m\u001b[0;36m100000\u001b[0m\u001b[0;34m]\u001b[0m\u001b[0;34m,\u001b[0m \u001b[0my\u001b[0m\u001b[0;34m=\u001b[0m\u001b[0my_train\u001b[0m\u001b[0;34m.\u001b[0m\u001b[0mloc\u001b[0m\u001b[0;34m[\u001b[0m\u001b[0my_train\u001b[0m\u001b[0;34m<\u001b[0m\u001b[0;36m100000\u001b[0m\u001b[0;34m]\u001b[0m\u001b[0;34m,\u001b[0m \u001b[0mcolor\u001b[0m \u001b[0;34m=\u001b[0m\u001b[0;34m\"red\"\u001b[0m\u001b[0;34m)\u001b[0m\u001b[0;34m\u001b[0m\u001b[0;34m\u001b[0m\u001b[0m\n\u001b[0m\u001b[1;32m      3\u001b[0m \u001b[0mplt\u001b[0m\u001b[0;34m.\u001b[0m\u001b[0mplot\u001b[0m\u001b[0;34m(\u001b[0m\u001b[0mX_train\u001b[0m\u001b[0;34m.\u001b[0m\u001b[0mloc\u001b[0m\u001b[0;34m[\u001b[0m\u001b[0mX_train\u001b[0m\u001b[0;34m<\u001b[0m\u001b[0;36m100000\u001b[0m\u001b[0;34m]\u001b[0m\u001b[0;34m,\u001b[0m\u001b[0mpd\u001b[0m\u001b[0;34m.\u001b[0m\u001b[0mDataFrame\u001b[0m\u001b[0;34m(\u001b[0m\u001b[0my_pred_rain\u001b[0m\u001b[0;34m)\u001b[0m\u001b[0;34m.\u001b[0m\u001b[0mloc\u001b[0m\u001b[0;34m[\u001b[0m\u001b[0mpd\u001b[0m\u001b[0;34m.\u001b[0m\u001b[0mSeries\u001b[0m\u001b[0;34m(\u001b[0m\u001b[0my_pred_rain\u001b[0m\u001b[0;34m)\u001b[0m \u001b[0;34m<\u001b[0m\u001b[0;36m100000\u001b[0m\u001b[0;34m]\u001b[0m\u001b[0;34m)\u001b[0m\u001b[0;34m\u001b[0m\u001b[0;34m\u001b[0m\u001b[0m\n\u001b[1;32m      4\u001b[0m \u001b[0mplt\u001b[0m\u001b[0;34m.\u001b[0m\u001b[0mtitle\u001b[0m\u001b[0;34m(\u001b[0m\u001b[0;34m\"'(Training set)'\"\u001b[0m\u001b[0;34m)\u001b[0m\u001b[0;34m\u001b[0m\u001b[0;34m\u001b[0m\u001b[0m\n\u001b[1;32m      5\u001b[0m \u001b[0mplt\u001b[0m\u001b[0;34m.\u001b[0m\u001b[0mxlabel\u001b[0m\u001b[0;34m(\u001b[0m\u001b[0;34m\"\"\u001b[0m\u001b[0;34m)\u001b[0m\u001b[0;34m\u001b[0m\u001b[0;34m\u001b[0m\u001b[0m\n",
            "\u001b[0;32m/usr/local/lib/python3.6/dist-packages/pandas/core/indexing.py\u001b[0m in \u001b[0;36m__getitem__\u001b[0;34m(self, key)\u001b[0m\n\u001b[1;32m    877\u001b[0m \u001b[0;34m\u001b[0m\u001b[0m\n\u001b[1;32m    878\u001b[0m             \u001b[0mmaybe_callable\u001b[0m \u001b[0;34m=\u001b[0m \u001b[0mcom\u001b[0m\u001b[0;34m.\u001b[0m\u001b[0mapply_if_callable\u001b[0m\u001b[0;34m(\u001b[0m\u001b[0mkey\u001b[0m\u001b[0;34m,\u001b[0m \u001b[0mself\u001b[0m\u001b[0;34m.\u001b[0m\u001b[0mobj\u001b[0m\u001b[0;34m)\u001b[0m\u001b[0;34m\u001b[0m\u001b[0;34m\u001b[0m\u001b[0m\n\u001b[0;32m--> 879\u001b[0;31m             \u001b[0;32mreturn\u001b[0m \u001b[0mself\u001b[0m\u001b[0;34m.\u001b[0m\u001b[0m_getitem_axis\u001b[0m\u001b[0;34m(\u001b[0m\u001b[0mmaybe_callable\u001b[0m\u001b[0;34m,\u001b[0m \u001b[0maxis\u001b[0m\u001b[0;34m=\u001b[0m\u001b[0maxis\u001b[0m\u001b[0;34m)\u001b[0m\u001b[0;34m\u001b[0m\u001b[0;34m\u001b[0m\u001b[0m\n\u001b[0m\u001b[1;32m    880\u001b[0m \u001b[0;34m\u001b[0m\u001b[0m\n\u001b[1;32m    881\u001b[0m     \u001b[0;32mdef\u001b[0m \u001b[0m_is_scalar_access\u001b[0m\u001b[0;34m(\u001b[0m\u001b[0mself\u001b[0m\u001b[0;34m,\u001b[0m \u001b[0mkey\u001b[0m\u001b[0;34m:\u001b[0m \u001b[0mTuple\u001b[0m\u001b[0;34m)\u001b[0m\u001b[0;34m:\u001b[0m\u001b[0;34m\u001b[0m\u001b[0;34m\u001b[0m\u001b[0m\n",
            "\u001b[0;32m/usr/local/lib/python3.6/dist-packages/pandas/core/indexing.py\u001b[0m in \u001b[0;36m_getitem_axis\u001b[0;34m(self, key, axis)\u001b[0m\n\u001b[1;32m   1095\u001b[0m \u001b[0;34m\u001b[0m\u001b[0m\n\u001b[1;32m   1096\u001b[0m                 \u001b[0;32mif\u001b[0m \u001b[0mhasattr\u001b[0m\u001b[0;34m(\u001b[0m\u001b[0mkey\u001b[0m\u001b[0;34m,\u001b[0m \u001b[0;34m\"ndim\"\u001b[0m\u001b[0;34m)\u001b[0m \u001b[0;32mand\u001b[0m \u001b[0mkey\u001b[0m\u001b[0;34m.\u001b[0m\u001b[0mndim\u001b[0m \u001b[0;34m>\u001b[0m \u001b[0;36m1\u001b[0m\u001b[0;34m:\u001b[0m\u001b[0;34m\u001b[0m\u001b[0;34m\u001b[0m\u001b[0m\n\u001b[0;32m-> 1097\u001b[0;31m                     \u001b[0;32mraise\u001b[0m \u001b[0mValueError\u001b[0m\u001b[0;34m(\u001b[0m\u001b[0;34m\"Cannot index with multidimensional key\"\u001b[0m\u001b[0;34m)\u001b[0m\u001b[0;34m\u001b[0m\u001b[0;34m\u001b[0m\u001b[0m\n\u001b[0m\u001b[1;32m   1098\u001b[0m \u001b[0;34m\u001b[0m\u001b[0m\n\u001b[1;32m   1099\u001b[0m                 \u001b[0;32mreturn\u001b[0m \u001b[0mself\u001b[0m\u001b[0;34m.\u001b[0m\u001b[0m_getitem_iterable\u001b[0m\u001b[0;34m(\u001b[0m\u001b[0mkey\u001b[0m\u001b[0;34m,\u001b[0m \u001b[0maxis\u001b[0m\u001b[0;34m=\u001b[0m\u001b[0maxis\u001b[0m\u001b[0;34m)\u001b[0m\u001b[0;34m\u001b[0m\u001b[0;34m\u001b[0m\u001b[0m\n",
            "\u001b[0;31mValueError\u001b[0m: Cannot index with multidimensional key"
          ]
        }
      ]
    },
    {
      "cell_type": "markdown",
      "metadata": {
        "id": "KDpe83ogJgg3"
      },
      "source": [
        "8. Create, and fit a LinearRegression model with **more than** 1 variable"
      ]
    },
    {
      "cell_type": "code",
      "metadata": {
        "id": "s1ce2EwKrlz6"
      },
      "source": [
        "df = df.fillna(lambda x: x.median())"
      ],
      "execution_count": 35,
      "outputs": []
    },
    {
      "cell_type": "code",
      "metadata": {
        "id": "ihXsRPtTJp7m"
      },
      "source": [
        "from sklearn.model_selection import train_test_split\r\n",
        "\r\n",
        "\r\n",
        "vars = ['trip_distance', 'fare_amount', 'mta_tax', 'tip_amount']  # make sense in my head \r\n",
        "\r\n",
        "X = df[vars]\r\n",
        "y = df.total_amount\r\n",
        "\r\n",
        "X_train, X_test, y_train, y_test = train_test_split(X, y, train_size=0.75, random_state=2)"
      ],
      "execution_count": 36,
      "outputs": []
    },
    {
      "cell_type": "code",
      "metadata": {
        "colab": {
          "base_uri": "https://localhost:8080/"
        },
        "id": "vkPnZzYfrXAE",
        "outputId": "05c53b3c-e6fe-439a-b4c5-d618d40d47da"
      },
      "source": [
        "df.isnull().sum()"
      ],
      "execution_count": 37,
      "outputs": [
        {
          "output_type": "execute_result",
          "data": {
            "text/plain": [
              "VendorID                 0\n",
              "tpep_pickup_datetime     0\n",
              "tpep_dropoff_datetime    0\n",
              "passenger_count          0\n",
              "trip_distance            0\n",
              "RatecodeID               0\n",
              "store_and_fwd_flag       0\n",
              "PULocationID             0\n",
              "DOLocationID             0\n",
              "payment_type             0\n",
              "fare_amount              0\n",
              "extra                    0\n",
              "mta_tax                  0\n",
              "tip_amount               0\n",
              "tolls_amount             0\n",
              "improvement_surcharge    0\n",
              "total_amount             0\n",
              "congestion_surcharge     0\n",
              "dtype: int64"
            ]
          },
          "metadata": {
            "tags": []
          },
          "execution_count": 37
        }
      ]
    },
    {
      "cell_type": "code",
      "metadata": {
        "colab": {
          "base_uri": "https://localhost:8080/"
        },
        "id": "x2O-S2kxr8d9",
        "outputId": "e2ba5f96-c65b-4a6f-8a43-0d9a65500f9f"
      },
      "source": [
        "df.info()"
      ],
      "execution_count": 38,
      "outputs": [
        {
          "output_type": "stream",
          "text": [
            "<class 'pandas.core.frame.DataFrame'>\n",
            "RangeIndex: 482742 entries, 0 to 482741\n",
            "Data columns (total 18 columns):\n",
            " #   Column                 Non-Null Count   Dtype  \n",
            "---  ------                 --------------   -----  \n",
            " 0   VendorID               482742 non-null  object \n",
            " 1   tpep_pickup_datetime   482742 non-null  object \n",
            " 2   tpep_dropoff_datetime  482742 non-null  object \n",
            " 3   passenger_count        482742 non-null  object \n",
            " 4   trip_distance          482742 non-null  float64\n",
            " 5   RatecodeID             482742 non-null  object \n",
            " 6   store_and_fwd_flag     482742 non-null  object \n",
            " 7   PULocationID           482742 non-null  int64  \n",
            " 8   DOLocationID           482742 non-null  int64  \n",
            " 9   payment_type           482742 non-null  object \n",
            " 10  fare_amount            482742 non-null  float64\n",
            " 11  extra                  482742 non-null  float64\n",
            " 12  mta_tax                482742 non-null  float64\n",
            " 13  tip_amount             482742 non-null  float64\n",
            " 14  tolls_amount           482742 non-null  float64\n",
            " 15  improvement_surcharge  482742 non-null  float64\n",
            " 16  total_amount           482742 non-null  float64\n",
            " 17  congestion_surcharge   482742 non-null  float64\n",
            "dtypes: float64(9), int64(2), object(7)\n",
            "memory usage: 66.3+ MB\n"
          ],
          "name": "stdout"
        }
      ]
    },
    {
      "cell_type": "code",
      "metadata": {
        "id": "7q6mkOr6JsAk",
        "colab": {
          "base_uri": "https://localhost:8080/"
        },
        "outputId": "bdffd4d4-e0bb-4227-9363-0f0f177c913b"
      },
      "source": [
        "lr.fit(X_train, y_train)"
      ],
      "execution_count": 39,
      "outputs": [
        {
          "output_type": "execute_result",
          "data": {
            "text/plain": [
              "LinearRegression(copy_X=True, fit_intercept=True, n_jobs=None, normalize=False)"
            ]
          },
          "metadata": {
            "tags": []
          },
          "execution_count": 39
        }
      ]
    },
    {
      "cell_type": "code",
      "metadata": {
        "colab": {
          "base_uri": "https://localhost:8080/",
          "height": 406
        },
        "id": "W13v1pP4rHK0",
        "outputId": "4148e1cc-2823-48e1-9d56-d4fa0f001535"
      },
      "source": [
        "X_train"
      ],
      "execution_count": 40,
      "outputs": [
        {
          "output_type": "execute_result",
          "data": {
            "text/html": [
              "<div>\n",
              "<style scoped>\n",
              "    .dataframe tbody tr th:only-of-type {\n",
              "        vertical-align: middle;\n",
              "    }\n",
              "\n",
              "    .dataframe tbody tr th {\n",
              "        vertical-align: top;\n",
              "    }\n",
              "\n",
              "    .dataframe thead th {\n",
              "        text-align: right;\n",
              "    }\n",
              "</style>\n",
              "<table border=\"1\" class=\"dataframe\">\n",
              "  <thead>\n",
              "    <tr style=\"text-align: right;\">\n",
              "      <th></th>\n",
              "      <th>trip_distance</th>\n",
              "      <th>fare_amount</th>\n",
              "      <th>mta_tax</th>\n",
              "      <th>tip_amount</th>\n",
              "    </tr>\n",
              "  </thead>\n",
              "  <tbody>\n",
              "    <tr>\n",
              "      <th>256026</th>\n",
              "      <td>3.04</td>\n",
              "      <td>16.5</td>\n",
              "      <td>0.5</td>\n",
              "      <td>3.96</td>\n",
              "    </tr>\n",
              "    <tr>\n",
              "      <th>410149</th>\n",
              "      <td>1.51</td>\n",
              "      <td>11.0</td>\n",
              "      <td>0.5</td>\n",
              "      <td>3.06</td>\n",
              "    </tr>\n",
              "    <tr>\n",
              "      <th>117757</th>\n",
              "      <td>0.75</td>\n",
              "      <td>4.5</td>\n",
              "      <td>0.5</td>\n",
              "      <td>0.00</td>\n",
              "    </tr>\n",
              "    <tr>\n",
              "      <th>437263</th>\n",
              "      <td>0.00</td>\n",
              "      <td>70.0</td>\n",
              "      <td>0.0</td>\n",
              "      <td>0.00</td>\n",
              "    </tr>\n",
              "    <tr>\n",
              "      <th>178293</th>\n",
              "      <td>0.66</td>\n",
              "      <td>6.5</td>\n",
              "      <td>0.5</td>\n",
              "      <td>1.96</td>\n",
              "    </tr>\n",
              "    <tr>\n",
              "      <th>...</th>\n",
              "      <td>...</td>\n",
              "      <td>...</td>\n",
              "      <td>...</td>\n",
              "      <td>...</td>\n",
              "    </tr>\n",
              "    <tr>\n",
              "      <th>437782</th>\n",
              "      <td>0.65</td>\n",
              "      <td>4.5</td>\n",
              "      <td>0.5</td>\n",
              "      <td>1.17</td>\n",
              "    </tr>\n",
              "    <tr>\n",
              "      <th>95816</th>\n",
              "      <td>1.16</td>\n",
              "      <td>8.0</td>\n",
              "      <td>0.5</td>\n",
              "      <td>0.00</td>\n",
              "    </tr>\n",
              "    <tr>\n",
              "      <th>203245</th>\n",
              "      <td>1.40</td>\n",
              "      <td>9.5</td>\n",
              "      <td>0.5</td>\n",
              "      <td>0.00</td>\n",
              "    </tr>\n",
              "    <tr>\n",
              "      <th>100879</th>\n",
              "      <td>1.20</td>\n",
              "      <td>8.5</td>\n",
              "      <td>0.5</td>\n",
              "      <td>2.46</td>\n",
              "    </tr>\n",
              "    <tr>\n",
              "      <th>351400</th>\n",
              "      <td>0.86</td>\n",
              "      <td>14.5</td>\n",
              "      <td>0.5</td>\n",
              "      <td>3.66</td>\n",
              "    </tr>\n",
              "  </tbody>\n",
              "</table>\n",
              "<p>362056 rows × 4 columns</p>\n",
              "</div>"
            ],
            "text/plain": [
              "        trip_distance  fare_amount  mta_tax  tip_amount\n",
              "256026           3.04         16.5      0.5        3.96\n",
              "410149           1.51         11.0      0.5        3.06\n",
              "117757           0.75          4.5      0.5        0.00\n",
              "437263           0.00         70.0      0.0        0.00\n",
              "178293           0.66          6.5      0.5        1.96\n",
              "...               ...          ...      ...         ...\n",
              "437782           0.65          4.5      0.5        1.17\n",
              "95816            1.16          8.0      0.5        0.00\n",
              "203245           1.40          9.5      0.5        0.00\n",
              "100879           1.20          8.5      0.5        2.46\n",
              "351400           0.86         14.5      0.5        3.66\n",
              "\n",
              "[362056 rows x 4 columns]"
            ]
          },
          "metadata": {
            "tags": []
          },
          "execution_count": 40
        }
      ]
    },
    {
      "cell_type": "code",
      "metadata": {
        "colab": {
          "base_uri": "https://localhost:8080/"
        },
        "id": "V15YXnU-sUZo",
        "outputId": "98282c4d-65ba-4abd-d3ac-a98f0a0da129"
      },
      "source": [
        "y_train"
      ],
      "execution_count": 41,
      "outputs": [
        {
          "output_type": "execute_result",
          "data": {
            "text/plain": [
              "256026    23.76\n",
              "410149    18.36\n",
              "117757     8.30\n",
              "437263    70.30\n",
              "178293    11.76\n",
              "          ...  \n",
              "437782     8.97\n",
              "95816     12.30\n",
              "203245    12.80\n",
              "100879    14.76\n",
              "351400    21.96\n",
              "Name: total_amount, Length: 362056, dtype: float64"
            ]
          },
          "metadata": {
            "tags": []
          },
          "execution_count": 41
        }
      ]
    },
    {
      "cell_type": "code",
      "metadata": {
        "colab": {
          "base_uri": "https://localhost:8080/"
        },
        "id": "7_WvqnbEs25C",
        "outputId": "9b6f162e-9720-4540-89c0-7a63c11da62a"
      },
      "source": [
        "lr.coef_"
      ],
      "execution_count": 42,
      "outputs": [
        {
          "output_type": "execute_result",
          "data": {
            "text/plain": [
              "array([0.20244216, 1.00000311, 2.92590677, 1.13044646])"
            ]
          },
          "metadata": {
            "tags": []
          },
          "execution_count": 42
        }
      ]
    },
    {
      "cell_type": "markdown",
      "metadata": {
        "id": "SJCKwpNXJutC"
      },
      "source": [
        "9. Make predictions on your `X_test` values..."
      ]
    },
    {
      "cell_type": "code",
      "metadata": {
        "id": "IdGtbPJJJvjd"
      },
      "source": [
        "predictions = lr.predict(X_test)"
      ],
      "execution_count": 43,
      "outputs": []
    },
    {
      "cell_type": "code",
      "metadata": {
        "id": "V8fRIPrqJzF5",
        "colab": {
          "base_uri": "https://localhost:8080/"
        },
        "outputId": "ce088c28-77ec-438e-a8df-101d1300e604"
      },
      "source": [
        "# what do they look like? (show me some of the predictions)\r\n",
        "predictions[-5:]"
      ],
      "execution_count": 44,
      "outputs": [
        {
          "output_type": "execute_result",
          "data": {
            "text/plain": [
              "array([ 9.96110986, 11.42644162, 19.60824887,  9.659477  , 15.66354449])"
            ]
          },
          "metadata": {
            "tags": []
          },
          "execution_count": 44
        }
      ]
    },
    {
      "cell_type": "code",
      "metadata": {
        "colab": {
          "base_uri": "https://localhost:8080/"
        },
        "id": "8F1biV0ytLst",
        "outputId": "4ed0c4ec-d1b3-4f9c-a048-2ed09dae04bc"
      },
      "source": [
        "y_test.tail()"
      ],
      "execution_count": 45,
      "outputs": [
        {
          "output_type": "execute_result",
          "data": {
            "text/plain": [
              "51895      9.96\n",
              "289341    11.80\n",
              "194677    18.96\n",
              "373906     9.80\n",
              "218868    16.80\n",
              "Name: total_amount, dtype: float64"
            ]
          },
          "metadata": {
            "tags": []
          },
          "execution_count": 45
        }
      ]
    },
    {
      "cell_type": "markdown",
      "metadata": {
        "id": "8rdbAft1JzZR"
      },
      "source": [
        "10. Score your model...\r\n",
        "- r2_score\r\n",
        "- other metric (of your choice...)"
      ]
    },
    {
      "cell_type": "code",
      "metadata": {
        "id": "uQn0WPxbJ1wi",
        "colab": {
          "base_uri": "https://localhost:8080/"
        },
        "outputId": "92c353f6-3b05-47f9-ac07-362a495ee55d"
      },
      "source": [
        "r2_score(y_true=y_test, y_pred=predictions)"
      ],
      "execution_count": 46,
      "outputs": [
        {
          "output_type": "execute_result",
          "data": {
            "text/plain": [
              "0.9896667155428314"
            ]
          },
          "metadata": {
            "tags": []
          },
          "execution_count": 46
        }
      ]
    },
    {
      "cell_type": "code",
      "metadata": {
        "id": "wGAaIzfaJ16p",
        "colab": {
          "base_uri": "https://localhost:8080/"
        },
        "outputId": "45c22af7-1127-4495-f927-5cd2c2a40d39"
      },
      "source": [
        "mean_absolute_error(y_true=y_test, y_pred=predictions)"
      ],
      "execution_count": 47,
      "outputs": [
        {
          "output_type": "execute_result",
          "data": {
            "text/plain": [
              "0.8455614382063614"
            ]
          },
          "metadata": {
            "tags": []
          },
          "execution_count": 47
        }
      ]
    },
    {
      "cell_type": "markdown",
      "metadata": {
        "id": "mdnhA-_aJ2QG"
      },
      "source": [
        "11. Which model is better? Why?"
      ]
    },
    {
      "cell_type": "markdown",
      "metadata": {
        "id": "yA3nmwbQuYjH"
      },
      "source": [
        "The second model is better, because we obtained the high rate of R_square and less rate of `\r\n",
        "mean_absolute_error\r\n",
        "`  with `0.9896667155428314` and `0.8455614382063614` respectively\r\n",
        "\r\n",
        "\r\n"
      ]
    },
    {
      "cell_type": "markdown",
      "metadata": {
        "id": "385yTrGvKJ2I"
      },
      "source": [
        "type your stuff here"
      ]
    },
    {
      "cell_type": "markdown",
      "metadata": {
        "id": "YXq7N9wPKISw"
      },
      "source": [
        "12. Perform GridSearchCV with the better data"
      ]
    },
    {
      "cell_type": "code",
      "metadata": {
        "id": "JQI1-xzHKZ5t"
      },
      "source": [
        "from sklearn.model_selection import GridSearchCV\r\n",
        "\r\n",
        "p_grid = {'fit_intercept': [True, False],\r\n",
        "          'normalize': [True, False]}\r\n",
        "\r\n",
        "grid = GridSearchCV(lr, p_grid)"
      ],
      "execution_count": 48,
      "outputs": []
    },
    {
      "cell_type": "markdown",
      "metadata": {
        "id": "OkFfmndgKagk"
      },
      "source": [
        "13. Update the hyperparameters of your model (create and fit a new model with the results of GridSerachCV)"
      ]
    },
    {
      "cell_type": "code",
      "metadata": {
        "id": "tMbtfYrsKg7u",
        "colab": {
          "base_uri": "https://localhost:8080/"
        },
        "outputId": "1aff85cd-9125-4eb5-987e-30efcbede230"
      },
      "source": [
        "grid.fit(X_train, y_train)"
      ],
      "execution_count": 49,
      "outputs": [
        {
          "output_type": "execute_result",
          "data": {
            "text/plain": [
              "GridSearchCV(cv=None, error_score=nan,\n",
              "             estimator=LinearRegression(copy_X=True, fit_intercept=True,\n",
              "                                        n_jobs=None, normalize=False),\n",
              "             iid='deprecated', n_jobs=None,\n",
              "             param_grid={'fit_intercept': [True, False],\n",
              "                         'normalize': [True, False]},\n",
              "             pre_dispatch='2*n_jobs', refit=True, return_train_score=False,\n",
              "             scoring=None, verbose=0)"
            ]
          },
          "metadata": {
            "tags": []
          },
          "execution_count": 49
        }
      ]
    },
    {
      "cell_type": "code",
      "metadata": {
        "id": "ZuYB-9_qKh2o",
        "colab": {
          "base_uri": "https://localhost:8080/"
        },
        "outputId": "f643bb94-15f1-462f-e0a5-4240a77cb3e3"
      },
      "source": [
        "grid.best_params_"
      ],
      "execution_count": 50,
      "outputs": [
        {
          "output_type": "execute_result",
          "data": {
            "text/plain": [
              "{'fit_intercept': True, 'normalize': True}"
            ]
          },
          "metadata": {
            "tags": []
          },
          "execution_count": 50
        }
      ]
    },
    {
      "cell_type": "code",
      "metadata": {
        "colab": {
          "base_uri": "https://localhost:8080/"
        },
        "id": "hq1NfP0UvXuu",
        "outputId": "a79a83b2-12f0-4028-d97a-0838768fbf52"
      },
      "source": [
        "grid.best_score_"
      ],
      "execution_count": 51,
      "outputs": [
        {
          "output_type": "execute_result",
          "data": {
            "text/plain": [
              "0.9913434287673029"
            ]
          },
          "metadata": {
            "tags": []
          },
          "execution_count": 51
        }
      ]
    },
    {
      "cell_type": "markdown",
      "metadata": {
        "id": "RTih62jiKhHd"
      },
      "source": [
        "14. Score the new model... \r\n",
        "- r2_score\r\n",
        "- some other metric of your choice"
      ]
    },
    {
      "cell_type": "code",
      "metadata": {
        "id": "bHglwkVGKkW7"
      },
      "source": [
        "lr = LinearRegression(fit_intercept=True,\r\n",
        "                      normalize=True)"
      ],
      "execution_count": 52,
      "outputs": []
    },
    {
      "cell_type": "code",
      "metadata": {
        "colab": {
          "base_uri": "https://localhost:8080/"
        },
        "id": "GSaIDh_KxsSo",
        "outputId": "d4bc45bd-3c34-41eb-820a-1d8f9f540699"
      },
      "source": [
        "lr.fit(X_train, y_train)"
      ],
      "execution_count": 53,
      "outputs": [
        {
          "output_type": "execute_result",
          "data": {
            "text/plain": [
              "LinearRegression(copy_X=True, fit_intercept=True, n_jobs=None, normalize=True)"
            ]
          },
          "metadata": {
            "tags": []
          },
          "execution_count": 53
        }
      ]
    },
    {
      "cell_type": "code",
      "metadata": {
        "id": "AgsbHIhqKoQr",
        "colab": {
          "base_uri": "https://localhost:8080/"
        },
        "outputId": "24791eaf-4c80-43c0-c38b-40a362b9adec"
      },
      "source": [
        "r2_score(y_true=y_test, y_pred=predictions)"
      ],
      "execution_count": 54,
      "outputs": [
        {
          "output_type": "execute_result",
          "data": {
            "text/plain": [
              "0.9896667155428314"
            ]
          },
          "metadata": {
            "tags": []
          },
          "execution_count": 54
        }
      ]
    },
    {
      "cell_type": "markdown",
      "metadata": {
        "id": "c3uY8_MnKpXQ"
      },
      "source": [
        "Did the score change at all? Why?"
      ]
    },
    {
      "cell_type": "code",
      "metadata": {
        "colab": {
          "base_uri": "https://localhost:8080/"
        },
        "id": "3bfmFyQTwXnE",
        "outputId": "ed2e12cb-5242-48eb-9eea-09f8357e70c6"
      },
      "source": [
        "mean_absolute_error(y_true=y_test, y_pred=predictions)"
      ],
      "execution_count": 55,
      "outputs": [
        {
          "output_type": "execute_result",
          "data": {
            "text/plain": [
              "0.8455614382063614"
            ]
          },
          "metadata": {
            "tags": []
          },
          "execution_count": 55
        }
      ]
    },
    {
      "cell_type": "code",
      "metadata": {
        "colab": {
          "base_uri": "https://localhost:8080/"
        },
        "id": "ssP-bK7Ew286",
        "outputId": "83cb1d5c-b118-490b-cabb-3b32c35ab83b"
      },
      "source": [
        "0.8455614382063614 - 0.8455614382063614"
      ],
      "execution_count": 56,
      "outputs": [
        {
          "output_type": "execute_result",
          "data": {
            "text/plain": [
              "0.0"
            ]
          },
          "metadata": {
            "tags": []
          },
          "execution_count": 56
        }
      ]
    },
    {
      "cell_type": "markdown",
      "metadata": {
        "id": "fc5cyRPOx0HS"
      },
      "source": [
        "Our model did not infact because we got the same result"
      ]
    },
    {
      "cell_type": "markdown",
      "metadata": {
        "id": "8xeiVnQSKtYa"
      },
      "source": [
        "**Group members:**\\\r\n",
        "Farah Sidina\\\r\n",
        "Sarah Alhugail\\\r\n",
        "Eatidal Almutairi\\\r\n",
        "Bedoor Alharbi"
      ]
    }
  ]
}