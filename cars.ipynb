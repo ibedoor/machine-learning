{
  "nbformat": 4,
  "nbformat_minor": 0,
  "metadata": {
    "colab": {
      "name": "cars.ipynb",
      "provenance": [],
      "include_colab_link": true
    },
    "kernelspec": {
      "name": "python3",
      "display_name": "Python 3"
    }
  },
  "cells": [
    {
      "cell_type": "markdown",
      "metadata": {
        "id": "view-in-github",
        "colab_type": "text"
      },
      "source": [
        "<a href=\"https://colab.research.google.com/github/ibedoor/machine-learning/blob/main/cars.ipynb\" target=\"_parent\"><img src=\"https://colab.research.google.com/assets/colab-badge.svg\" alt=\"Open In Colab\"/></a>"
      ]
    },
    {
      "cell_type": "markdown",
      "metadata": {
        "id": "hoDVYTa4UR5T"
      },
      "source": [
        "# Decision Tree Assignment\r\n",
        "\r\n",
        "#### Deleverables\r\n",
        "- EDA \r\n",
        "    - Tell / show me about your data\r\n",
        "    - Etc...\r\n",
        "- Data prep / wrangling\r\n",
        "    - pick & prep your features\r\n",
        "    - [train_test_split()](https://scikit-learn.org/stable/modules/generated/sklearn.model_selection.train_test_split.html)\r\n",
        "    - Etc...\r\n",
        "- Model\r\n",
        "    - Import and make a [DecisionTreeClassifier()](https://scikit-learn.org/stable/modules/generated/sklearn.tree.DecisionTreeClassifier.html)\r\n",
        "    - Bonus: [GridSearchCV()](https://scikit-learn.org/stable/modules/generated/sklearn.model_selection.GridSearchCV.html) or [RandomizedSearchCV()](https://scikit-learn.org/stable/modules/generated/sklearn.model_selection.RandomizedSearchCV.html)\r\n",
        "    - Bonus: [RandomForestClassifier()](https://scikit-learn.org/stable/modules/generated/sklearn.ensemble.RandomForestClassifier.html)\r\n",
        "        - Explain what's going on..\r\n",
        "- Score your model\r\n",
        "    - Accuracy\r\n",
        "    - Confusion matrix\r\n",
        "    - Etc...\r\n",
        "- Display your decision tree with [plot_tree()](https://scikit-learn.org/stable/modules/generated/sklearn.tree.plot_tree.html) (or similar)\r\n",
        "    - Explain your tree\r\n",
        "    - Etc..."
      ]
    },
    {
      "cell_type": "code",
      "metadata": {
        "id": "DiwnP3_yHDma"
      },
      "source": [
        "%%capture\n",
        "!pip install category-encoders\n",
        "import pandas as pd\n",
        "import numpy as np\n",
        "from sklearn.tree import DecisionTreeClassifier\n",
        "import category_encoders as ce\n",
        "import matplotlib.pyplot as plt\n",
        "import seaborn as sns\n",
        "from sklearn import model_selection\n",
        "from matplotlib import cm\n",
        "cs = cm.PuBuGn(np.arange(3)/3.)\n",
        "from sklearn.tree import plot_tree\n",
        "from sklearn import tree\n",
        "import graphviz"
      ],
      "execution_count": 1,
      "outputs": []
    },
    {
      "cell_type": "markdown",
      "metadata": {
        "id": "0DXaKJPrJ8xF"
      },
      "source": [
        "[Data Source](https://archive.ics.uci.edu/ml/datasets/car+evaluation)"
      ]
    },
    {
      "cell_type": "code",
      "metadata": {
        "id": "TtVPYX1nHbo5",
        "colab": {
          "base_uri": "https://localhost:8080/"
        },
        "outputId": "20b4ede7-f71a-4bba-ae19-57f7b9bd8b4f"
      },
      "source": [
        "# Run to see Data Dictionary\n",
        "!curl https://archive.ics.uci.edu/ml/machine-learning-databases/car/car.names"
      ],
      "execution_count": 2,
      "outputs": [
        {
          "output_type": "stream",
          "text": [
            "1. Title: Car Evaluation Database\n",
            "\n",
            "2. Sources:\n",
            "   (a) Creator: Marko Bohanec\n",
            "   (b) Donors: Marko Bohanec   (marko.bohanec@ijs.si)\n",
            "               Blaz Zupan      (blaz.zupan@ijs.si)\n",
            "   (c) Date: June, 1997\n",
            "\n",
            "3. Past Usage:\n",
            "\n",
            "   The hierarchical decision model, from which this dataset is\n",
            "   derived, was first presented in \n",
            "\n",
            "   M. Bohanec and V. Rajkovic: Knowledge acquisition and explanation for\n",
            "   multi-attribute decision making. In 8th Intl Workshop on Expert\n",
            "   Systems and their Applications, Avignon, France. pages 59-78, 1988.\n",
            "\n",
            "   Within machine-learning, this dataset was used for the evaluation\n",
            "   of HINT (Hierarchy INduction Tool), which was proved to be able to\n",
            "   completely reconstruct the original hierarchical model. This,\n",
            "   together with a comparison with C4.5, is presented in\n",
            "\n",
            "   B. Zupan, M. Bohanec, I. Bratko, J. Demsar: Machine learning by\n",
            "   function decomposition. ICML-97, Nashville, TN. 1997 (to appear)\n",
            "\n",
            "4. Relevant Information Paragraph:\n",
            "\n",
            "   Car Evaluation Database was derived from a simple hierarchical\n",
            "   decision model originally developed for the demonstration of DEX\n",
            "   (M. Bohanec, V. Rajkovic: Expert system for decision\n",
            "   making. Sistemica 1(1), pp. 145-157, 1990.). The model evaluates\n",
            "   cars according to the following concept structure:\n",
            "\n",
            "   CAR                      car acceptability\n",
            "   . PRICE                  overall price\n",
            "   . . buying               buying price\n",
            "   . . maint                price of the maintenance\n",
            "   . TECH                   technical characteristics\n",
            "   . . COMFORT              comfort\n",
            "   . . . doors              number of doors\n",
            "   . . . persons            capacity in terms of persons to carry\n",
            "   . . . lug_boot           the size of luggage boot\n",
            "   . . safety               estimated safety of the car\n",
            "\n",
            "   Input attributes are printed in lowercase. Besides the target\n",
            "   concept (CAR), the model includes three intermediate concepts:\n",
            "   PRICE, TECH, COMFORT. Every concept is in the original model\n",
            "   related to its lower level descendants by a set of examples (for\n",
            "   these examples sets see http://www-ai.ijs.si/BlazZupan/car.html).\n",
            "\n",
            "   The Car Evaluation Database contains examples with the structural\n",
            "   information removed, i.e., directly relates CAR to the six input\n",
            "   attributes: buying, maint, doors, persons, lug_boot, safety.\n",
            "\n",
            "   Because of known underlying concept structure, this database may be\n",
            "   particularly useful for testing constructive induction and\n",
            "   structure discovery methods.\n",
            "\n",
            "5. Number of Instances: 1728\n",
            "   (instances completely cover the attribute space)\n",
            "\n",
            "6. Number of Attributes: 6\n",
            "\n",
            "7. Attribute Values:\n",
            "\n",
            "   buying       v-high, high, med, low\n",
            "   maint        v-high, high, med, low\n",
            "   doors        2, 3, 4, 5-more\n",
            "   persons      2, 4, more\n",
            "   lug_boot     small, med, big\n",
            "   safety       low, med, high\n",
            "\n",
            "8. Missing Attribute Values: none\n",
            "\n",
            "9. Class Distribution (number of instances per class)\n",
            "\n",
            "   class      N          N[%]\n",
            "   -----------------------------\n",
            "   unacc     1210     (70.023 %) \n",
            "   acc        384     (22.222 %) \n",
            "   good        69     ( 3.993 %) \n",
            "   v-good      65     ( 3.762 %) \n"
          ],
          "name": "stdout"
        }
      ]
    },
    {
      "cell_type": "code",
      "metadata": {
        "colab": {
          "base_uri": "https://localhost:8080/",
          "height": 198
        },
        "id": "uMbozrogH_fk",
        "outputId": "aef4c5d2-15d3-4679-ca0f-23466f044ab0"
      },
      "source": [
        "df = pd.read_csv(\"https://archive.ics.uci.edu/ml/machine-learning-databases/car/car.data\", \n",
        "                 names=[\"price\", \"maint\", \"doors\", \"persons\", \"lug_boot\", \"safety\"],).reset_index().drop(\"safety\", axis=1)\n",
        "\n",
        "df.columns = [\"price\", \"maint\", \"doors\", \"persons\", \"lug_boot\", \"safety\"]\n",
        "df.head()"
      ],
      "execution_count": 3,
      "outputs": [
        {
          "output_type": "execute_result",
          "data": {
            "text/html": [
              "<div>\n",
              "<style scoped>\n",
              "    .dataframe tbody tr th:only-of-type {\n",
              "        vertical-align: middle;\n",
              "    }\n",
              "\n",
              "    .dataframe tbody tr th {\n",
              "        vertical-align: top;\n",
              "    }\n",
              "\n",
              "    .dataframe thead th {\n",
              "        text-align: right;\n",
              "    }\n",
              "</style>\n",
              "<table border=\"1\" class=\"dataframe\">\n",
              "  <thead>\n",
              "    <tr style=\"text-align: right;\">\n",
              "      <th></th>\n",
              "      <th>price</th>\n",
              "      <th>maint</th>\n",
              "      <th>doors</th>\n",
              "      <th>persons</th>\n",
              "      <th>lug_boot</th>\n",
              "      <th>safety</th>\n",
              "    </tr>\n",
              "  </thead>\n",
              "  <tbody>\n",
              "    <tr>\n",
              "      <th>0</th>\n",
              "      <td>vhigh</td>\n",
              "      <td>vhigh</td>\n",
              "      <td>2</td>\n",
              "      <td>2</td>\n",
              "      <td>small</td>\n",
              "      <td>low</td>\n",
              "    </tr>\n",
              "    <tr>\n",
              "      <th>1</th>\n",
              "      <td>vhigh</td>\n",
              "      <td>vhigh</td>\n",
              "      <td>2</td>\n",
              "      <td>2</td>\n",
              "      <td>small</td>\n",
              "      <td>med</td>\n",
              "    </tr>\n",
              "    <tr>\n",
              "      <th>2</th>\n",
              "      <td>vhigh</td>\n",
              "      <td>vhigh</td>\n",
              "      <td>2</td>\n",
              "      <td>2</td>\n",
              "      <td>small</td>\n",
              "      <td>high</td>\n",
              "    </tr>\n",
              "    <tr>\n",
              "      <th>3</th>\n",
              "      <td>vhigh</td>\n",
              "      <td>vhigh</td>\n",
              "      <td>2</td>\n",
              "      <td>2</td>\n",
              "      <td>med</td>\n",
              "      <td>low</td>\n",
              "    </tr>\n",
              "    <tr>\n",
              "      <th>4</th>\n",
              "      <td>vhigh</td>\n",
              "      <td>vhigh</td>\n",
              "      <td>2</td>\n",
              "      <td>2</td>\n",
              "      <td>med</td>\n",
              "      <td>med</td>\n",
              "    </tr>\n",
              "  </tbody>\n",
              "</table>\n",
              "</div>"
            ],
            "text/plain": [
              "   price  maint doors persons lug_boot safety\n",
              "0  vhigh  vhigh     2       2    small    low\n",
              "1  vhigh  vhigh     2       2    small    med\n",
              "2  vhigh  vhigh     2       2    small   high\n",
              "3  vhigh  vhigh     2       2      med    low\n",
              "4  vhigh  vhigh     2       2      med    med"
            ]
          },
          "metadata": {
            "tags": []
          },
          "execution_count": 3
        }
      ]
    },
    {
      "cell_type": "code",
      "metadata": {
        "colab": {
          "base_uri": "https://localhost:8080/",
          "height": 198
        },
        "id": "5zK6aiNbNyd2",
        "outputId": "01a3cdfd-9eda-4ce7-a055-4242bc102bd8"
      },
      "source": [
        "# Ordinally Encoded DF if needed\n",
        "encoder = ce.OrdinalEncoder()\n",
        "df_encode = encoder.fit_transform(df)\n",
        "df_encode.head()"
      ],
      "execution_count": 4,
      "outputs": [
        {
          "output_type": "execute_result",
          "data": {
            "text/html": [
              "<div>\n",
              "<style scoped>\n",
              "    .dataframe tbody tr th:only-of-type {\n",
              "        vertical-align: middle;\n",
              "    }\n",
              "\n",
              "    .dataframe tbody tr th {\n",
              "        vertical-align: top;\n",
              "    }\n",
              "\n",
              "    .dataframe thead th {\n",
              "        text-align: right;\n",
              "    }\n",
              "</style>\n",
              "<table border=\"1\" class=\"dataframe\">\n",
              "  <thead>\n",
              "    <tr style=\"text-align: right;\">\n",
              "      <th></th>\n",
              "      <th>price</th>\n",
              "      <th>maint</th>\n",
              "      <th>doors</th>\n",
              "      <th>persons</th>\n",
              "      <th>lug_boot</th>\n",
              "      <th>safety</th>\n",
              "    </tr>\n",
              "  </thead>\n",
              "  <tbody>\n",
              "    <tr>\n",
              "      <th>0</th>\n",
              "      <td>1</td>\n",
              "      <td>1</td>\n",
              "      <td>1</td>\n",
              "      <td>1</td>\n",
              "      <td>1</td>\n",
              "      <td>1</td>\n",
              "    </tr>\n",
              "    <tr>\n",
              "      <th>1</th>\n",
              "      <td>1</td>\n",
              "      <td>1</td>\n",
              "      <td>1</td>\n",
              "      <td>1</td>\n",
              "      <td>1</td>\n",
              "      <td>2</td>\n",
              "    </tr>\n",
              "    <tr>\n",
              "      <th>2</th>\n",
              "      <td>1</td>\n",
              "      <td>1</td>\n",
              "      <td>1</td>\n",
              "      <td>1</td>\n",
              "      <td>1</td>\n",
              "      <td>3</td>\n",
              "    </tr>\n",
              "    <tr>\n",
              "      <th>3</th>\n",
              "      <td>1</td>\n",
              "      <td>1</td>\n",
              "      <td>1</td>\n",
              "      <td>1</td>\n",
              "      <td>2</td>\n",
              "      <td>1</td>\n",
              "    </tr>\n",
              "    <tr>\n",
              "      <th>4</th>\n",
              "      <td>1</td>\n",
              "      <td>1</td>\n",
              "      <td>1</td>\n",
              "      <td>1</td>\n",
              "      <td>2</td>\n",
              "      <td>2</td>\n",
              "    </tr>\n",
              "  </tbody>\n",
              "</table>\n",
              "</div>"
            ],
            "text/plain": [
              "   price  maint  doors  persons  lug_boot  safety\n",
              "0      1      1      1        1         1       1\n",
              "1      1      1      1        1         1       2\n",
              "2      1      1      1        1         1       3\n",
              "3      1      1      1        1         2       1\n",
              "4      1      1      1        1         2       2"
            ]
          },
          "metadata": {
            "tags": []
          },
          "execution_count": 4
        }
      ]
    },
    {
      "cell_type": "markdown",
      "metadata": {
        "id": "Na0vqWzjnhMt"
      },
      "source": [
        "**EDA**"
      ]
    },
    {
      "cell_type": "code",
      "metadata": {
        "colab": {
          "base_uri": "https://localhost:8080/"
        },
        "id": "vZz7iDb1yyPo",
        "outputId": "af529d60-ba9e-4858-a11a-2bebf786018c"
      },
      "source": [
        "df.shape"
      ],
      "execution_count": 5,
      "outputs": [
        {
          "output_type": "execute_result",
          "data": {
            "text/plain": [
              "(1728, 6)"
            ]
          },
          "metadata": {
            "tags": []
          },
          "execution_count": 5
        }
      ]
    },
    {
      "cell_type": "code",
      "metadata": {
        "colab": {
          "base_uri": "https://localhost:8080/",
          "height": 168
        },
        "id": "Xoq_CaTOns31",
        "outputId": "bfbb00d9-9aa1-4839-8188-9f285c81c086"
      },
      "source": [
        "df.describe()"
      ],
      "execution_count": 6,
      "outputs": [
        {
          "output_type": "execute_result",
          "data": {
            "text/html": [
              "<div>\n",
              "<style scoped>\n",
              "    .dataframe tbody tr th:only-of-type {\n",
              "        vertical-align: middle;\n",
              "    }\n",
              "\n",
              "    .dataframe tbody tr th {\n",
              "        vertical-align: top;\n",
              "    }\n",
              "\n",
              "    .dataframe thead th {\n",
              "        text-align: right;\n",
              "    }\n",
              "</style>\n",
              "<table border=\"1\" class=\"dataframe\">\n",
              "  <thead>\n",
              "    <tr style=\"text-align: right;\">\n",
              "      <th></th>\n",
              "      <th>price</th>\n",
              "      <th>maint</th>\n",
              "      <th>doors</th>\n",
              "      <th>persons</th>\n",
              "      <th>lug_boot</th>\n",
              "      <th>safety</th>\n",
              "    </tr>\n",
              "  </thead>\n",
              "  <tbody>\n",
              "    <tr>\n",
              "      <th>count</th>\n",
              "      <td>1728</td>\n",
              "      <td>1728</td>\n",
              "      <td>1728</td>\n",
              "      <td>1728</td>\n",
              "      <td>1728</td>\n",
              "      <td>1728</td>\n",
              "    </tr>\n",
              "    <tr>\n",
              "      <th>unique</th>\n",
              "      <td>4</td>\n",
              "      <td>4</td>\n",
              "      <td>4</td>\n",
              "      <td>3</td>\n",
              "      <td>3</td>\n",
              "      <td>3</td>\n",
              "    </tr>\n",
              "    <tr>\n",
              "      <th>top</th>\n",
              "      <td>med</td>\n",
              "      <td>med</td>\n",
              "      <td>2</td>\n",
              "      <td>2</td>\n",
              "      <td>med</td>\n",
              "      <td>med</td>\n",
              "    </tr>\n",
              "    <tr>\n",
              "      <th>freq</th>\n",
              "      <td>432</td>\n",
              "      <td>432</td>\n",
              "      <td>432</td>\n",
              "      <td>576</td>\n",
              "      <td>576</td>\n",
              "      <td>576</td>\n",
              "    </tr>\n",
              "  </tbody>\n",
              "</table>\n",
              "</div>"
            ],
            "text/plain": [
              "       price maint doors persons lug_boot safety\n",
              "count   1728  1728  1728    1728     1728   1728\n",
              "unique     4     4     4       3        3      3\n",
              "top      med   med     2       2      med    med\n",
              "freq     432   432   432     576      576    576"
            ]
          },
          "metadata": {
            "tags": []
          },
          "execution_count": 6
        }
      ]
    },
    {
      "cell_type": "code",
      "metadata": {
        "colab": {
          "base_uri": "https://localhost:8080/"
        },
        "id": "CGVXGLPfn0H4",
        "outputId": "84c4798d-a640-4033-cf77-e2ed3a33343e"
      },
      "source": [
        "df.keys()"
      ],
      "execution_count": 7,
      "outputs": [
        {
          "output_type": "execute_result",
          "data": {
            "text/plain": [
              "Index(['price', 'maint', 'doors', 'persons', 'lug_boot', 'safety'], dtype='object')"
            ]
          },
          "metadata": {
            "tags": []
          },
          "execution_count": 7
        }
      ]
    },
    {
      "cell_type": "code",
      "metadata": {
        "id": "m8EQ9Ba2n71_"
      },
      "source": [
        "count_safety = df.safety.value_counts()"
      ],
      "execution_count": 8,
      "outputs": []
    },
    {
      "cell_type": "code",
      "metadata": {
        "colab": {
          "base_uri": "https://localhost:8080/",
          "height": 427
        },
        "id": "wy0EMa05orBm",
        "outputId": "68858bbb-46a9-4e5b-c87b-9df01df952e2"
      },
      "source": [
        "# deterimne figure size\r\n",
        "plt.figure(figsize=[7,7])\r\n",
        "plt.pie(count_safety,\r\n",
        "        autopct='%1.1f%%', colors=cs)\r\n",
        "# title\r\n",
        "plt.title(\"The Percentage of Safety\");"
      ],
      "execution_count": 9,
      "outputs": [
        {
          "output_type": "display_data",
          "data": {
            "image/png": "[encoded data removed]",
            "text/plain": [
              "<Figure size 504x504 with 1 Axes>"
            ]
          },
          "metadata": {
            "tags": []
          }
        }
      ]
    },
    {
      "cell_type": "code",
      "metadata": {
        "colab": {
          "base_uri": "https://localhost:8080/",
          "height": 165
        },
        "id": "3c9rL_1hyt5p",
        "outputId": "c1a38aff-d5a7-4ed8-dd15-67a47a4c11f1"
      },
      "source": [
        "# correlation\r\n",
        "corr = df_encode.corr()\r\n",
        "corr.style.background_gradient(cmap='PuBuGn')"
      ],
      "execution_count": 10,
      "outputs": [
        {
          "output_type": "execute_result",
          "data": {
            "text/html": [
              "<style  type=\"text/css\" >\n",
              "#T_3329fad6_6962_11eb_8f1e_0242ac1c0002row0_col0,#T_3329fad6_6962_11eb_8f1e_0242ac1c0002row1_col1,#T_3329fad6_6962_11eb_8f1e_0242ac1c0002row2_col2,#T_3329fad6_6962_11eb_8f1e_0242ac1c0002row3_col3,#T_3329fad6_6962_11eb_8f1e_0242ac1c0002row4_col4,#T_3329fad6_6962_11eb_8f1e_0242ac1c0002row5_col5{\n",
              "            background-color:  #014636;\n",
              "            color:  #f1f1f1;\n",
              "        }#T_3329fad6_6962_11eb_8f1e_0242ac1c0002row0_col1,#T_3329fad6_6962_11eb_8f1e_0242ac1c0002row0_col2,#T_3329fad6_6962_11eb_8f1e_0242ac1c0002row0_col3,#T_3329fad6_6962_11eb_8f1e_0242ac1c0002row0_col4,#T_3329fad6_6962_11eb_8f1e_0242ac1c0002row0_col5,#T_3329fad6_6962_11eb_8f1e_0242ac1c0002row1_col0,#T_3329fad6_6962_11eb_8f1e_0242ac1c0002row1_col2,#T_3329fad6_6962_11eb_8f1e_0242ac1c0002row1_col3,#T_3329fad6_6962_11eb_8f1e_0242ac1c0002row1_col4,#T_3329fad6_6962_11eb_8f1e_0242ac1c0002row1_col5,#T_3329fad6_6962_11eb_8f1e_0242ac1c0002row2_col0,#T_3329fad6_6962_11eb_8f1e_0242ac1c0002row2_col1,#T_3329fad6_6962_11eb_8f1e_0242ac1c0002row2_col3,#T_3329fad6_6962_11eb_8f1e_0242ac1c0002row2_col4,#T_3329fad6_6962_11eb_8f1e_0242ac1c0002row2_col5,#T_3329fad6_6962_11eb_8f1e_0242ac1c0002row3_col0,#T_3329fad6_6962_11eb_8f1e_0242ac1c0002row3_col1,#T_3329fad6_6962_11eb_8f1e_0242ac1c0002row3_col2,#T_3329fad6_6962_11eb_8f1e_0242ac1c0002row3_col4,#T_3329fad6_6962_11eb_8f1e_0242ac1c0002row3_col5,#T_3329fad6_6962_11eb_8f1e_0242ac1c0002row4_col0,#T_3329fad6_6962_11eb_8f1e_0242ac1c0002row4_col1,#T_3329fad6_6962_11eb_8f1e_0242ac1c0002row4_col2,#T_3329fad6_6962_11eb_8f1e_0242ac1c0002row4_col3,#T_3329fad6_6962_11eb_8f1e_0242ac1c0002row4_col5,#T_3329fad6_6962_11eb_8f1e_0242ac1c0002row5_col0,#T_3329fad6_6962_11eb_8f1e_0242ac1c0002row5_col1,#T_3329fad6_6962_11eb_8f1e_0242ac1c0002row5_col2,#T_3329fad6_6962_11eb_8f1e_0242ac1c0002row5_col3,#T_3329fad6_6962_11eb_8f1e_0242ac1c0002row5_col4{\n",
              "            background-color:  #fff7fb;\n",
              "            color:  #000000;\n",
              "        }</style><table id=\"T_3329fad6_6962_11eb_8f1e_0242ac1c0002\" ><thead>    <tr>        <th class=\"blank level0\" ></th>        <th class=\"col_heading level0 col0\" >price</th>        <th class=\"col_heading level0 col1\" >maint</th>        <th class=\"col_heading level0 col2\" >doors</th>        <th class=\"col_heading level0 col3\" >persons</th>        <th class=\"col_heading level0 col4\" >lug_boot</th>        <th class=\"col_heading level0 col5\" >safety</th>    </tr></thead><tbody>\n",
              "                <tr>\n",
              "                        <th id=\"T_3329fad6_6962_11eb_8f1e_0242ac1c0002level0_row0\" class=\"row_heading level0 row0\" >price</th>\n",
              "                        <td id=\"T_3329fad6_6962_11eb_8f1e_0242ac1c0002row0_col0\" class=\"data row0 col0\" >1.000000</td>\n",
              "                        <td id=\"T_3329fad6_6962_11eb_8f1e_0242ac1c0002row0_col1\" class=\"data row0 col1\" >0.000000</td>\n",
              "                        <td id=\"T_3329fad6_6962_11eb_8f1e_0242ac1c0002row0_col2\" class=\"data row0 col2\" >0.000000</td>\n",
              "                        <td id=\"T_3329fad6_6962_11eb_8f1e_0242ac1c0002row0_col3\" class=\"data row0 col3\" >0.000000</td>\n",
              "                        <td id=\"T_3329fad6_6962_11eb_8f1e_0242ac1c0002row0_col4\" class=\"data row0 col4\" >0.000000</td>\n",
              "                        <td id=\"T_3329fad6_6962_11eb_8f1e_0242ac1c0002row0_col5\" class=\"data row0 col5\" >0.000000</td>\n",
              "            </tr>\n",
              "            <tr>\n",
              "                        <th id=\"T_3329fad6_6962_11eb_8f1e_0242ac1c0002level0_row1\" class=\"row_heading level0 row1\" >maint</th>\n",
              "                        <td id=\"T_3329fad6_6962_11eb_8f1e_0242ac1c0002row1_col0\" class=\"data row1 col0\" >0.000000</td>\n",
              "                        <td id=\"T_3329fad6_6962_11eb_8f1e_0242ac1c0002row1_col1\" class=\"data row1 col1\" >1.000000</td>\n",
              "                        <td id=\"T_3329fad6_6962_11eb_8f1e_0242ac1c0002row1_col2\" class=\"data row1 col2\" >0.000000</td>\n",
              "                        <td id=\"T_3329fad6_6962_11eb_8f1e_0242ac1c0002row1_col3\" class=\"data row1 col3\" >0.000000</td>\n",
              "                        <td id=\"T_3329fad6_6962_11eb_8f1e_0242ac1c0002row1_col4\" class=\"data row1 col4\" >0.000000</td>\n",
              "                        <td id=\"T_3329fad6_6962_11eb_8f1e_0242ac1c0002row1_col5\" class=\"data row1 col5\" >0.000000</td>\n",
              "            </tr>\n",
              "            <tr>\n",
              "                        <th id=\"T_3329fad6_6962_11eb_8f1e_0242ac1c0002level0_row2\" class=\"row_heading level0 row2\" >doors</th>\n",
              "                        <td id=\"T_3329fad6_6962_11eb_8f1e_0242ac1c0002row2_col0\" class=\"data row2 col0\" >0.000000</td>\n",
              "                        <td id=\"T_3329fad6_6962_11eb_8f1e_0242ac1c0002row2_col1\" class=\"data row2 col1\" >0.000000</td>\n",
              "                        <td id=\"T_3329fad6_6962_11eb_8f1e_0242ac1c0002row2_col2\" class=\"data row2 col2\" >1.000000</td>\n",
              "                        <td id=\"T_3329fad6_6962_11eb_8f1e_0242ac1c0002row2_col3\" class=\"data row2 col3\" >0.000000</td>\n",
              "                        <td id=\"T_3329fad6_6962_11eb_8f1e_0242ac1c0002row2_col4\" class=\"data row2 col4\" >0.000000</td>\n",
              "                        <td id=\"T_3329fad6_6962_11eb_8f1e_0242ac1c0002row2_col5\" class=\"data row2 col5\" >0.000000</td>\n",
              "            </tr>\n",
              "            <tr>\n",
              "                        <th id=\"T_3329fad6_6962_11eb_8f1e_0242ac1c0002level0_row3\" class=\"row_heading level0 row3\" >persons</th>\n",
              "                        <td id=\"T_3329fad6_6962_11eb_8f1e_0242ac1c0002row3_col0\" class=\"data row3 col0\" >0.000000</td>\n",
              "                        <td id=\"T_3329fad6_6962_11eb_8f1e_0242ac1c0002row3_col1\" class=\"data row3 col1\" >0.000000</td>\n",
              "                        <td id=\"T_3329fad6_6962_11eb_8f1e_0242ac1c0002row3_col2\" class=\"data row3 col2\" >0.000000</td>\n",
              "                        <td id=\"T_3329fad6_6962_11eb_8f1e_0242ac1c0002row3_col3\" class=\"data row3 col3\" >1.000000</td>\n",
              "                        <td id=\"T_3329fad6_6962_11eb_8f1e_0242ac1c0002row3_col4\" class=\"data row3 col4\" >0.000000</td>\n",
              "                        <td id=\"T_3329fad6_6962_11eb_8f1e_0242ac1c0002row3_col5\" class=\"data row3 col5\" >0.000000</td>\n",
              "            </tr>\n",
              "            <tr>\n",
              "                        <th id=\"T_3329fad6_6962_11eb_8f1e_0242ac1c0002level0_row4\" class=\"row_heading level0 row4\" >lug_boot</th>\n",
              "                        <td id=\"T_3329fad6_6962_11eb_8f1e_0242ac1c0002row4_col0\" class=\"data row4 col0\" >0.000000</td>\n",
              "                        <td id=\"T_3329fad6_6962_11eb_8f1e_0242ac1c0002row4_col1\" class=\"data row4 col1\" >0.000000</td>\n",
              "                        <td id=\"T_3329fad6_6962_11eb_8f1e_0242ac1c0002row4_col2\" class=\"data row4 col2\" >0.000000</td>\n",
              "                        <td id=\"T_3329fad6_6962_11eb_8f1e_0242ac1c0002row4_col3\" class=\"data row4 col3\" >0.000000</td>\n",
              "                        <td id=\"T_3329fad6_6962_11eb_8f1e_0242ac1c0002row4_col4\" class=\"data row4 col4\" >1.000000</td>\n",
              "                        <td id=\"T_3329fad6_6962_11eb_8f1e_0242ac1c0002row4_col5\" class=\"data row4 col5\" >0.000000</td>\n",
              "            </tr>\n",
              "            <tr>\n",
              "                        <th id=\"T_3329fad6_6962_11eb_8f1e_0242ac1c0002level0_row5\" class=\"row_heading level0 row5\" >safety</th>\n",
              "                        <td id=\"T_3329fad6_6962_11eb_8f1e_0242ac1c0002row5_col0\" class=\"data row5 col0\" >0.000000</td>\n",
              "                        <td id=\"T_3329fad6_6962_11eb_8f1e_0242ac1c0002row5_col1\" class=\"data row5 col1\" >0.000000</td>\n",
              "                        <td id=\"T_3329fad6_6962_11eb_8f1e_0242ac1c0002row5_col2\" class=\"data row5 col2\" >0.000000</td>\n",
              "                        <td id=\"T_3329fad6_6962_11eb_8f1e_0242ac1c0002row5_col3\" class=\"data row5 col3\" >0.000000</td>\n",
              "                        <td id=\"T_3329fad6_6962_11eb_8f1e_0242ac1c0002row5_col4\" class=\"data row5 col4\" >0.000000</td>\n",
              "                        <td id=\"T_3329fad6_6962_11eb_8f1e_0242ac1c0002row5_col5\" class=\"data row5 col5\" >1.000000</td>\n",
              "            </tr>\n",
              "    </tbody></table>"
            ],
            "text/plain": [
              "<pandas.io.formats.style.Styler at 0x7fe747063438>"
            ]
          },
          "metadata": {
            "tags": []
          },
          "execution_count": 10
        }
      ]
    },
    {
      "cell_type": "code",
      "metadata": {
        "colab": {
          "base_uri": "https://localhost:8080/",
          "height": 19
        },
        "id": "4GB-NZrTyX8d",
        "outputId": "acf7ca16-3eab-4fd9-d8db-a36cc026a494"
      },
      "source": [
        "# correlation\r\n",
        "corr = df.corr()\r\n",
        "corr.style.background_gradient(cmap='Set3')"
      ],
      "execution_count": 11,
      "outputs": [
        {
          "output_type": "execute_result",
          "data": {
            "text/html": [
              "<style  type=\"text/css\" >\n",
              "</style><table id=\"T_332c714e_6962_11eb_8f1e_0242ac1c0002\" ><thead></thead><tbody>\n",
              "        </tbody></table>"
            ],
            "text/plain": [
              "<pandas.io.formats.style.Styler at 0x7fe747063ef0>"
            ]
          },
          "metadata": {
            "tags": []
          },
          "execution_count": 11
        }
      ]
    },
    {
      "cell_type": "code",
      "metadata": {
        "colab": {
          "base_uri": "https://localhost:8080/"
        },
        "id": "pLX78VK_pfyU",
        "outputId": "65d82f12-96d4-40ed-ab75-fa82d269c564"
      },
      "source": [
        "df.lug_boot.value_counts()"
      ],
      "execution_count": 12,
      "outputs": [
        {
          "output_type": "execute_result",
          "data": {
            "text/plain": [
              "med      576\n",
              "big      576\n",
              "small    576\n",
              "Name: lug_boot, dtype: int64"
            ]
          },
          "metadata": {
            "tags": []
          },
          "execution_count": 12
        }
      ]
    },
    {
      "cell_type": "code",
      "metadata": {
        "colab": {
          "base_uri": "https://localhost:8080/"
        },
        "id": "p6b4ka5Vpvjs",
        "outputId": "b7962944-bac8-48ef-a89e-a3c435b38b31"
      },
      "source": [
        "df.persons.value_counts()"
      ],
      "execution_count": 13,
      "outputs": [
        {
          "output_type": "execute_result",
          "data": {
            "text/plain": [
              "2       576\n",
              "more    576\n",
              "4       576\n",
              "Name: persons, dtype: int64"
            ]
          },
          "metadata": {
            "tags": []
          },
          "execution_count": 13
        }
      ]
    },
    {
      "cell_type": "markdown",
      "metadata": {
        "id": "ZVJJkQ2fqGGw"
      },
      "source": [
        "Data prep / wrangling"
      ]
    },
    {
      "cell_type": "code",
      "metadata": {
        "colab": {
          "base_uri": "https://localhost:8080/"
        },
        "id": "_VrrSbJxqdYM",
        "outputId": "916d8a1c-fc02-4fad-e824-ef8b2250f2bb"
      },
      "source": [
        "df_encode.isnull().sum()"
      ],
      "execution_count": 14,
      "outputs": [
        {
          "output_type": "execute_result",
          "data": {
            "text/plain": [
              "price       0\n",
              "maint       0\n",
              "doors       0\n",
              "persons     0\n",
              "lug_boot    0\n",
              "safety      0\n",
              "dtype: int64"
            ]
          },
          "metadata": {
            "tags": []
          },
          "execution_count": 14
        }
      ]
    },
    {
      "cell_type": "code",
      "metadata": {
        "id": "fWu-WkYJp92l"
      },
      "source": [
        "# split dataset\r\n",
        "from sklearn.model_selection import train_test_split\r\n",
        "\r\n",
        "#X = df_encode.drop('safety', axis=1)\r\n",
        "X = df_encode['price']\r\n",
        "y = df_encode['safety']\r\n",
        "\r\n",
        "X_train, X_test, y_train, y_test = train_test_split(X, y, train_size=0.7)"
      ],
      "execution_count": 15,
      "outputs": []
    },
    {
      "cell_type": "markdown",
      "metadata": {
        "id": "tms7QOQw-fC8"
      },
      "source": [
        "Check Accuracy before use model"
      ]
    },
    {
      "cell_type": "code",
      "metadata": {
        "colab": {
          "base_uri": "https://localhost:8080/"
        },
        "id": "pH55O8lc8rnz",
        "outputId": "0af23238-0e33-4177-d806-17bd9992c3d7"
      },
      "source": [
        "# create empty array\r\n",
        "models = []\r\n",
        "# add models in array\r\n",
        "models.append(('Decision Tree', DecisionTreeClassifier()))\r\n",
        "# create 2 empty array to append results and names for models\r\n",
        "results = []\r\n",
        "names = []\r\n",
        "# determine type scoring\r\n",
        "scoring = 'accuracy'\r\n",
        "# loop to \r\n",
        "for name, model in models:\r\n",
        "  kfold = model_selection.KFold(n_splits=10, random_state=None)\r\n",
        "  cv_results = model_selection.cross_val_score(model, pd.DataFrame(X_train), y_train, cv=kfold, scoring=scoring)\r\n",
        "  results.append(cv_results)\r\n",
        "  names.append(name)\r\n",
        "  msg = \"%s: %f (%f)\" % (name, cv_results.mean(), cv_results.std())\r\n",
        "  print(msg)"
      ],
      "execution_count": 16,
      "outputs": [
        {
          "output_type": "stream",
          "text": [
            "Decision Tree: 0.301047 (0.028403)\n"
          ],
          "name": "stdout"
        }
      ]
    },
    {
      "cell_type": "code",
      "metadata": {
        "colab": {
          "base_uri": "https://localhost:8080/",
          "height": 233
        },
        "id": "Ld8wxoMD8y1p",
        "outputId": "7296b313-cbdd-4798-9b15-4cf37aa7c2dd"
      },
      "source": [
        "# determine figure size\r\n",
        "fig = plt.figure(figsize=(6,3))\r\n",
        "# title\r\n",
        "fig.suptitle('Decision Tree Accuracy')\r\n",
        "ax = fig.add_subplot(111)\r\n",
        "# create boxplot\r\n",
        "plt.boxplot(results)\r\n",
        "ax.set_xticklabels(names)\r\n",
        "# show plot\r\n",
        "plt.show()"
      ],
      "execution_count": 17,
      "outputs": [
        {
          "output_type": "display_data",
          "data": {
            "image/png": "[encoded data removed]",
            "text/plain": [
              "<Figure size 432x216 with 1 Axes>"
            ]
          },
          "metadata": {
            "tags": [],
            "needs_background": "light"
          }
        }
      ]
    },
    {
      "cell_type": "code",
      "metadata": {
        "id": "wr-vd0rw1Bih"
      },
      "source": [
        "# import standard scaler\r\n",
        "from sklearn.preprocessing import StandardScaler\r\n",
        "# import standard scaler\r\n",
        "from sklearn.model_selection import RandomizedSearchCV"
      ],
      "execution_count": 18,
      "outputs": []
    },
    {
      "cell_type": "code",
      "metadata": {
        "id": "1WqOhr9w1Jdp"
      },
      "source": [
        "#Standardize features by removing the mean and scaling to unit variance\r\n",
        "sc = StandardScaler()"
      ],
      "execution_count": 19,
      "outputs": []
    },
    {
      "cell_type": "code",
      "metadata": {
        "id": "wpU6N5i_1TLV"
      },
      "source": [
        "#Compute the mean and std to be used for later scaling\r\n",
        "X_train = sc.fit_transform(pd.DataFrame(X_train))\r\n",
        "#Fit to data, then transform it.\r\n",
        "X_test = sc.transform(pd.DataFrame(X_test))"
      ],
      "execution_count": 20,
      "outputs": []
    },
    {
      "cell_type": "markdown",
      "metadata": {
        "id": "FmXvhDBirx9a"
      },
      "source": [
        "Model Decision Tree"
      ]
    },
    {
      "cell_type": "code",
      "metadata": {
        "colab": {
          "base_uri": "https://localhost:8080/"
        },
        "id": "nPZNR0olq7q3",
        "outputId": "17c82fc4-7694-4b19-be9c-15addfebce27"
      },
      "source": [
        "from sklearn.tree import DecisionTreeClassifier\r\n",
        "\r\n",
        "dtc = DecisionTreeClassifier()\r\n",
        "\r\n",
        "dtc.fit(pd.DataFrame(X_train), y_train)"
      ],
      "execution_count": 21,
      "outputs": [
        {
          "output_type": "execute_result",
          "data": {
            "text/plain": [
              "DecisionTreeClassifier(ccp_alpha=0.0, class_weight=None, criterion='gini',\n",
              "                       max_depth=None, max_features=None, max_leaf_nodes=None,\n",
              "                       min_impurity_decrease=0.0, min_impurity_split=None,\n",
              "                       min_samples_leaf=1, min_samples_split=2,\n",
              "                       min_weight_fraction_leaf=0.0, presort='deprecated',\n",
              "                       random_state=None, splitter='best')"
            ]
          },
          "metadata": {
            "tags": []
          },
          "execution_count": 21
        }
      ]
    },
    {
      "cell_type": "code",
      "metadata": {
        "colab": {
          "base_uri": "https://localhost:8080/"
        },
        "id": "YPMgQkDqrLa4",
        "outputId": "da33f166-dc6b-43b3-d895-4d0297a8b165"
      },
      "source": [
        "dtc.predict(pd.DataFrame(X_test))"
      ],
      "execution_count": 22,
      "outputs": [
        {
          "output_type": "execute_result",
          "data": {
            "text/plain": [
              "array([3, 3, 3, 3, 3, 3, 3, 3, 3, 3, 3, 3, 3, 3, 3, 3, 3, 3, 3, 3, 3, 3,\n",
              "       3, 3, 3, 3, 3, 3, 3, 3, 3, 3, 3, 3, 3, 3, 3, 3, 3, 3, 3, 3, 3, 3,\n",
              "       3, 3, 3, 3, 3, 3, 3, 3, 3, 3, 3, 3, 3, 3, 3, 3, 3, 3, 3, 3, 3, 3,\n",
              "       3, 3, 3, 3, 3, 3, 3, 3, 3, 3, 3, 3, 3, 3, 3, 3, 3, 3, 3, 3, 3, 3,\n",
              "       3, 3, 3, 3, 3, 3, 3, 3, 3, 3, 3, 3, 3, 3, 3, 3, 3, 3, 3, 3, 3, 3,\n",
              "       3, 3, 3, 3, 3, 3, 3, 3, 3, 3, 3, 3, 3, 3, 3, 3, 3, 3, 3, 3, 3, 3,\n",
              "       3, 3, 3, 3, 3, 3, 3, 3, 3, 3, 3, 3, 3, 3, 3, 3, 3, 3, 3, 3, 3, 3,\n",
              "       3, 3, 3, 3, 3, 3, 3, 3, 3, 3, 3, 3, 3, 3, 3, 3, 3, 3, 3, 3, 3, 3,\n",
              "       3, 3, 3, 3, 3, 3, 3, 3, 3, 3, 3, 3, 3, 3, 3, 3, 3, 3, 3, 3, 3, 3,\n",
              "       3, 3, 3, 3, 3, 3, 3, 3, 3, 3, 3, 3, 3, 3, 3, 3, 3, 3, 3, 3, 3, 3,\n",
              "       3, 3, 3, 3, 3, 3, 3, 3, 3, 3, 3, 3, 3, 3, 3, 3, 3, 3, 3, 3, 3, 3,\n",
              "       3, 3, 3, 3, 3, 3, 3, 3, 3, 3, 3, 3, 3, 3, 3, 3, 3, 3, 3, 3, 3, 3,\n",
              "       3, 3, 3, 3, 3, 3, 3, 3, 3, 3, 3, 3, 3, 3, 3, 3, 3, 3, 3, 3, 3, 3,\n",
              "       3, 3, 3, 3, 3, 3, 3, 3, 3, 3, 3, 3, 3, 3, 3, 3, 3, 3, 3, 3, 3, 3,\n",
              "       3, 3, 3, 3, 3, 3, 3, 3, 3, 3, 3, 3, 3, 3, 3, 3, 3, 3, 3, 3, 3, 3,\n",
              "       3, 3, 3, 3, 3, 3, 3, 3, 3, 3, 3, 3, 3, 3, 3, 3, 3, 3, 3, 3, 3, 3,\n",
              "       3, 3, 3, 3, 3, 3, 3, 3, 3, 3, 3, 3, 3, 3, 3, 3, 3, 3, 3, 3, 3, 3,\n",
              "       3, 3, 3, 3, 3, 3, 3, 3, 3, 3, 3, 3, 3, 3, 3, 3, 3, 3, 3, 3, 3, 3,\n",
              "       3, 3, 3, 3, 3, 3, 3, 3, 3, 3, 3, 3, 3, 3, 3, 3, 3, 3, 3, 3, 3, 3,\n",
              "       3, 3, 3, 3, 3, 3, 3, 3, 3, 3, 3, 3, 3, 3, 3, 3, 3, 3, 3, 3, 3, 3,\n",
              "       3, 3, 3, 3, 3, 3, 3, 3, 3, 3, 3, 3, 3, 3, 3, 3, 3, 3, 3, 3, 3, 3,\n",
              "       3, 3, 3, 3, 3, 3, 3, 3, 3, 3, 3, 3, 3, 3, 3, 3, 3, 3, 3, 3, 3, 3,\n",
              "       3, 3, 3, 3, 3, 3, 3, 3, 3, 3, 3, 3, 3, 3, 3, 3, 3, 3, 3, 3, 3, 3,\n",
              "       3, 3, 3, 3, 3, 3, 3, 3, 3, 3, 3, 3, 3])"
            ]
          },
          "metadata": {
            "tags": []
          },
          "execution_count": 22
        }
      ]
    },
    {
      "cell_type": "code",
      "metadata": {
        "colab": {
          "base_uri": "https://localhost:8080/"
        },
        "id": "8UwFKiYSsrIt",
        "outputId": "9396c388-67bc-4877-8356-3d292aa38da3"
      },
      "source": [
        "dtc.feature_importances_"
      ],
      "execution_count": 23,
      "outputs": [
        {
          "output_type": "execute_result",
          "data": {
            "text/plain": [
              "array([1.])"
            ]
          },
          "metadata": {
            "tags": []
          },
          "execution_count": 23
        }
      ]
    },
    {
      "cell_type": "markdown",
      "metadata": {
        "id": "4_yazNMcsPCk"
      },
      "source": [
        "Score Decision Tree Classifier"
      ]
    },
    {
      "cell_type": "code",
      "metadata": {
        "colab": {
          "base_uri": "https://localhost:8080/"
        },
        "id": "xqJiPdtOrOlP",
        "outputId": "931d8445-95ce-4e0e-c4c8-8a856e76c462"
      },
      "source": [
        "from sklearn.metrics import accuracy_score\r\n",
        "\r\n",
        "preds = dtc.predict(pd.DataFrame(X_test))\r\n",
        "\r\n",
        "print(\"Accuracy:\",accuracy_score(y_test, preds)*100)"
      ],
      "execution_count": 24,
      "outputs": [
        {
          "output_type": "stream",
          "text": [
            "Accuracy: 29.09441233140655\n"
          ],
          "name": "stdout"
        }
      ]
    },
    {
      "cell_type": "code",
      "metadata": {
        "colab": {
          "base_uri": "https://localhost:8080/",
          "height": 406
        },
        "id": "Hwx9025rrgtJ",
        "outputId": "b1ec73f7-e57a-4968-e29d-114dc0bfedb8"
      },
      "source": [
        "# confusion matrix by sklearn\r\n",
        "from sklearn.metrics import plot_confusion_matrix\r\n",
        "fig, ax = plt.subplots(figsize=(13, 6))\r\n",
        "plt.title('Confusion Matrix', fontsize=16)\r\n",
        "plot_confusion_matrix(dtc, X=pd.DataFrame(X_test), y_true=y_test, cmap='PuBuGn', ax=ax, normalize='true', values_format='.0%');"
      ],
      "execution_count": 25,
      "outputs": [
        {
          "output_type": "display_data",
          "data": {
            "image/png": "[encoded data removed]",
            "text/plain": [
              "<Figure size 936x432 with 2 Axes>"
            ]
          },
          "metadata": {
            "tags": [],
            "needs_background": "light"
          }
        }
      ]
    },
    {
      "cell_type": "markdown",
      "metadata": {
        "id": "9gSVXTKBVMNK"
      },
      "source": [
        "Decision Tree Plot"
      ]
    },
    {
      "cell_type": "code",
      "metadata": {
        "id": "UU1inNL2Ptt4",
        "outputId": "f549139d-be0c-4336-ac4b-f78a5bebd1f1",
        "colab": {
          "base_uri": "https://localhost:8080/",
          "height": 373
        }
      },
      "source": [
        "plt.figure(figsize=(8,6))\r\n",
        "tree.plot_tree(dtc, feature_names=df.price, class_names=df.safety, filled=True);\r\n",
        "plt.title('Decision Tree');"
      ],
      "execution_count": 26,
      "outputs": [
        {
          "output_type": "display_data",
          "data": {
            "image/png": "[encoded data removed]",
            "text/plain": [
              "<Figure size 576x432 with 1 Axes>"
            ]
          },
          "metadata": {
            "tags": [],
            "needs_background": "light"
          }
        }
      ]
    },
    {
      "cell_type": "markdown",
      "metadata": {
        "id": "a-6d_Pw6zMsw"
      },
      "source": [
        "GridSearchCV"
      ]
    },
    {
      "cell_type": "code",
      "metadata": {
        "id": "Yjq4o6w7zIBA"
      },
      "source": [
        "from sklearn.model_selection import GridSearchCV\r\n",
        "param_grid ={'criterion': ['gini'],\r\n",
        " 'max_depth': [1],\r\n",
        " 'min_samples_leaf': [1],\r\n",
        " 'min_samples_split': [2]}\r\n",
        "\r\n",
        "#Make GridSearchCV\r\n",
        "grid_search =GridSearchCV(dtc, param_grid, cv=10)"
      ],
      "execution_count": 27,
      "outputs": []
    },
    {
      "cell_type": "code",
      "metadata": {
        "colab": {
          "base_uri": "https://localhost:8080/"
        },
        "id": "ShwNxUkjzglT",
        "outputId": "597730fe-ac1b-4980-c730-b15325d3e63b"
      },
      "source": [
        "#fit X_train and y_train into grid_search\r\n",
        "grid_search= grid_search.fit(X_train, y_train)\r\n",
        "grid_search"
      ],
      "execution_count": 28,
      "outputs": [
        {
          "output_type": "execute_result",
          "data": {
            "text/plain": [
              "GridSearchCV(cv=10, error_score=nan,\n",
              "             estimator=DecisionTreeClassifier(ccp_alpha=0.0, class_weight=None,\n",
              "                                              criterion='gini', max_depth=None,\n",
              "                                              max_features=None,\n",
              "                                              max_leaf_nodes=None,\n",
              "                                              min_impurity_decrease=0.0,\n",
              "                                              min_impurity_split=None,\n",
              "                                              min_samples_leaf=1,\n",
              "                                              min_samples_split=2,\n",
              "                                              min_weight_fraction_leaf=0.0,\n",
              "                                              presort='deprecated',\n",
              "                                              random_state=None,\n",
              "                                              splitter='best'),\n",
              "             iid='deprecated', n_jobs=None,\n",
              "             param_grid={'criterion': ['gini'], 'max_depth': [1],\n",
              "                         'min_samples_leaf': [1], 'min_samples_split': [2]},\n",
              "             pre_dispatch='2*n_jobs', refit=True, return_train_score=False,\n",
              "             scoring=None, verbose=0)"
            ]
          },
          "metadata": {
            "tags": []
          },
          "execution_count": 28
        }
      ]
    },
    {
      "cell_type": "code",
      "metadata": {
        "colab": {
          "base_uri": "https://localhost:8080/"
        },
        "id": "vvSf9UhlzsCQ",
        "outputId": "3eb415a4-2137-478c-dfa8-ec047c7cb009"
      },
      "source": [
        "#best parameters of LogisticRegression after using GridSearchCV\r\n",
        "grid_search.best_params_"
      ],
      "execution_count": 29,
      "outputs": [
        {
          "output_type": "execute_result",
          "data": {
            "text/plain": [
              "{'criterion': 'gini',\n",
              " 'max_depth': 1,\n",
              " 'min_samples_leaf': 1,\n",
              " 'min_samples_split': 2}"
            ]
          },
          "metadata": {
            "tags": []
          },
          "execution_count": 29
        }
      ]
    },
    {
      "cell_type": "code",
      "metadata": {
        "colab": {
          "base_uri": "https://localhost:8080/"
        },
        "id": "ZAsQEVWQ0Gdm",
        "outputId": "8022f81f-2479-4d6f-8cce-6b37cdf13fd4"
      },
      "source": [
        "grid_search.best_score_"
      ],
      "execution_count": 30,
      "outputs": [
        {
          "output_type": "execute_result",
          "data": {
            "text/plain": [
              "0.3374793388429752"
            ]
          },
          "metadata": {
            "tags": []
          },
          "execution_count": 30
        }
      ]
    },
    {
      "cell_type": "markdown",
      "metadata": {
        "id": "5ropMiKj3USh"
      },
      "source": [
        "RandomizedSearchCV"
      ]
    },
    {
      "cell_type": "code",
      "metadata": {
        "id": "Tcu4sMa53HHs"
      },
      "source": [
        "param_dist = {'criterion': ['entropy'],\r\n",
        " 'max_depth': [None],\r\n",
        " 'max_features': [1],\r\n",
        " 'min_samples_leaf': [6]}"
      ],
      "execution_count": 31,
      "outputs": []
    },
    {
      "cell_type": "code",
      "metadata": {
        "id": "5YLM-Srt5gnw"
      },
      "source": [
        "# Instantiate a Decision Tree classifier: tree\r\n",
        "tree = DecisionTreeClassifier()"
      ],
      "execution_count": 32,
      "outputs": []
    },
    {
      "cell_type": "code",
      "metadata": {
        "colab": {
          "base_uri": "https://localhost:8080/"
        },
        "id": "_p_5hWCt5kos",
        "outputId": "7a709061-bf1f-460c-adb3-4a1a4f31dae0"
      },
      "source": [
        "# Instantiate the RandomizedSearchCV object: tree_cv\r\n",
        "tree_cv = RandomizedSearchCV(tree, param_dist, cv=5)\r\n",
        "tree_cv"
      ],
      "execution_count": 33,
      "outputs": [
        {
          "output_type": "execute_result",
          "data": {
            "text/plain": [
              "RandomizedSearchCV(cv=5, error_score=nan,\n",
              "                   estimator=DecisionTreeClassifier(ccp_alpha=0.0,\n",
              "                                                    class_weight=None,\n",
              "                                                    criterion='gini',\n",
              "                                                    max_depth=None,\n",
              "                                                    max_features=None,\n",
              "                                                    max_leaf_nodes=None,\n",
              "                                                    min_impurity_decrease=0.0,\n",
              "                                                    min_impurity_split=None,\n",
              "                                                    min_samples_leaf=1,\n",
              "                                                    min_samples_split=2,\n",
              "                                                    min_weight_fraction_leaf=0.0,\n",
              "                                                    presort='deprecated',\n",
              "                                                    random_state=None,\n",
              "                                                    splitter='best'),\n",
              "                   iid='deprecated', n_iter=10, n_jobs=None,\n",
              "                   param_distributions={'criterion': ['entropy'],\n",
              "                                        'max_depth': [None],\n",
              "                                        'max_features': [1],\n",
              "                                        'min_samples_leaf': [6]},\n",
              "                   pre_dispatch='2*n_jobs', random_state=None, refit=True,\n",
              "                   return_train_score=False, scoring=None, verbose=0)"
            ]
          },
          "metadata": {
            "tags": []
          },
          "execution_count": 33
        }
      ]
    },
    {
      "cell_type": "code",
      "metadata": {
        "colab": {
          "base_uri": "https://localhost:8080/"
        },
        "id": "UsjeWA-86pYr",
        "outputId": "a93e7312-7b61-48d4-d08c-6460d2f26289"
      },
      "source": [
        "tree_cv.fit(X_train,y_train)"
      ],
      "execution_count": 34,
      "outputs": [
        {
          "output_type": "stream",
          "text": [
            "/usr/local/lib/python3.6/dist-packages/sklearn/model_selection/_search.py:281: UserWarning: The total space of parameters 1 is smaller than n_iter=10. Running 1 iterations. For exhaustive searches, use GridSearchCV.\n",
            "  % (grid_size, self.n_iter, grid_size), UserWarning)\n"
          ],
          "name": "stderr"
        },
        {
          "output_type": "execute_result",
          "data": {
            "text/plain": [
              "RandomizedSearchCV(cv=5, error_score=nan,\n",
              "                   estimator=DecisionTreeClassifier(ccp_alpha=0.0,\n",
              "                                                    class_weight=None,\n",
              "                                                    criterion='gini',\n",
              "                                                    max_depth=None,\n",
              "                                                    max_features=None,\n",
              "                                                    max_leaf_nodes=None,\n",
              "                                                    min_impurity_decrease=0.0,\n",
              "                                                    min_impurity_split=None,\n",
              "                                                    min_samples_leaf=1,\n",
              "                                                    min_samples_split=2,\n",
              "                                                    min_weight_fraction_leaf=0.0,\n",
              "                                                    presort='deprecated',\n",
              "                                                    random_state=None,\n",
              "                                                    splitter='best'),\n",
              "                   iid='deprecated', n_iter=10, n_jobs=None,\n",
              "                   param_distributions={'criterion': ['entropy'],\n",
              "                                        'max_depth': [None],\n",
              "                                        'max_features': [1],\n",
              "                                        'min_samples_leaf': [6]},\n",
              "                   pre_dispatch='2*n_jobs', random_state=None, refit=True,\n",
              "                   return_train_score=False, scoring=None, verbose=0)"
            ]
          },
          "metadata": {
            "tags": []
          },
          "execution_count": 34
        }
      ]
    },
    {
      "cell_type": "code",
      "metadata": {
        "colab": {
          "base_uri": "https://localhost:8080/"
        },
        "id": "QUcnIhX26MFV",
        "outputId": "a25f644e-53b6-4571-c797-bf555948a653"
      },
      "source": [
        "tree_cv.best_score_"
      ],
      "execution_count": 35,
      "outputs": [
        {
          "output_type": "execute_result",
          "data": {
            "text/plain": [
              "0.3200987620451974"
            ]
          },
          "metadata": {
            "tags": []
          },
          "execution_count": 35
        }
      ]
    },
    {
      "cell_type": "code",
      "metadata": {
        "colab": {
          "base_uri": "https://localhost:8080/"
        },
        "id": "HSBJcTCS6yDH",
        "outputId": "1f3b8b7e-1429-4b4e-b2d4-c12626017fc9"
      },
      "source": [
        "tree_cv.best_params_"
      ],
      "execution_count": 36,
      "outputs": [
        {
          "output_type": "execute_result",
          "data": {
            "text/plain": [
              "{'criterion': 'entropy',\n",
              " 'max_depth': None,\n",
              " 'max_features': 1,\n",
              " 'min_samples_leaf': 6}"
            ]
          },
          "metadata": {
            "tags": []
          },
          "execution_count": 36
        }
      ]
    }
  ]
}