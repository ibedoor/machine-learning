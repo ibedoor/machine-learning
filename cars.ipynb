{
  "nbformat": 4,
  "nbformat_minor": 0,
  "metadata": {
    "colab": {
      "name": "cars.ipynb",
      "provenance": [],
      "include_colab_link": true
    },
    "kernelspec": {
      "name": "python3",
      "display_name": "Python 3"
    }
  },
  "cells": [
    {
      "cell_type": "markdown",
      "metadata": {
        "id": "view-in-github",
        "colab_type": "text"
      },
      "source": [
        "<a href=\"https://colab.research.google.com/github/ibedoor/machine-learning/blob/main/cars.ipynb\" target=\"_parent\"><img src=\"https://colab.research.google.com/assets/colab-badge.svg\" alt=\"Open In Colab\"/></a>"
      ]
    },
    {
      "cell_type": "markdown",
      "metadata": {
        "id": "hoDVYTa4UR5T"
      },
      "source": [
        "# Decision Tree Assignment\r\n",
        "\r\n",
        "#### Deleverables\r\n",
        "- EDA \r\n",
        "    - Tell / show me about your data\r\n",
        "    - Etc...\r\n",
        "- Data prep / wrangling\r\n",
        "    - pick & prep your features\r\n",
        "    - [train_test_split()](https://scikit-learn.org/stable/modules/generated/sklearn.model_selection.train_test_split.html)\r\n",
        "    - Etc...\r\n",
        "- Model\r\n",
        "    - Import and make a [DecisionTreeClassifier()](https://scikit-learn.org/stable/modules/generated/sklearn.tree.DecisionTreeClassifier.html)\r\n",
        "    - Bonus: [GridSearchCV()](https://scikit-learn.org/stable/modules/generated/sklearn.model_selection.GridSearchCV.html) or [RandomizedSearchCV()](https://scikit-learn.org/stable/modules/generated/sklearn.model_selection.RandomizedSearchCV.html)\r\n",
        "    - Bonus: [RandomForestClassifier()](https://scikit-learn.org/stable/modules/generated/sklearn.ensemble.RandomForestClassifier.html)\r\n",
        "        - Explain what's going on..\r\n",
        "- Score your model\r\n",
        "    - Accuracy\r\n",
        "    - Confusion matrix\r\n",
        "    - Etc...\r\n",
        "- Display your decision tree with [plot_tree()](https://scikit-learn.org/stable/modules/generated/sklearn.tree.plot_tree.html) (or similar)\r\n",
        "    - Explain your tree\r\n",
        "    - Etc..."
      ]
    },
    {
      "cell_type": "code",
      "metadata": {
        "id": "DiwnP3_yHDma"
      },
      "source": [
        "%%capture\n",
        "!pip install category-encoders\n",
        "import pandas as pd\n",
        "from sklearn.tree import DecisionTreeClassifier\n",
        "import category_encoders as ce\n",
        "import matplotlib.pyplot as plt\n",
        "import seaborn as sns\n",
        "from sklearn import model_selection"
      ],
      "execution_count": 1,
      "outputs": []
    },
    {
      "cell_type": "markdown",
      "metadata": {
        "id": "0DXaKJPrJ8xF"
      },
      "source": [
        "[Data Source](https://archive.ics.uci.edu/ml/datasets/car+evaluation)"
      ]
    },
    {
      "cell_type": "code",
      "metadata": {
        "id": "TtVPYX1nHbo5",
        "colab": {
          "base_uri": "https://localhost:8080/"
        },
        "outputId": "215aa425-c940-47f7-caf4-a7fb8ad7d4f3"
      },
      "source": [
        "# Run to see Data Dictionary\n",
        "!curl https://archive.ics.uci.edu/ml/machine-learning-databases/car/car.names"
      ],
      "execution_count": 2,
      "outputs": [
        {
          "output_type": "stream",
          "text": [
            "1. Title: Car Evaluation Database\n",
            "\n",
            "2. Sources:\n",
            "   (a) Creator: Marko Bohanec\n",
            "   (b) Donors: Marko Bohanec   (marko.bohanec@ijs.si)\n",
            "               Blaz Zupan      (blaz.zupan@ijs.si)\n",
            "   (c) Date: June, 1997\n",
            "\n",
            "3. Past Usage:\n",
            "\n",
            "   The hierarchical decision model, from which this dataset is\n",
            "   derived, was first presented in \n",
            "\n",
            "   M. Bohanec and V. Rajkovic: Knowledge acquisition and explanation for\n",
            "   multi-attribute decision making. In 8th Intl Workshop on Expert\n",
            "   Systems and their Applications, Avignon, France. pages 59-78, 1988.\n",
            "\n",
            "   Within machine-learning, this dataset was used for the evaluation\n",
            "   of HINT (Hierarchy INduction Tool), which was proved to be able to\n",
            "   completely reconstruct the original hierarchical model. This,\n",
            "   together with a comparison with C4.5, is presented in\n",
            "\n",
            "   B. Zupan, M. Bohanec, I. Bratko, J. Demsar: Machine learning by\n",
            "   function decomposition. ICML-97, Nashville, TN. 1997 (to appear)\n",
            "\n",
            "4. Relevant Information Paragraph:\n",
            "\n",
            "   Car Evaluation Database was derived from a simple hierarchical\n",
            "   decision model originally developed for the demonstration of DEX\n",
            "   (M. Bohanec, V. Rajkovic: Expert system for decision\n",
            "   making. Sistemica 1(1), pp. 145-157, 1990.). The model evaluates\n",
            "   cars according to the following concept structure:\n",
            "\n",
            "   CAR                      car acceptability\n",
            "   . PRICE                  overall price\n",
            "   . . buying               buying price\n",
            "   . . maint                price of the maintenance\n",
            "   . TECH                   technical characteristics\n",
            "   . . COMFORT              comfort\n",
            "   . . . doors              number of doors\n",
            "   . . . persons            capacity in terms of persons to carry\n",
            "   . . . lug_boot           the size of luggage boot\n",
            "   . . safety               estimated safety of the car\n",
            "\n",
            "   Input attributes are printed in lowercase. Besides the target\n",
            "   concept (CAR), the model includes three intermediate concepts:\n",
            "   PRICE, TECH, COMFORT. Every concept is in the original model\n",
            "   related to its lower level descendants by a set of examples (for\n",
            "   these examples sets see http://www-ai.ijs.si/BlazZupan/car.html).\n",
            "\n",
            "   The Car Evaluation Database contains examples with the structural\n",
            "   information removed, i.e., directly relates CAR to the six input\n",
            "   attributes: buying, maint, doors, persons, lug_boot, safety.\n",
            "\n",
            "   Because of known underlying concept structure, this database may be\n",
            "   particularly useful for testing constructive induction and\n",
            "   structure discovery methods.\n",
            "\n",
            "5. Number of Instances: 1728\n",
            "   (instances completely cover the attribute space)\n",
            "\n",
            "6. Number of Attributes: 6\n",
            "\n",
            "7. Attribute Values:\n",
            "\n",
            "   buying       v-high, high, med, low\n",
            "   maint        v-high, high, med, low\n",
            "   doors        2, 3, 4, 5-more\n",
            "   persons      2, 4, more\n",
            "   lug_boot     small, med, big\n",
            "   safety       low, med, high\n",
            "\n",
            "8. Missing Attribute Values: none\n",
            "\n",
            "9. Class Distribution (number of instances per class)\n",
            "\n",
            "   class      N          N[%]\n",
            "   -----------------------------\n",
            "   unacc     1210     (70.023 %) \n",
            "   acc        384     (22.222 %) \n",
            "   good        69     ( 3.993 %) \n",
            "   v-good      65     ( 3.762 %) \n"
          ],
          "name": "stdout"
        }
      ]
    },
    {
      "cell_type": "code",
      "metadata": {
        "colab": {
          "base_uri": "https://localhost:8080/",
          "height": 198
        },
        "id": "uMbozrogH_fk",
        "outputId": "23ddb241-9e4d-4885-9455-75a9f78485a7"
      },
      "source": [
        "df = pd.read_csv(\"https://archive.ics.uci.edu/ml/machine-learning-databases/car/car.data\", \n",
        "                 names=[\"price\", \"maint\", \"doors\", \"persons\", \"lug_boot\", \"safety\"],).reset_index().drop(\"safety\", axis=1)\n",
        "\n",
        "df.columns = [\"price\", \"maint\", \"doors\", \"persons\", \"lug_boot\", \"safety\"]\n",
        "df.head()"
      ],
      "execution_count": 3,
      "outputs": [
        {
          "output_type": "execute_result",
          "data": {
            "text/html": [
              "<div>\n",
              "<style scoped>\n",
              "    .dataframe tbody tr th:only-of-type {\n",
              "        vertical-align: middle;\n",
              "    }\n",
              "\n",
              "    .dataframe tbody tr th {\n",
              "        vertical-align: top;\n",
              "    }\n",
              "\n",
              "    .dataframe thead th {\n",
              "        text-align: right;\n",
              "    }\n",
              "</style>\n",
              "<table border=\"1\" class=\"dataframe\">\n",
              "  <thead>\n",
              "    <tr style=\"text-align: right;\">\n",
              "      <th></th>\n",
              "      <th>price</th>\n",
              "      <th>maint</th>\n",
              "      <th>doors</th>\n",
              "      <th>persons</th>\n",
              "      <th>lug_boot</th>\n",
              "      <th>safety</th>\n",
              "    </tr>\n",
              "  </thead>\n",
              "  <tbody>\n",
              "    <tr>\n",
              "      <th>0</th>\n",
              "      <td>vhigh</td>\n",
              "      <td>vhigh</td>\n",
              "      <td>2</td>\n",
              "      <td>2</td>\n",
              "      <td>small</td>\n",
              "      <td>low</td>\n",
              "    </tr>\n",
              "    <tr>\n",
              "      <th>1</th>\n",
              "      <td>vhigh</td>\n",
              "      <td>vhigh</td>\n",
              "      <td>2</td>\n",
              "      <td>2</td>\n",
              "      <td>small</td>\n",
              "      <td>med</td>\n",
              "    </tr>\n",
              "    <tr>\n",
              "      <th>2</th>\n",
              "      <td>vhigh</td>\n",
              "      <td>vhigh</td>\n",
              "      <td>2</td>\n",
              "      <td>2</td>\n",
              "      <td>small</td>\n",
              "      <td>high</td>\n",
              "    </tr>\n",
              "    <tr>\n",
              "      <th>3</th>\n",
              "      <td>vhigh</td>\n",
              "      <td>vhigh</td>\n",
              "      <td>2</td>\n",
              "      <td>2</td>\n",
              "      <td>med</td>\n",
              "      <td>low</td>\n",
              "    </tr>\n",
              "    <tr>\n",
              "      <th>4</th>\n",
              "      <td>vhigh</td>\n",
              "      <td>vhigh</td>\n",
              "      <td>2</td>\n",
              "      <td>2</td>\n",
              "      <td>med</td>\n",
              "      <td>med</td>\n",
              "    </tr>\n",
              "  </tbody>\n",
              "</table>\n",
              "</div>"
            ],
            "text/plain": [
              "   price  maint doors persons lug_boot safety\n",
              "0  vhigh  vhigh     2       2    small    low\n",
              "1  vhigh  vhigh     2       2    small    med\n",
              "2  vhigh  vhigh     2       2    small   high\n",
              "3  vhigh  vhigh     2       2      med    low\n",
              "4  vhigh  vhigh     2       2      med    med"
            ]
          },
          "metadata": {
            "tags": []
          },
          "execution_count": 3
        }
      ]
    },
    {
      "cell_type": "code",
      "metadata": {
        "colab": {
          "base_uri": "https://localhost:8080/",
          "height": 198
        },
        "id": "5zK6aiNbNyd2",
        "outputId": "3cb002bb-2207-4f14-8527-14b7572adbda"
      },
      "source": [
        "# Ordinally Encoded DF if needed\n",
        "encoder = ce.OrdinalEncoder()\n",
        "df_encode = encoder.fit_transform(df)\n",
        "df_encode.head()"
      ],
      "execution_count": 4,
      "outputs": [
        {
          "output_type": "execute_result",
          "data": {
            "text/html": [
              "<div>\n",
              "<style scoped>\n",
              "    .dataframe tbody tr th:only-of-type {\n",
              "        vertical-align: middle;\n",
              "    }\n",
              "\n",
              "    .dataframe tbody tr th {\n",
              "        vertical-align: top;\n",
              "    }\n",
              "\n",
              "    .dataframe thead th {\n",
              "        text-align: right;\n",
              "    }\n",
              "</style>\n",
              "<table border=\"1\" class=\"dataframe\">\n",
              "  <thead>\n",
              "    <tr style=\"text-align: right;\">\n",
              "      <th></th>\n",
              "      <th>price</th>\n",
              "      <th>maint</th>\n",
              "      <th>doors</th>\n",
              "      <th>persons</th>\n",
              "      <th>lug_boot</th>\n",
              "      <th>safety</th>\n",
              "    </tr>\n",
              "  </thead>\n",
              "  <tbody>\n",
              "    <tr>\n",
              "      <th>0</th>\n",
              "      <td>1</td>\n",
              "      <td>1</td>\n",
              "      <td>1</td>\n",
              "      <td>1</td>\n",
              "      <td>1</td>\n",
              "      <td>1</td>\n",
              "    </tr>\n",
              "    <tr>\n",
              "      <th>1</th>\n",
              "      <td>1</td>\n",
              "      <td>1</td>\n",
              "      <td>1</td>\n",
              "      <td>1</td>\n",
              "      <td>1</td>\n",
              "      <td>2</td>\n",
              "    </tr>\n",
              "    <tr>\n",
              "      <th>2</th>\n",
              "      <td>1</td>\n",
              "      <td>1</td>\n",
              "      <td>1</td>\n",
              "      <td>1</td>\n",
              "      <td>1</td>\n",
              "      <td>3</td>\n",
              "    </tr>\n",
              "    <tr>\n",
              "      <th>3</th>\n",
              "      <td>1</td>\n",
              "      <td>1</td>\n",
              "      <td>1</td>\n",
              "      <td>1</td>\n",
              "      <td>2</td>\n",
              "      <td>1</td>\n",
              "    </tr>\n",
              "    <tr>\n",
              "      <th>4</th>\n",
              "      <td>1</td>\n",
              "      <td>1</td>\n",
              "      <td>1</td>\n",
              "      <td>1</td>\n",
              "      <td>2</td>\n",
              "      <td>2</td>\n",
              "    </tr>\n",
              "  </tbody>\n",
              "</table>\n",
              "</div>"
            ],
            "text/plain": [
              "   price  maint  doors  persons  lug_boot  safety\n",
              "0      1      1      1        1         1       1\n",
              "1      1      1      1        1         1       2\n",
              "2      1      1      1        1         1       3\n",
              "3      1      1      1        1         2       1\n",
              "4      1      1      1        1         2       2"
            ]
          },
          "metadata": {
            "tags": []
          },
          "execution_count": 4
        }
      ]
    },
    {
      "cell_type": "markdown",
      "metadata": {
        "id": "Na0vqWzjnhMt"
      },
      "source": [
        "**EDA**"
      ]
    },
    {
      "cell_type": "code",
      "metadata": {
        "colab": {
          "base_uri": "https://localhost:8080/"
        },
        "id": "vZz7iDb1yyPo",
        "outputId": "51ae96bc-63b7-4679-ca96-57fee319ada2"
      },
      "source": [
        "df.shape"
      ],
      "execution_count": 5,
      "outputs": [
        {
          "output_type": "execute_result",
          "data": {
            "text/plain": [
              "(1728, 6)"
            ]
          },
          "metadata": {
            "tags": []
          },
          "execution_count": 5
        }
      ]
    },
    {
      "cell_type": "code",
      "metadata": {
        "colab": {
          "base_uri": "https://localhost:8080/",
          "height": 168
        },
        "id": "Xoq_CaTOns31",
        "outputId": "8666f193-f882-464d-f482-4f4e5b6c6cf7"
      },
      "source": [
        "df.describe()"
      ],
      "execution_count": 6,
      "outputs": [
        {
          "output_type": "execute_result",
          "data": {
            "text/html": [
              "<div>\n",
              "<style scoped>\n",
              "    .dataframe tbody tr th:only-of-type {\n",
              "        vertical-align: middle;\n",
              "    }\n",
              "\n",
              "    .dataframe tbody tr th {\n",
              "        vertical-align: top;\n",
              "    }\n",
              "\n",
              "    .dataframe thead th {\n",
              "        text-align: right;\n",
              "    }\n",
              "</style>\n",
              "<table border=\"1\" class=\"dataframe\">\n",
              "  <thead>\n",
              "    <tr style=\"text-align: right;\">\n",
              "      <th></th>\n",
              "      <th>price</th>\n",
              "      <th>maint</th>\n",
              "      <th>doors</th>\n",
              "      <th>persons</th>\n",
              "      <th>lug_boot</th>\n",
              "      <th>safety</th>\n",
              "    </tr>\n",
              "  </thead>\n",
              "  <tbody>\n",
              "    <tr>\n",
              "      <th>count</th>\n",
              "      <td>1728</td>\n",
              "      <td>1728</td>\n",
              "      <td>1728</td>\n",
              "      <td>1728</td>\n",
              "      <td>1728</td>\n",
              "      <td>1728</td>\n",
              "    </tr>\n",
              "    <tr>\n",
              "      <th>unique</th>\n",
              "      <td>4</td>\n",
              "      <td>4</td>\n",
              "      <td>4</td>\n",
              "      <td>3</td>\n",
              "      <td>3</td>\n",
              "      <td>3</td>\n",
              "    </tr>\n",
              "    <tr>\n",
              "      <th>top</th>\n",
              "      <td>med</td>\n",
              "      <td>med</td>\n",
              "      <td>4</td>\n",
              "      <td>more</td>\n",
              "      <td>med</td>\n",
              "      <td>med</td>\n",
              "    </tr>\n",
              "    <tr>\n",
              "      <th>freq</th>\n",
              "      <td>432</td>\n",
              "      <td>432</td>\n",
              "      <td>432</td>\n",
              "      <td>576</td>\n",
              "      <td>576</td>\n",
              "      <td>576</td>\n",
              "    </tr>\n",
              "  </tbody>\n",
              "</table>\n",
              "</div>"
            ],
            "text/plain": [
              "       price maint doors persons lug_boot safety\n",
              "count   1728  1728  1728    1728     1728   1728\n",
              "unique     4     4     4       3        3      3\n",
              "top      med   med     4    more      med    med\n",
              "freq     432   432   432     576      576    576"
            ]
          },
          "metadata": {
            "tags": []
          },
          "execution_count": 6
        }
      ]
    },
    {
      "cell_type": "code",
      "metadata": {
        "colab": {
          "base_uri": "https://localhost:8080/"
        },
        "id": "CGVXGLPfn0H4",
        "outputId": "42cd7236-14f5-4e14-cc7d-b838cd22b7c1"
      },
      "source": [
        "df.keys()"
      ],
      "execution_count": 7,
      "outputs": [
        {
          "output_type": "execute_result",
          "data": {
            "text/plain": [
              "Index(['price', 'maint', 'doors', 'persons', 'lug_boot', 'safety'], dtype='object')"
            ]
          },
          "metadata": {
            "tags": []
          },
          "execution_count": 7
        }
      ]
    },
    {
      "cell_type": "code",
      "metadata": {
        "id": "m8EQ9Ba2n71_"
      },
      "source": [
        "count_safety = df.safety.value_counts()"
      ],
      "execution_count": 8,
      "outputs": []
    },
    {
      "cell_type": "code",
      "metadata": {
        "colab": {
          "base_uri": "https://localhost:8080/",
          "height": 427
        },
        "id": "wy0EMa05orBm",
        "outputId": "6c7e34d1-d7fb-4d80-a5c6-def1a32c31a1"
      },
      "source": [
        "# deterimne figure size\r\n",
        "plt.figure(figsize=[7,7])\r\n",
        "plt.pie(count_safety,\r\n",
        "        autopct='%1.1f%%')\r\n",
        "# title\r\n",
        "plt.title(\"The Percentage of Safety\");"
      ],
      "execution_count": 9,
      "outputs": [
        {
          "output_type": "display_data",
          "data": {
            "image/png": "[encoded data removed]",
            "text/plain": [
              "<Figure size 504x504 with 1 Axes>"
            ]
          },
          "metadata": {
            "tags": []
          }
        }
      ]
    },
    {
      "cell_type": "code",
      "metadata": {
        "colab": {
          "base_uri": "https://localhost:8080/",
          "height": 165
        },
        "id": "3c9rL_1hyt5p",
        "outputId": "83e4f4df-e56f-4ffe-aeed-4d4739a57300"
      },
      "source": [
        "# correlation\r\n",
        "corr = df_encode.corr()\r\n",
        "corr.style.background_gradient(cmap='Set3')"
      ],
      "execution_count": 10,
      "outputs": [
        {
          "output_type": "execute_result",
          "data": {
            "text/html": [
              "<style  type=\"text/css\" >\n",
              "#T_08be6da8_6954_11eb_9bc2_0242ac1c0002row0_col0,#T_08be6da8_6954_11eb_9bc2_0242ac1c0002row1_col1,#T_08be6da8_6954_11eb_9bc2_0242ac1c0002row2_col2,#T_08be6da8_6954_11eb_9bc2_0242ac1c0002row3_col3,#T_08be6da8_6954_11eb_9bc2_0242ac1c0002row4_col4,#T_08be6da8_6954_11eb_9bc2_0242ac1c0002row5_col5{\n",
              "            background-color:  #ffed6f;\n",
              "            color:  #000000;\n",
              "        }#T_08be6da8_6954_11eb_9bc2_0242ac1c0002row0_col1,#T_08be6da8_6954_11eb_9bc2_0242ac1c0002row0_col2,#T_08be6da8_6954_11eb_9bc2_0242ac1c0002row0_col3,#T_08be6da8_6954_11eb_9bc2_0242ac1c0002row0_col4,#T_08be6da8_6954_11eb_9bc2_0242ac1c0002row0_col5,#T_08be6da8_6954_11eb_9bc2_0242ac1c0002row1_col0,#T_08be6da8_6954_11eb_9bc2_0242ac1c0002row1_col2,#T_08be6da8_6954_11eb_9bc2_0242ac1c0002row1_col3,#T_08be6da8_6954_11eb_9bc2_0242ac1c0002row1_col4,#T_08be6da8_6954_11eb_9bc2_0242ac1c0002row1_col5,#T_08be6da8_6954_11eb_9bc2_0242ac1c0002row2_col0,#T_08be6da8_6954_11eb_9bc2_0242ac1c0002row2_col1,#T_08be6da8_6954_11eb_9bc2_0242ac1c0002row2_col3,#T_08be6da8_6954_11eb_9bc2_0242ac1c0002row2_col4,#T_08be6da8_6954_11eb_9bc2_0242ac1c0002row2_col5,#T_08be6da8_6954_11eb_9bc2_0242ac1c0002row3_col0,#T_08be6da8_6954_11eb_9bc2_0242ac1c0002row3_col1,#T_08be6da8_6954_11eb_9bc2_0242ac1c0002row3_col2,#T_08be6da8_6954_11eb_9bc2_0242ac1c0002row3_col4,#T_08be6da8_6954_11eb_9bc2_0242ac1c0002row3_col5,#T_08be6da8_6954_11eb_9bc2_0242ac1c0002row4_col0,#T_08be6da8_6954_11eb_9bc2_0242ac1c0002row4_col1,#T_08be6da8_6954_11eb_9bc2_0242ac1c0002row4_col2,#T_08be6da8_6954_11eb_9bc2_0242ac1c0002row4_col3,#T_08be6da8_6954_11eb_9bc2_0242ac1c0002row4_col5,#T_08be6da8_6954_11eb_9bc2_0242ac1c0002row5_col0,#T_08be6da8_6954_11eb_9bc2_0242ac1c0002row5_col1,#T_08be6da8_6954_11eb_9bc2_0242ac1c0002row5_col2,#T_08be6da8_6954_11eb_9bc2_0242ac1c0002row5_col3,#T_08be6da8_6954_11eb_9bc2_0242ac1c0002row5_col4{\n",
              "            background-color:  #8dd3c7;\n",
              "            color:  #000000;\n",
              "        }</style><table id=\"T_08be6da8_6954_11eb_9bc2_0242ac1c0002\" ><thead>    <tr>        <th class=\"blank level0\" ></th>        <th class=\"col_heading level0 col0\" >price</th>        <th class=\"col_heading level0 col1\" >maint</th>        <th class=\"col_heading level0 col2\" >doors</th>        <th class=\"col_heading level0 col3\" >persons</th>        <th class=\"col_heading level0 col4\" >lug_boot</th>        <th class=\"col_heading level0 col5\" >safety</th>    </tr></thead><tbody>\n",
              "                <tr>\n",
              "                        <th id=\"T_08be6da8_6954_11eb_9bc2_0242ac1c0002level0_row0\" class=\"row_heading level0 row0\" >price</th>\n",
              "                        <td id=\"T_08be6da8_6954_11eb_9bc2_0242ac1c0002row0_col0\" class=\"data row0 col0\" >1.000000</td>\n",
              "                        <td id=\"T_08be6da8_6954_11eb_9bc2_0242ac1c0002row0_col1\" class=\"data row0 col1\" >0.000000</td>\n",
              "                        <td id=\"T_08be6da8_6954_11eb_9bc2_0242ac1c0002row0_col2\" class=\"data row0 col2\" >0.000000</td>\n",
              "                        <td id=\"T_08be6da8_6954_11eb_9bc2_0242ac1c0002row0_col3\" class=\"data row0 col3\" >0.000000</td>\n",
              "                        <td id=\"T_08be6da8_6954_11eb_9bc2_0242ac1c0002row0_col4\" class=\"data row0 col4\" >0.000000</td>\n",
              "                        <td id=\"T_08be6da8_6954_11eb_9bc2_0242ac1c0002row0_col5\" class=\"data row0 col5\" >0.000000</td>\n",
              "            </tr>\n",
              "            <tr>\n",
              "                        <th id=\"T_08be6da8_6954_11eb_9bc2_0242ac1c0002level0_row1\" class=\"row_heading level0 row1\" >maint</th>\n",
              "                        <td id=\"T_08be6da8_6954_11eb_9bc2_0242ac1c0002row1_col0\" class=\"data row1 col0\" >0.000000</td>\n",
              "                        <td id=\"T_08be6da8_6954_11eb_9bc2_0242ac1c0002row1_col1\" class=\"data row1 col1\" >1.000000</td>\n",
              "                        <td id=\"T_08be6da8_6954_11eb_9bc2_0242ac1c0002row1_col2\" class=\"data row1 col2\" >0.000000</td>\n",
              "                        <td id=\"T_08be6da8_6954_11eb_9bc2_0242ac1c0002row1_col3\" class=\"data row1 col3\" >0.000000</td>\n",
              "                        <td id=\"T_08be6da8_6954_11eb_9bc2_0242ac1c0002row1_col4\" class=\"data row1 col4\" >0.000000</td>\n",
              "                        <td id=\"T_08be6da8_6954_11eb_9bc2_0242ac1c0002row1_col5\" class=\"data row1 col5\" >0.000000</td>\n",
              "            </tr>\n",
              "            <tr>\n",
              "                        <th id=\"T_08be6da8_6954_11eb_9bc2_0242ac1c0002level0_row2\" class=\"row_heading level0 row2\" >doors</th>\n",
              "                        <td id=\"T_08be6da8_6954_11eb_9bc2_0242ac1c0002row2_col0\" class=\"data row2 col0\" >0.000000</td>\n",
              "                        <td id=\"T_08be6da8_6954_11eb_9bc2_0242ac1c0002row2_col1\" class=\"data row2 col1\" >0.000000</td>\n",
              "                        <td id=\"T_08be6da8_6954_11eb_9bc2_0242ac1c0002row2_col2\" class=\"data row2 col2\" >1.000000</td>\n",
              "                        <td id=\"T_08be6da8_6954_11eb_9bc2_0242ac1c0002row2_col3\" class=\"data row2 col3\" >0.000000</td>\n",
              "                        <td id=\"T_08be6da8_6954_11eb_9bc2_0242ac1c0002row2_col4\" class=\"data row2 col4\" >0.000000</td>\n",
              "                        <td id=\"T_08be6da8_6954_11eb_9bc2_0242ac1c0002row2_col5\" class=\"data row2 col5\" >0.000000</td>\n",
              "            </tr>\n",
              "            <tr>\n",
              "                        <th id=\"T_08be6da8_6954_11eb_9bc2_0242ac1c0002level0_row3\" class=\"row_heading level0 row3\" >persons</th>\n",
              "                        <td id=\"T_08be6da8_6954_11eb_9bc2_0242ac1c0002row3_col0\" class=\"data row3 col0\" >0.000000</td>\n",
              "                        <td id=\"T_08be6da8_6954_11eb_9bc2_0242ac1c0002row3_col1\" class=\"data row3 col1\" >0.000000</td>\n",
              "                        <td id=\"T_08be6da8_6954_11eb_9bc2_0242ac1c0002row3_col2\" class=\"data row3 col2\" >0.000000</td>\n",
              "                        <td id=\"T_08be6da8_6954_11eb_9bc2_0242ac1c0002row3_col3\" class=\"data row3 col3\" >1.000000</td>\n",
              "                        <td id=\"T_08be6da8_6954_11eb_9bc2_0242ac1c0002row3_col4\" class=\"data row3 col4\" >0.000000</td>\n",
              "                        <td id=\"T_08be6da8_6954_11eb_9bc2_0242ac1c0002row3_col5\" class=\"data row3 col5\" >0.000000</td>\n",
              "            </tr>\n",
              "            <tr>\n",
              "                        <th id=\"T_08be6da8_6954_11eb_9bc2_0242ac1c0002level0_row4\" class=\"row_heading level0 row4\" >lug_boot</th>\n",
              "                        <td id=\"T_08be6da8_6954_11eb_9bc2_0242ac1c0002row4_col0\" class=\"data row4 col0\" >0.000000</td>\n",
              "                        <td id=\"T_08be6da8_6954_11eb_9bc2_0242ac1c0002row4_col1\" class=\"data row4 col1\" >0.000000</td>\n",
              "                        <td id=\"T_08be6da8_6954_11eb_9bc2_0242ac1c0002row4_col2\" class=\"data row4 col2\" >0.000000</td>\n",
              "                        <td id=\"T_08be6da8_6954_11eb_9bc2_0242ac1c0002row4_col3\" class=\"data row4 col3\" >0.000000</td>\n",
              "                        <td id=\"T_08be6da8_6954_11eb_9bc2_0242ac1c0002row4_col4\" class=\"data row4 col4\" >1.000000</td>\n",
              "                        <td id=\"T_08be6da8_6954_11eb_9bc2_0242ac1c0002row4_col5\" class=\"data row4 col5\" >0.000000</td>\n",
              "            </tr>\n",
              "            <tr>\n",
              "                        <th id=\"T_08be6da8_6954_11eb_9bc2_0242ac1c0002level0_row5\" class=\"row_heading level0 row5\" >safety</th>\n",
              "                        <td id=\"T_08be6da8_6954_11eb_9bc2_0242ac1c0002row5_col0\" class=\"data row5 col0\" >0.000000</td>\n",
              "                        <td id=\"T_08be6da8_6954_11eb_9bc2_0242ac1c0002row5_col1\" class=\"data row5 col1\" >0.000000</td>\n",
              "                        <td id=\"T_08be6da8_6954_11eb_9bc2_0242ac1c0002row5_col2\" class=\"data row5 col2\" >0.000000</td>\n",
              "                        <td id=\"T_08be6da8_6954_11eb_9bc2_0242ac1c0002row5_col3\" class=\"data row5 col3\" >0.000000</td>\n",
              "                        <td id=\"T_08be6da8_6954_11eb_9bc2_0242ac1c0002row5_col4\" class=\"data row5 col4\" >0.000000</td>\n",
              "                        <td id=\"T_08be6da8_6954_11eb_9bc2_0242ac1c0002row5_col5\" class=\"data row5 col5\" >1.000000</td>\n",
              "            </tr>\n",
              "    </tbody></table>"
            ],
            "text/plain": [
              "<pandas.io.formats.style.Styler at 0x7feed79e2f98>"
            ]
          },
          "metadata": {
            "tags": []
          },
          "execution_count": 10
        }
      ]
    },
    {
      "cell_type": "code",
      "metadata": {
        "colab": {
          "base_uri": "https://localhost:8080/",
          "height": 19
        },
        "id": "4GB-NZrTyX8d",
        "outputId": "fbe8e2b7-7219-4ca2-8f63-2d57c8be987a"
      },
      "source": [
        "# correlation\r\n",
        "corr = df.corr()\r\n",
        "corr.style.background_gradient(cmap='Set3')"
      ],
      "execution_count": 11,
      "outputs": [
        {
          "output_type": "execute_result",
          "data": {
            "text/html": [
              "<style  type=\"text/css\" >\n",
              "</style><table id=\"T_08c11c88_6954_11eb_9bc2_0242ac1c0002\" ><thead></thead><tbody>\n",
              "        </tbody></table>"
            ],
            "text/plain": [
              "<pandas.io.formats.style.Styler at 0x7feed79e25f8>"
            ]
          },
          "metadata": {
            "tags": []
          },
          "execution_count": 11
        }
      ]
    },
    {
      "cell_type": "code",
      "metadata": {
        "colab": {
          "base_uri": "https://localhost:8080/"
        },
        "id": "pLX78VK_pfyU",
        "outputId": "da662edf-9817-40b6-ad20-b7f55da65751"
      },
      "source": [
        "df.lug_boot.value_counts()"
      ],
      "execution_count": 12,
      "outputs": [
        {
          "output_type": "execute_result",
          "data": {
            "text/plain": [
              "med      576\n",
              "small    576\n",
              "big      576\n",
              "Name: lug_boot, dtype: int64"
            ]
          },
          "metadata": {
            "tags": []
          },
          "execution_count": 12
        }
      ]
    },
    {
      "cell_type": "code",
      "metadata": {
        "colab": {
          "base_uri": "https://localhost:8080/"
        },
        "id": "p6b4ka5Vpvjs",
        "outputId": "72bfaa94-07d3-433b-f067-1c1a753e524a"
      },
      "source": [
        "df.persons.value_counts()"
      ],
      "execution_count": 13,
      "outputs": [
        {
          "output_type": "execute_result",
          "data": {
            "text/plain": [
              "more    576\n",
              "4       576\n",
              "2       576\n",
              "Name: persons, dtype: int64"
            ]
          },
          "metadata": {
            "tags": []
          },
          "execution_count": 13
        }
      ]
    },
    {
      "cell_type": "markdown",
      "metadata": {
        "id": "ZVJJkQ2fqGGw"
      },
      "source": [
        "Data prep / wrangling"
      ]
    },
    {
      "cell_type": "code",
      "metadata": {
        "colab": {
          "base_uri": "https://localhost:8080/"
        },
        "id": "_VrrSbJxqdYM",
        "outputId": "1a27d7f2-a27e-4e2e-aa95-dcb7d8c3b60a"
      },
      "source": [
        "df_encode.isnull().sum()"
      ],
      "execution_count": 14,
      "outputs": [
        {
          "output_type": "execute_result",
          "data": {
            "text/plain": [
              "price       0\n",
              "maint       0\n",
              "doors       0\n",
              "persons     0\n",
              "lug_boot    0\n",
              "safety      0\n",
              "dtype: int64"
            ]
          },
          "metadata": {
            "tags": []
          },
          "execution_count": 14
        }
      ]
    },
    {
      "cell_type": "code",
      "metadata": {
        "id": "fWu-WkYJp92l"
      },
      "source": [
        "# split dataset\r\n",
        "from sklearn.model_selection import train_test_split\r\n",
        "\r\n",
        "#X = df_encode.drop('safety', axis=1)\r\n",
        "X = df_encode['price']\r\n",
        "y = df_encode['safety']\r\n",
        "\r\n",
        "X_train, X_test, y_train, y_test = train_test_split(X, y, train_size=0.7)"
      ],
      "execution_count": 15,
      "outputs": []
    },
    {
      "cell_type": "markdown",
      "metadata": {
        "id": "tms7QOQw-fC8"
      },
      "source": [
        "Check Accuercy before use model"
      ]
    },
    {
      "cell_type": "code",
      "metadata": {
        "colab": {
          "base_uri": "https://localhost:8080/"
        },
        "id": "pH55O8lc8rnz",
        "outputId": "31455079-6883-471c-b0ca-cc633e435870"
      },
      "source": [
        "# create empty array\r\n",
        "models = []\r\n",
        "# add models in array\r\n",
        "models.append(('Decision Tree', DecisionTreeClassifier()))\r\n",
        "# create 2 empty array to append results and names for models\r\n",
        "results = []\r\n",
        "names = []\r\n",
        "# determine type scoring\r\n",
        "scoring = 'accuracy'\r\n",
        "# loop to \r\n",
        "for name, model in models:\r\n",
        "  kfold = model_selection.KFold(n_splits=10, random_state=None)\r\n",
        "  cv_results = model_selection.cross_val_score(model, pd.DataFrame(X_train), y_train, cv=kfold, scoring=scoring)\r\n",
        "  results.append(cv_results)\r\n",
        "  names.append(name)\r\n",
        "  msg = \"%s: %f (%f)\" % (name, cv_results.mean(), cv_results.std())\r\n",
        "  print(msg)"
      ],
      "execution_count": 16,
      "outputs": [
        {
          "output_type": "stream",
          "text": [
            "Decision Tree: 0.301901 (0.037353)\n"
          ],
          "name": "stdout"
        }
      ]
    },
    {
      "cell_type": "code",
      "metadata": {
        "colab": {
          "base_uri": "https://localhost:8080/",
          "height": 602
        },
        "id": "Ld8wxoMD8y1p",
        "outputId": "9c3f9137-dfd3-43c8-9917-34d740510f20"
      },
      "source": [
        "# determine figure size\r\n",
        "fig = plt.figure(figsize=(12,9))\r\n",
        "# title\r\n",
        "fig.suptitle('Decision Tree Accuracy')\r\n",
        "ax = fig.add_subplot(111)\r\n",
        "# create boxplot\r\n",
        "plt.boxplot(results)\r\n",
        "ax.set_xticklabels(names)\r\n",
        "# show plot\r\n",
        "plt.show()"
      ],
      "execution_count": 17,
      "outputs": [
        {
          "output_type": "display_data",
          "data": {
            "image/png": "[encoded data removed]",
            "text/plain": [
              "<Figure size 864x648 with 1 Axes>"
            ]
          },
          "metadata": {
            "tags": [],
            "needs_background": "light"
          }
        }
      ]
    },
    {
      "cell_type": "code",
      "metadata": {
        "id": "wr-vd0rw1Bih"
      },
      "source": [
        "# import standard scaler\r\n",
        "from sklearn.preprocessing import StandardScaler\r\n",
        "# import standard scaler\r\n",
        "from sklearn.model_selection import RandomizedSearchCV"
      ],
      "execution_count": 18,
      "outputs": []
    },
    {
      "cell_type": "code",
      "metadata": {
        "id": "1WqOhr9w1Jdp"
      },
      "source": [
        "#Standardize features by removing the mean and scaling to unit variance\r\n",
        "sc = StandardScaler()"
      ],
      "execution_count": 19,
      "outputs": []
    },
    {
      "cell_type": "code",
      "metadata": {
        "id": "wpU6N5i_1TLV"
      },
      "source": [
        "#Compute the mean and std to be used for later scaling\r\n",
        "X_train = sc.fit_transform(pd.DataFrame(X_train))\r\n",
        "#Fit to data, then transform it.\r\n",
        "X_test = sc.transform(pd.DataFrame(X_test))"
      ],
      "execution_count": 20,
      "outputs": []
    },
    {
      "cell_type": "markdown",
      "metadata": {
        "id": "FmXvhDBirx9a"
      },
      "source": [
        "Model Decision Tree"
      ]
    },
    {
      "cell_type": "code",
      "metadata": {
        "colab": {
          "base_uri": "https://localhost:8080/"
        },
        "id": "nPZNR0olq7q3",
        "outputId": "9af21a58-6627-4441-ace2-4564cf7b06e3"
      },
      "source": [
        "from sklearn.tree import DecisionTreeClassifier\r\n",
        "\r\n",
        "dtc = DecisionTreeClassifier()\r\n",
        "\r\n",
        "dtc.fit(pd.DataFrame(X_train), y_train)"
      ],
      "execution_count": 21,
      "outputs": [
        {
          "output_type": "execute_result",
          "data": {
            "text/plain": [
              "DecisionTreeClassifier(ccp_alpha=0.0, class_weight=None, criterion='gini',\n",
              "                       max_depth=None, max_features=None, max_leaf_nodes=None,\n",
              "                       min_impurity_decrease=0.0, min_impurity_split=None,\n",
              "                       min_samples_leaf=1, min_samples_split=2,\n",
              "                       min_weight_fraction_leaf=0.0, presort='deprecated',\n",
              "                       random_state=None, splitter='best')"
            ]
          },
          "metadata": {
            "tags": []
          },
          "execution_count": 21
        }
      ]
    },
    {
      "cell_type": "code",
      "metadata": {
        "colab": {
          "base_uri": "https://localhost:8080/"
        },
        "id": "YPMgQkDqrLa4",
        "outputId": "3444ab4a-a3d3-4447-ad6a-88ab1f6f0718"
      },
      "source": [
        "dtc.predict(pd.DataFrame(X_test))"
      ],
      "execution_count": 22,
      "outputs": [
        {
          "output_type": "execute_result",
          "data": {
            "text/plain": [
              "array([3, 3, 2, 3, 3, 2, 2, 3, 3, 3, 3, 3, 2, 2, 3, 2, 2, 3, 3, 3, 3, 3,\n",
              "       2, 3, 3, 3, 3, 3, 2, 2, 3, 3, 3, 3, 2, 3, 3, 3, 2, 2, 3, 3, 3, 2,\n",
              "       3, 2, 3, 3, 3, 3, 2, 3, 3, 3, 3, 3, 3, 3, 3, 3, 3, 3, 3, 3, 3, 3,\n",
              "       2, 3, 3, 3, 2, 3, 3, 3, 3, 3, 3, 3, 3, 3, 3, 3, 3, 3, 3, 3, 3, 3,\n",
              "       3, 3, 3, 2, 3, 3, 3, 3, 2, 2, 3, 3, 3, 3, 3, 3, 2, 3, 3, 3, 3, 3,\n",
              "       2, 3, 2, 3, 3, 3, 3, 2, 3, 3, 2, 3, 2, 3, 3, 2, 3, 3, 3, 2, 3, 3,\n",
              "       3, 3, 3, 2, 3, 3, 3, 3, 3, 3, 3, 3, 2, 3, 3, 2, 2, 3, 2, 3, 3, 3,\n",
              "       3, 3, 2, 2, 3, 3, 2, 3, 3, 2, 3, 2, 3, 2, 3, 3, 3, 3, 3, 3, 3, 3,\n",
              "       2, 3, 3, 3, 3, 3, 3, 3, 2, 3, 3, 2, 3, 3, 3, 3, 3, 3, 3, 3, 3, 2,\n",
              "       3, 2, 2, 3, 3, 3, 2, 3, 3, 2, 3, 2, 2, 2, 2, 3, 2, 3, 3, 2, 3, 3,\n",
              "       3, 3, 2, 3, 3, 3, 3, 2, 2, 3, 3, 3, 3, 2, 2, 2, 3, 2, 3, 3, 3, 3,\n",
              "       3, 3, 2, 3, 3, 3, 3, 3, 3, 3, 3, 3, 3, 3, 3, 3, 3, 2, 3, 3, 3, 3,\n",
              "       3, 3, 3, 3, 2, 2, 3, 3, 3, 3, 3, 3, 3, 3, 2, 2, 3, 3, 3, 3, 3, 3,\n",
              "       3, 3, 2, 2, 3, 3, 3, 3, 3, 3, 3, 3, 3, 3, 3, 3, 2, 3, 3, 3, 3, 2,\n",
              "       3, 2, 2, 3, 3, 2, 2, 2, 2, 3, 3, 3, 3, 3, 3, 3, 3, 3, 3, 3, 3, 3,\n",
              "       2, 3, 2, 3, 3, 3, 3, 3, 3, 3, 3, 3, 3, 2, 3, 3, 3, 2, 3, 3, 3, 3,\n",
              "       2, 3, 3, 3, 2, 3, 3, 3, 3, 3, 3, 3, 3, 2, 3, 3, 2, 3, 2, 2, 3, 3,\n",
              "       3, 3, 3, 2, 3, 2, 2, 3, 2, 3, 3, 2, 3, 3, 2, 2, 3, 3, 3, 3, 3, 3,\n",
              "       2, 3, 2, 3, 3, 2, 2, 3, 3, 2, 3, 3, 2, 2, 2, 3, 2, 3, 3, 3, 3, 2,\n",
              "       3, 3, 3, 3, 3, 3, 2, 3, 3, 3, 3, 3, 3, 3, 2, 3, 3, 3, 2, 3, 3, 2,\n",
              "       3, 3, 3, 2, 2, 2, 3, 3, 3, 2, 3, 3, 3, 3, 3, 3, 2, 3, 3, 3, 2, 3,\n",
              "       3, 3, 2, 3, 3, 3, 2, 3, 3, 3, 3, 3, 3, 2, 2, 2, 3, 3, 3, 3, 3, 3,\n",
              "       3, 3, 3, 3, 2, 3, 3, 3, 3, 3, 3, 3, 2, 3, 2, 3, 2, 3, 2, 3, 3, 3,\n",
              "       2, 2, 3, 2, 2, 3, 3, 3, 3, 3, 2, 3, 3])"
            ]
          },
          "metadata": {
            "tags": []
          },
          "execution_count": 22
        }
      ]
    },
    {
      "cell_type": "code",
      "metadata": {
        "colab": {
          "base_uri": "https://localhost:8080/"
        },
        "id": "8UwFKiYSsrIt",
        "outputId": "c70f7fd9-62a0-418b-f7e6-61f43c21f02e"
      },
      "source": [
        "dtc.feature_importances_"
      ],
      "execution_count": 23,
      "outputs": [
        {
          "output_type": "execute_result",
          "data": {
            "text/plain": [
              "array([1.])"
            ]
          },
          "metadata": {
            "tags": []
          },
          "execution_count": 23
        }
      ]
    },
    {
      "cell_type": "markdown",
      "metadata": {
        "id": "4_yazNMcsPCk"
      },
      "source": [
        "Score Decision Tree Classifier"
      ]
    },
    {
      "cell_type": "code",
      "metadata": {
        "colab": {
          "base_uri": "https://localhost:8080/"
        },
        "id": "xqJiPdtOrOlP",
        "outputId": "591d38d7-2054-47f9-8e7d-625c56f8da3a"
      },
      "source": [
        "from sklearn.metrics import accuracy_score\r\n",
        "\r\n",
        "preds = dtc.predict(pd.DataFrame(X_test))\r\n",
        "\r\n",
        "print(\"Accuracy:\",accuracy_score(y_test, preds)*100)"
      ],
      "execution_count": 24,
      "outputs": [
        {
          "output_type": "stream",
          "text": [
            "Accuracy: 28.901734104046245\n"
          ],
          "name": "stdout"
        }
      ]
    },
    {
      "cell_type": "code",
      "metadata": {
        "colab": {
          "base_uri": "https://localhost:8080/",
          "height": 406
        },
        "id": "Hwx9025rrgtJ",
        "outputId": "6d2293ee-da30-484b-8759-e286e6b83942"
      },
      "source": [
        "# confusion matrix by sklearn\r\n",
        "from sklearn.metrics import plot_confusion_matrix\r\n",
        "fig, ax = plt.subplots(figsize=(13, 6))\r\n",
        "plt.title('Confusion Matrix', fontsize=16)\r\n",
        "plot_confusion_matrix(dtc, X=pd.DataFrame(X_test), y_true=y_test, cmap='PuBuGn', ax=ax, normalize='true', values_format='.0%');"
      ],
      "execution_count": 25,
      "outputs": [
        {
          "output_type": "display_data",
          "data": {
            "image/png": "[encoded data removed]",
            "text/plain": [
              "<Figure size 936x432 with 2 Axes>"
            ]
          },
          "metadata": {
            "tags": [],
            "needs_background": "light"
          }
        }
      ]
    },
    {
      "cell_type": "code",
      "metadata": {
        "id": "8iRYWHWProcQ"
      },
      "source": [
        "from sklearn.tree import plot_tree"
      ],
      "execution_count": 26,
      "outputs": []
    },
    {
      "cell_type": "code",
      "metadata": {
        "colab": {
          "base_uri": "https://localhost:8080/",
          "height": 375
        },
        "id": "n5ZLBmaLta0N",
        "outputId": "c552f43a-373d-4293-c49c-34c7365530b0"
      },
      "source": [
        "import matplotlib.pyplot as plt\r\n",
        "\r\n",
        "plt.figure(figsize=(10,6))\r\n",
        "\r\n",
        "plot_tree(dtc, filled=True, rounded=True)\r\n",
        "plt.title('Decision Tree', fontsize=16);"
      ],
      "execution_count": 27,
      "outputs": [
        {
          "output_type": "display_data",
          "data": {
            "image/png": "[encoded data removed]",
            "text/plain": [
              "<Figure size 720x432 with 1 Axes>"
            ]
          },
          "metadata": {
            "tags": [],
            "needs_background": "light"
          }
        }
      ]
    },
    {
      "cell_type": "markdown",
      "metadata": {
        "id": "a-6d_Pw6zMsw"
      },
      "source": [
        "GridSearchCV"
      ]
    },
    {
      "cell_type": "code",
      "metadata": {
        "id": "Yjq4o6w7zIBA"
      },
      "source": [
        "from sklearn.model_selection import GridSearchCV\r\n",
        "param_grid ={'criterion': ['gini'],\r\n",
        " 'max_depth': [1],\r\n",
        " 'min_samples_leaf': [1],\r\n",
        " 'min_samples_split': [2]}\r\n",
        "\r\n",
        "#Make GridSearchCV\r\n",
        "grid_search =GridSearchCV(dtc, param_grid, cv=10)"
      ],
      "execution_count": 28,
      "outputs": []
    },
    {
      "cell_type": "code",
      "metadata": {
        "colab": {
          "base_uri": "https://localhost:8080/"
        },
        "id": "ShwNxUkjzglT",
        "outputId": "89667534-d910-48a6-c63f-70077b578b50"
      },
      "source": [
        "#fit X_train and y_train into grid_search\r\n",
        "grid_search= grid_search.fit(X_train, y_train)\r\n",
        "grid_search"
      ],
      "execution_count": 29,
      "outputs": [
        {
          "output_type": "execute_result",
          "data": {
            "text/plain": [
              "GridSearchCV(cv=10, error_score=nan,\n",
              "             estimator=DecisionTreeClassifier(ccp_alpha=0.0, class_weight=None,\n",
              "                                              criterion='gini', max_depth=None,\n",
              "                                              max_features=None,\n",
              "                                              max_leaf_nodes=None,\n",
              "                                              min_impurity_decrease=0.0,\n",
              "                                              min_impurity_split=None,\n",
              "                                              min_samples_leaf=1,\n",
              "                                              min_samples_split=2,\n",
              "                                              min_weight_fraction_leaf=0.0,\n",
              "                                              presort='deprecated',\n",
              "                                              random_state=None,\n",
              "                                              splitter='best'),\n",
              "             iid='deprecated', n_jobs=None,\n",
              "             param_grid={'criterion': ['gini'], 'max_depth': [1],\n",
              "                         'min_samples_leaf': [1], 'min_samples_split': [2]},\n",
              "             pre_dispatch='2*n_jobs', refit=True, return_train_score=False,\n",
              "             scoring=None, verbose=0)"
            ]
          },
          "metadata": {
            "tags": []
          },
          "execution_count": 29
        }
      ]
    },
    {
      "cell_type": "code",
      "metadata": {
        "colab": {
          "base_uri": "https://localhost:8080/"
        },
        "id": "vvSf9UhlzsCQ",
        "outputId": "f0a96171-ee69-4dfa-fc08-de606a3689e6"
      },
      "source": [
        "#best parameters of LogisticRegression after using GridSearchCV\r\n",
        "grid_search.best_params_"
      ],
      "execution_count": 30,
      "outputs": [
        {
          "output_type": "execute_result",
          "data": {
            "text/plain": [
              "{'criterion': 'gini',\n",
              " 'max_depth': 1,\n",
              " 'min_samples_leaf': 1,\n",
              " 'min_samples_split': 2}"
            ]
          },
          "metadata": {
            "tags": []
          },
          "execution_count": 30
        }
      ]
    },
    {
      "cell_type": "code",
      "metadata": {
        "colab": {
          "base_uri": "https://localhost:8080/"
        },
        "id": "ZAsQEVWQ0Gdm",
        "outputId": "e3c913a0-7476-4aa3-b008-db197ffa2e38"
      },
      "source": [
        "grid_search.best_score_"
      ],
      "execution_count": 31,
      "outputs": [
        {
          "output_type": "execute_result",
          "data": {
            "text/plain": [
              "0.3440909090909091"
            ]
          },
          "metadata": {
            "tags": []
          },
          "execution_count": 31
        }
      ]
    },
    {
      "cell_type": "markdown",
      "metadata": {
        "id": "5ropMiKj3USh"
      },
      "source": [
        "RandomizedSearchCV"
      ]
    },
    {
      "cell_type": "code",
      "metadata": {
        "id": "Tcu4sMa53HHs"
      },
      "source": [
        "param_dist = {'criterion': ['entropy'],\r\n",
        " 'max_depth': [None],\r\n",
        " 'max_features': [1],\r\n",
        " 'min_samples_leaf': [6]}"
      ],
      "execution_count": 32,
      "outputs": []
    },
    {
      "cell_type": "code",
      "metadata": {
        "id": "5YLM-Srt5gnw"
      },
      "source": [
        "# Instantiate a Decision Tree classifier: tree\r\n",
        "tree = DecisionTreeClassifier()"
      ],
      "execution_count": 33,
      "outputs": []
    },
    {
      "cell_type": "code",
      "metadata": {
        "colab": {
          "base_uri": "https://localhost:8080/"
        },
        "id": "_p_5hWCt5kos",
        "outputId": "3bb5e441-8999-4d73-8a8f-ff909c9ce8af"
      },
      "source": [
        "# Instantiate the RandomizedSearchCV object: tree_cv\r\n",
        "tree_cv = RandomizedSearchCV(tree, param_dist, cv=5)\r\n",
        "tree_cv"
      ],
      "execution_count": 34,
      "outputs": [
        {
          "output_type": "execute_result",
          "data": {
            "text/plain": [
              "RandomizedSearchCV(cv=5, error_score=nan,\n",
              "                   estimator=DecisionTreeClassifier(ccp_alpha=0.0,\n",
              "                                                    class_weight=None,\n",
              "                                                    criterion='gini',\n",
              "                                                    max_depth=None,\n",
              "                                                    max_features=None,\n",
              "                                                    max_leaf_nodes=None,\n",
              "                                                    min_impurity_decrease=0.0,\n",
              "                                                    min_impurity_split=None,\n",
              "                                                    min_samples_leaf=1,\n",
              "                                                    min_samples_split=2,\n",
              "                                                    min_weight_fraction_leaf=0.0,\n",
              "                                                    presort='deprecated',\n",
              "                                                    random_state=None,\n",
              "                                                    splitter='best'),\n",
              "                   iid='deprecated', n_iter=10, n_jobs=None,\n",
              "                   param_distributions={'criterion': ['entropy'],\n",
              "                                        'max_depth': [None],\n",
              "                                        'max_features': [1],\n",
              "                                        'min_samples_leaf': [6]},\n",
              "                   pre_dispatch='2*n_jobs', random_state=None, refit=True,\n",
              "                   return_train_score=False, scoring=None, verbose=0)"
            ]
          },
          "metadata": {
            "tags": []
          },
          "execution_count": 34
        }
      ]
    },
    {
      "cell_type": "code",
      "metadata": {
        "colab": {
          "base_uri": "https://localhost:8080/"
        },
        "id": "UsjeWA-86pYr",
        "outputId": "50ac1f89-be0f-4284-bc11-f56252a24508"
      },
      "source": [
        "tree_cv.fit(X_train,y_train)"
      ],
      "execution_count": 35,
      "outputs": [
        {
          "output_type": "stream",
          "text": [
            "/usr/local/lib/python3.6/dist-packages/sklearn/model_selection/_search.py:281: UserWarning: The total space of parameters 1 is smaller than n_iter=10. Running 1 iterations. For exhaustive searches, use GridSearchCV.\n",
            "  % (grid_size, self.n_iter, grid_size), UserWarning)\n"
          ],
          "name": "stderr"
        },
        {
          "output_type": "execute_result",
          "data": {
            "text/plain": [
              "RandomizedSearchCV(cv=5, error_score=nan,\n",
              "                   estimator=DecisionTreeClassifier(ccp_alpha=0.0,\n",
              "                                                    class_weight=None,\n",
              "                                                    criterion='gini',\n",
              "                                                    max_depth=None,\n",
              "                                                    max_features=None,\n",
              "                                                    max_leaf_nodes=None,\n",
              "                                                    min_impurity_decrease=0.0,\n",
              "                                                    min_impurity_split=None,\n",
              "                                                    min_samples_leaf=1,\n",
              "                                                    min_samples_split=2,\n",
              "                                                    min_weight_fraction_leaf=0.0,\n",
              "                                                    presort='deprecated',\n",
              "                                                    random_state=None,\n",
              "                                                    splitter='best'),\n",
              "                   iid='deprecated', n_iter=10, n_jobs=None,\n",
              "                   param_distributions={'criterion': ['entropy'],\n",
              "                                        'max_depth': [None],\n",
              "                                        'max_features': [1],\n",
              "                                        'min_samples_leaf': [6]},\n",
              "                   pre_dispatch='2*n_jobs', random_state=None, refit=True,\n",
              "                   return_train_score=False, scoring=None, verbose=0)"
            ]
          },
          "metadata": {
            "tags": []
          },
          "execution_count": 35
        }
      ]
    },
    {
      "cell_type": "code",
      "metadata": {
        "colab": {
          "base_uri": "https://localhost:8080/"
        },
        "id": "QUcnIhX26MFV",
        "outputId": "0bc0f973-44a7-40c0-8605-16ccd6b2d7a6"
      },
      "source": [
        "tree_cv.best_score_"
      ],
      "execution_count": 36,
      "outputs": [
        {
          "output_type": "execute_result",
          "data": {
            "text/plain": [
              "0.3333527656801893"
            ]
          },
          "metadata": {
            "tags": []
          },
          "execution_count": 36
        }
      ]
    },
    {
      "cell_type": "code",
      "metadata": {
        "colab": {
          "base_uri": "https://localhost:8080/"
        },
        "id": "HSBJcTCS6yDH",
        "outputId": "3941db74-dcbb-4a6f-9283-9f008bc48e2d"
      },
      "source": [
        "tree_cv.best_params_"
      ],
      "execution_count": 37,
      "outputs": [
        {
          "output_type": "execute_result",
          "data": {
            "text/plain": [
              "{'criterion': 'entropy',\n",
              " 'max_depth': None,\n",
              " 'max_features': 1,\n",
              " 'min_samples_leaf': 6}"
            ]
          },
          "metadata": {
            "tags": []
          },
          "execution_count": 37
        }
      ]
    }
  ]
}