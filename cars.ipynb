{
  "nbformat": 4,
  "nbformat_minor": 0,
  "metadata": {
    "colab": {
      "name": "cars.ipynb",
      "provenance": [],
      "include_colab_link": true
    },
    "kernelspec": {
      "name": "python3",
      "display_name": "Python 3"
    }
  },
  "cells": [
    {
      "cell_type": "markdown",
      "metadata": {
        "id": "view-in-github",
        "colab_type": "text"
      },
      "source": [
        "<a href=\"https://colab.research.google.com/github/ibedoor/machine-learning/blob/main/cars.ipynb\" target=\"_parent\"><img src=\"https://colab.research.google.com/assets/colab-badge.svg\" alt=\"Open In Colab\"/></a>"
      ]
    },
    {
      "cell_type": "markdown",
      "metadata": {
        "id": "hoDVYTa4UR5T"
      },
      "source": [
        "# Decision Tree Assignment\r\n",
        "\r\n",
        "#### Deleverables\r\n",
        "- EDA \r\n",
        "    - Tell / show me about your data\r\n",
        "    - Etc...\r\n",
        "- Data prep / wrangling\r\n",
        "    - pick & prep your features\r\n",
        "    - [train_test_split()](https://scikit-learn.org/stable/modules/generated/sklearn.model_selection.train_test_split.html)\r\n",
        "    - Etc...\r\n",
        "- Model\r\n",
        "    - Import and make a [DecisionTreeClassifier()](https://scikit-learn.org/stable/modules/generated/sklearn.tree.DecisionTreeClassifier.html)\r\n",
        "    - Bonus: [GridSearchCV()](https://scikit-learn.org/stable/modules/generated/sklearn.model_selection.GridSearchCV.html) or [RandomizedSearchCV()](https://scikit-learn.org/stable/modules/generated/sklearn.model_selection.RandomizedSearchCV.html)\r\n",
        "    - Bonus: [RandomForestClassifier()](https://scikit-learn.org/stable/modules/generated/sklearn.ensemble.RandomForestClassifier.html)\r\n",
        "        - Explain what's going on..\r\n",
        "- Score your model\r\n",
        "    - Accuracy\r\n",
        "    - Confusion matrix\r\n",
        "    - Etc...\r\n",
        "- Display your decision tree with [plot_tree()](https://scikit-learn.org/stable/modules/generated/sklearn.tree.plot_tree.html) (or similar)\r\n",
        "    - Explain your tree\r\n",
        "    - Etc..."
      ]
    },
    {
      "cell_type": "code",
      "metadata": {
        "id": "DiwnP3_yHDma"
      },
      "source": [
        "%%capture\n",
        "!pip install category-encoders\n",
        "import pandas as pd\n",
        "import numpy as np\n",
        "from sklearn.tree import DecisionTreeClassifier\n",
        "import category_encoders as ce\n",
        "import matplotlib.pyplot as plt\n",
        "import seaborn as sns\n",
        "from sklearn import model_selection\n",
        "from matplotlib import cm\n",
        "cs = cm.PuBuGn(np.arange(3)/3.)\n",
        "from sklearn.tree import plot_tree\n",
        "from sklearn import tree\n",
        "import graphviz"
      ],
      "execution_count": 1,
      "outputs": []
    },
    {
      "cell_type": "markdown",
      "metadata": {
        "id": "0DXaKJPrJ8xF"
      },
      "source": [
        "[Data Source](https://archive.ics.uci.edu/ml/datasets/car+evaluation)"
      ]
    },
    {
      "cell_type": "code",
      "metadata": {
        "id": "TtVPYX1nHbo5",
        "colab": {
          "base_uri": "https://localhost:8080/"
        },
        "outputId": "84e49d65-7bdb-41f7-d8f5-600dcef343b6"
      },
      "source": [
        "# Run to see Data Dictionary\n",
        "!curl https://archive.ics.uci.edu/ml/machine-learning-databases/car/car.names"
      ],
      "execution_count": 2,
      "outputs": [
        {
          "output_type": "stream",
          "text": [
            "1. Title: Car Evaluation Database\n",
            "\n",
            "2. Sources:\n",
            "   (a) Creator: Marko Bohanec\n",
            "   (b) Donors: Marko Bohanec   (marko.bohanec@ijs.si)\n",
            "               Blaz Zupan      (blaz.zupan@ijs.si)\n",
            "   (c) Date: June, 1997\n",
            "\n",
            "3. Past Usage:\n",
            "\n",
            "   The hierarchical decision model, from which this dataset is\n",
            "   derived, was first presented in \n",
            "\n",
            "   M. Bohanec and V. Rajkovic: Knowledge acquisition and explanation for\n",
            "   multi-attribute decision making. In 8th Intl Workshop on Expert\n",
            "   Systems and their Applications, Avignon, France. pages 59-78, 1988.\n",
            "\n",
            "   Within machine-learning, this dataset was used for the evaluation\n",
            "   of HINT (Hierarchy INduction Tool), which was proved to be able to\n",
            "   completely reconstruct the original hierarchical model. This,\n",
            "   together with a comparison with C4.5, is presented in\n",
            "\n",
            "   B. Zupan, M. Bohanec, I. Bratko, J. Demsar: Machine learning by\n",
            "   function decomposition. ICML-97, Nashville, TN. 1997 (to appear)\n",
            "\n",
            "4. Relevant Information Paragraph:\n",
            "\n",
            "   Car Evaluation Database was derived from a simple hierarchical\n",
            "   decision model originally developed for the demonstration of DEX\n",
            "   (M. Bohanec, V. Rajkovic: Expert system for decision\n",
            "   making. Sistemica 1(1), pp. 145-157, 1990.). The model evaluates\n",
            "   cars according to the following concept structure:\n",
            "\n",
            "   CAR                      car acceptability\n",
            "   . PRICE                  overall price\n",
            "   . . buying               buying price\n",
            "   . . maint                price of the maintenance\n",
            "   . TECH                   technical characteristics\n",
            "   . . COMFORT              comfort\n",
            "   . . . doors              number of doors\n",
            "   . . . persons            capacity in terms of persons to carry\n",
            "   . . . lug_boot           the size of luggage boot\n",
            "   . . safety               estimated safety of the car\n",
            "\n",
            "   Input attributes are printed in lowercase. Besides the target\n",
            "   concept (CAR), the model includes three intermediate concepts:\n",
            "   PRICE, TECH, COMFORT. Every concept is in the original model\n",
            "   related to its lower level descendants by a set of examples (for\n",
            "   these examples sets see http://www-ai.ijs.si/BlazZupan/car.html).\n",
            "\n",
            "   The Car Evaluation Database contains examples with the structural\n",
            "   information removed, i.e., directly relates CAR to the six input\n",
            "   attributes: buying, maint, doors, persons, lug_boot, safety.\n",
            "\n",
            "   Because of known underlying concept structure, this database may be\n",
            "   particularly useful for testing constructive induction and\n",
            "   structure discovery methods.\n",
            "\n",
            "5. Number of Instances: 1728\n",
            "   (instances completely cover the attribute space)\n",
            "\n",
            "6. Number of Attributes: 6\n",
            "\n",
            "7. Attribute Values:\n",
            "\n",
            "   buying       v-high, high, med, low\n",
            "   maint        v-high, high, med, low\n",
            "   doors        2, 3, 4, 5-more\n",
            "   persons      2, 4, more\n",
            "   lug_boot     small, med, big\n",
            "   safety       low, med, high\n",
            "\n",
            "8. Missing Attribute Values: none\n",
            "\n",
            "9. Class Distribution (number of instances per class)\n",
            "\n",
            "   class      N          N[%]\n",
            "   -----------------------------\n",
            "   unacc     1210     (70.023 %) \n",
            "   acc        384     (22.222 %) \n",
            "   good        69     ( 3.993 %) \n",
            "   v-good      65     ( 3.762 %) \n"
          ],
          "name": "stdout"
        }
      ]
    },
    {
      "cell_type": "code",
      "metadata": {
        "colab": {
          "base_uri": "https://localhost:8080/",
          "height": 198
        },
        "id": "uMbozrogH_fk",
        "outputId": "934b3469-e022-4f2c-adfc-6e00fdba19cc"
      },
      "source": [
        "df = pd.read_csv(\"https://archive.ics.uci.edu/ml/machine-learning-databases/car/car.data\", \n",
        "                 names=[\"price\", \"maint\", \"doors\", \"persons\", \"lug_boot\", \"safety\"],).reset_index().drop(\"safety\", axis=1)\n",
        "\n",
        "df.columns = [\"price\", \"maint\", \"doors\", \"persons\", \"lug_boot\", \"safety\"]\n",
        "df.head()"
      ],
      "execution_count": 3,
      "outputs": [
        {
          "output_type": "execute_result",
          "data": {
            "text/html": [
              "<div>\n",
              "<style scoped>\n",
              "    .dataframe tbody tr th:only-of-type {\n",
              "        vertical-align: middle;\n",
              "    }\n",
              "\n",
              "    .dataframe tbody tr th {\n",
              "        vertical-align: top;\n",
              "    }\n",
              "\n",
              "    .dataframe thead th {\n",
              "        text-align: right;\n",
              "    }\n",
              "</style>\n",
              "<table border=\"1\" class=\"dataframe\">\n",
              "  <thead>\n",
              "    <tr style=\"text-align: right;\">\n",
              "      <th></th>\n",
              "      <th>price</th>\n",
              "      <th>maint</th>\n",
              "      <th>doors</th>\n",
              "      <th>persons</th>\n",
              "      <th>lug_boot</th>\n",
              "      <th>safety</th>\n",
              "    </tr>\n",
              "  </thead>\n",
              "  <tbody>\n",
              "    <tr>\n",
              "      <th>0</th>\n",
              "      <td>vhigh</td>\n",
              "      <td>vhigh</td>\n",
              "      <td>2</td>\n",
              "      <td>2</td>\n",
              "      <td>small</td>\n",
              "      <td>low</td>\n",
              "    </tr>\n",
              "    <tr>\n",
              "      <th>1</th>\n",
              "      <td>vhigh</td>\n",
              "      <td>vhigh</td>\n",
              "      <td>2</td>\n",
              "      <td>2</td>\n",
              "      <td>small</td>\n",
              "      <td>med</td>\n",
              "    </tr>\n",
              "    <tr>\n",
              "      <th>2</th>\n",
              "      <td>vhigh</td>\n",
              "      <td>vhigh</td>\n",
              "      <td>2</td>\n",
              "      <td>2</td>\n",
              "      <td>small</td>\n",
              "      <td>high</td>\n",
              "    </tr>\n",
              "    <tr>\n",
              "      <th>3</th>\n",
              "      <td>vhigh</td>\n",
              "      <td>vhigh</td>\n",
              "      <td>2</td>\n",
              "      <td>2</td>\n",
              "      <td>med</td>\n",
              "      <td>low</td>\n",
              "    </tr>\n",
              "    <tr>\n",
              "      <th>4</th>\n",
              "      <td>vhigh</td>\n",
              "      <td>vhigh</td>\n",
              "      <td>2</td>\n",
              "      <td>2</td>\n",
              "      <td>med</td>\n",
              "      <td>med</td>\n",
              "    </tr>\n",
              "  </tbody>\n",
              "</table>\n",
              "</div>"
            ],
            "text/plain": [
              "   price  maint doors persons lug_boot safety\n",
              "0  vhigh  vhigh     2       2    small    low\n",
              "1  vhigh  vhigh     2       2    small    med\n",
              "2  vhigh  vhigh     2       2    small   high\n",
              "3  vhigh  vhigh     2       2      med    low\n",
              "4  vhigh  vhigh     2       2      med    med"
            ]
          },
          "metadata": {
            "tags": []
          },
          "execution_count": 3
        }
      ]
    },
    {
      "cell_type": "code",
      "metadata": {
        "colab": {
          "base_uri": "https://localhost:8080/",
          "height": 198
        },
        "id": "5zK6aiNbNyd2",
        "outputId": "7991dda8-65a4-4216-f391-cf3c3464521f"
      },
      "source": [
        "# Ordinally Encoded DF if needed\n",
        "encoder = ce.OrdinalEncoder()\n",
        "df_encode = encoder.fit_transform(df)\n",
        "df_encode.head()"
      ],
      "execution_count": 4,
      "outputs": [
        {
          "output_type": "execute_result",
          "data": {
            "text/html": [
              "<div>\n",
              "<style scoped>\n",
              "    .dataframe tbody tr th:only-of-type {\n",
              "        vertical-align: middle;\n",
              "    }\n",
              "\n",
              "    .dataframe tbody tr th {\n",
              "        vertical-align: top;\n",
              "    }\n",
              "\n",
              "    .dataframe thead th {\n",
              "        text-align: right;\n",
              "    }\n",
              "</style>\n",
              "<table border=\"1\" class=\"dataframe\">\n",
              "  <thead>\n",
              "    <tr style=\"text-align: right;\">\n",
              "      <th></th>\n",
              "      <th>price</th>\n",
              "      <th>maint</th>\n",
              "      <th>doors</th>\n",
              "      <th>persons</th>\n",
              "      <th>lug_boot</th>\n",
              "      <th>safety</th>\n",
              "    </tr>\n",
              "  </thead>\n",
              "  <tbody>\n",
              "    <tr>\n",
              "      <th>0</th>\n",
              "      <td>1</td>\n",
              "      <td>1</td>\n",
              "      <td>1</td>\n",
              "      <td>1</td>\n",
              "      <td>1</td>\n",
              "      <td>1</td>\n",
              "    </tr>\n",
              "    <tr>\n",
              "      <th>1</th>\n",
              "      <td>1</td>\n",
              "      <td>1</td>\n",
              "      <td>1</td>\n",
              "      <td>1</td>\n",
              "      <td>1</td>\n",
              "      <td>2</td>\n",
              "    </tr>\n",
              "    <tr>\n",
              "      <th>2</th>\n",
              "      <td>1</td>\n",
              "      <td>1</td>\n",
              "      <td>1</td>\n",
              "      <td>1</td>\n",
              "      <td>1</td>\n",
              "      <td>3</td>\n",
              "    </tr>\n",
              "    <tr>\n",
              "      <th>3</th>\n",
              "      <td>1</td>\n",
              "      <td>1</td>\n",
              "      <td>1</td>\n",
              "      <td>1</td>\n",
              "      <td>2</td>\n",
              "      <td>1</td>\n",
              "    </tr>\n",
              "    <tr>\n",
              "      <th>4</th>\n",
              "      <td>1</td>\n",
              "      <td>1</td>\n",
              "      <td>1</td>\n",
              "      <td>1</td>\n",
              "      <td>2</td>\n",
              "      <td>2</td>\n",
              "    </tr>\n",
              "  </tbody>\n",
              "</table>\n",
              "</div>"
            ],
            "text/plain": [
              "   price  maint  doors  persons  lug_boot  safety\n",
              "0      1      1      1        1         1       1\n",
              "1      1      1      1        1         1       2\n",
              "2      1      1      1        1         1       3\n",
              "3      1      1      1        1         2       1\n",
              "4      1      1      1        1         2       2"
            ]
          },
          "metadata": {
            "tags": []
          },
          "execution_count": 4
        }
      ]
    },
    {
      "cell_type": "markdown",
      "metadata": {
        "id": "Na0vqWzjnhMt"
      },
      "source": [
        "**EDA**"
      ]
    },
    {
      "cell_type": "code",
      "metadata": {
        "colab": {
          "base_uri": "https://localhost:8080/"
        },
        "id": "vZz7iDb1yyPo",
        "outputId": "c5e426fc-760c-483f-9951-b470d44917ef"
      },
      "source": [
        "df.shape"
      ],
      "execution_count": 5,
      "outputs": [
        {
          "output_type": "execute_result",
          "data": {
            "text/plain": [
              "(1728, 6)"
            ]
          },
          "metadata": {
            "tags": []
          },
          "execution_count": 5
        }
      ]
    },
    {
      "cell_type": "code",
      "metadata": {
        "colab": {
          "base_uri": "https://localhost:8080/",
          "height": 168
        },
        "id": "Xoq_CaTOns31",
        "outputId": "10f0289d-bcb6-419f-8069-007e751171fe"
      },
      "source": [
        "df.describe()"
      ],
      "execution_count": 6,
      "outputs": [
        {
          "output_type": "execute_result",
          "data": {
            "text/html": [
              "<div>\n",
              "<style scoped>\n",
              "    .dataframe tbody tr th:only-of-type {\n",
              "        vertical-align: middle;\n",
              "    }\n",
              "\n",
              "    .dataframe tbody tr th {\n",
              "        vertical-align: top;\n",
              "    }\n",
              "\n",
              "    .dataframe thead th {\n",
              "        text-align: right;\n",
              "    }\n",
              "</style>\n",
              "<table border=\"1\" class=\"dataframe\">\n",
              "  <thead>\n",
              "    <tr style=\"text-align: right;\">\n",
              "      <th></th>\n",
              "      <th>price</th>\n",
              "      <th>maint</th>\n",
              "      <th>doors</th>\n",
              "      <th>persons</th>\n",
              "      <th>lug_boot</th>\n",
              "      <th>safety</th>\n",
              "    </tr>\n",
              "  </thead>\n",
              "  <tbody>\n",
              "    <tr>\n",
              "      <th>count</th>\n",
              "      <td>1728</td>\n",
              "      <td>1728</td>\n",
              "      <td>1728</td>\n",
              "      <td>1728</td>\n",
              "      <td>1728</td>\n",
              "      <td>1728</td>\n",
              "    </tr>\n",
              "    <tr>\n",
              "      <th>unique</th>\n",
              "      <td>4</td>\n",
              "      <td>4</td>\n",
              "      <td>4</td>\n",
              "      <td>3</td>\n",
              "      <td>3</td>\n",
              "      <td>3</td>\n",
              "    </tr>\n",
              "    <tr>\n",
              "      <th>top</th>\n",
              "      <td>vhigh</td>\n",
              "      <td>vhigh</td>\n",
              "      <td>2</td>\n",
              "      <td>2</td>\n",
              "      <td>big</td>\n",
              "      <td>low</td>\n",
              "    </tr>\n",
              "    <tr>\n",
              "      <th>freq</th>\n",
              "      <td>432</td>\n",
              "      <td>432</td>\n",
              "      <td>432</td>\n",
              "      <td>576</td>\n",
              "      <td>576</td>\n",
              "      <td>576</td>\n",
              "    </tr>\n",
              "  </tbody>\n",
              "</table>\n",
              "</div>"
            ],
            "text/plain": [
              "        price  maint doors persons lug_boot safety\n",
              "count    1728   1728  1728    1728     1728   1728\n",
              "unique      4      4     4       3        3      3\n",
              "top     vhigh  vhigh     2       2      big    low\n",
              "freq      432    432   432     576      576    576"
            ]
          },
          "metadata": {
            "tags": []
          },
          "execution_count": 6
        }
      ]
    },
    {
      "cell_type": "code",
      "metadata": {
        "colab": {
          "base_uri": "https://localhost:8080/"
        },
        "id": "CGVXGLPfn0H4",
        "outputId": "d4590c9a-bb46-4d37-c3dd-3985297e6291"
      },
      "source": [
        "df.keys()"
      ],
      "execution_count": 7,
      "outputs": [
        {
          "output_type": "execute_result",
          "data": {
            "text/plain": [
              "Index(['price', 'maint', 'doors', 'persons', 'lug_boot', 'safety'], dtype='object')"
            ]
          },
          "metadata": {
            "tags": []
          },
          "execution_count": 7
        }
      ]
    },
    {
      "cell_type": "code",
      "metadata": {
        "id": "m8EQ9Ba2n71_"
      },
      "source": [
        "count_safety = df.safety.value_counts()"
      ],
      "execution_count": 8,
      "outputs": []
    },
    {
      "cell_type": "markdown",
      "metadata": {
        "id": "bOvPAy0UcL4z"
      },
      "source": [
        "Pie Chart of Safety"
      ]
    },
    {
      "cell_type": "code",
      "metadata": {
        "colab": {
          "base_uri": "https://localhost:8080/",
          "height": 427
        },
        "id": "wy0EMa05orBm",
        "outputId": "5881e596-4ca4-444e-e0c6-3e14c65285cc"
      },
      "source": [
        "# deterimne figure size\r\n",
        "plt.figure(figsize=[7,7])\r\n",
        "names = ['Low', 'Med', 'High']\r\n",
        "plt.pie(count_safety,\r\n",
        "        autopct='%1.1f%%', colors=cs)\r\n",
        "# title\r\n",
        "plt.title(\"The Percentage of Safety\")\r\n",
        "plt.legend(names);"
      ],
      "execution_count": 9,
      "outputs": [
        {
          "output_type": "display_data",
          "data": {
            "image/png": "[encoded data removed]",
            "text/plain": [
              "<Figure size 504x504 with 1 Axes>"
            ]
          },
          "metadata": {
            "tags": []
          }
        }
      ]
    },
    {
      "cell_type": "code",
      "metadata": {
        "id": "H052nbHjccbt"
      },
      "source": [
        "num_persons = df.persons.value_counts()"
      ],
      "execution_count": 11,
      "outputs": []
    },
    {
      "cell_type": "code",
      "metadata": {
        "id": "l_7cq3NRdCsy",
        "outputId": "64ccf2c5-17eb-4dbc-a12c-17878ad66447",
        "colab": {
          "base_uri": "https://localhost:8080/"
        }
      },
      "source": [
        "num_persons"
      ],
      "execution_count": 12,
      "outputs": [
        {
          "output_type": "execute_result",
          "data": {
            "text/plain": [
              "2       576\n",
              "4       576\n",
              "more    576\n",
              "Name: persons, dtype: int64"
            ]
          },
          "metadata": {
            "tags": []
          },
          "execution_count": 12
        }
      ]
    },
    {
      "cell_type": "code",
      "metadata": {
        "id": "3cKklMXFc8xw"
      },
      "source": [
        "names = ['2', '4', 'More']"
      ],
      "execution_count": 13,
      "outputs": []
    },
    {
      "cell_type": "markdown",
      "metadata": {
        "id": "EP9OsYKBgWbt"
      },
      "source": [
        "Chart Numbers of persons"
      ]
    },
    {
      "cell_type": "code",
      "metadata": {
        "id": "oJ-5x-n8f8QN",
        "outputId": "ee678acc-d1f3-408c-9509-8a3b1d30f857",
        "colab": {
          "base_uri": "https://localhost:8080/",
          "height": 338
        }
      },
      "source": [
        "fig = plt.figure()\r\n",
        "ax = fig.add_axes([0,0,1,1])\r\n",
        "ax.bar(names,num_persons, color=cs)\r\n",
        "plt.show()"
      ],
      "execution_count": 14,
      "outputs": [
        {
          "output_type": "display_data",
          "data": {
            "image/png": "[encoded data removed]",
            "text/plain": [
              "<Figure size 432x288 with 1 Axes>"
            ]
          },
          "metadata": {
            "tags": [],
            "needs_background": "light"
          }
        }
      ]
    },
    {
      "cell_type": "markdown",
      "metadata": {
        "id": "ZVJJkQ2fqGGw"
      },
      "source": [
        "Data prep / wrangling"
      ]
    },
    {
      "cell_type": "code",
      "metadata": {
        "colab": {
          "base_uri": "https://localhost:8080/"
        },
        "id": "_VrrSbJxqdYM",
        "outputId": "9ed13e29-dae5-4b96-ce9b-210cff05e3f7"
      },
      "source": [
        "df_encode.isnull().sum()"
      ],
      "execution_count": 15,
      "outputs": [
        {
          "output_type": "execute_result",
          "data": {
            "text/plain": [
              "price       0\n",
              "maint       0\n",
              "doors       0\n",
              "persons     0\n",
              "lug_boot    0\n",
              "safety      0\n",
              "dtype: int64"
            ]
          },
          "metadata": {
            "tags": []
          },
          "execution_count": 15
        }
      ]
    },
    {
      "cell_type": "markdown",
      "metadata": {
        "id": "rwe2ywjEcS80"
      },
      "source": [
        "Correlation"
      ]
    },
    {
      "cell_type": "code",
      "metadata": {
        "colab": {
          "base_uri": "https://localhost:8080/",
          "height": 165
        },
        "id": "3c9rL_1hyt5p",
        "outputId": "6aec26ac-42ef-4f6d-8fad-742e24f60321"
      },
      "source": [
        "# correlation\r\n",
        "corr = df_encode.corr()\r\n",
        "corr.style.background_gradient(cmap='PuBuGn')"
      ],
      "execution_count": 10,
      "outputs": [
        {
          "output_type": "execute_result",
          "data": {
            "text/html": [
              "<style  type=\"text/css\" >\n",
              "#T_5883cc32_6997_11eb_8f0c_0242ac1c0002row0_col0,#T_5883cc32_6997_11eb_8f0c_0242ac1c0002row1_col1,#T_5883cc32_6997_11eb_8f0c_0242ac1c0002row2_col2,#T_5883cc32_6997_11eb_8f0c_0242ac1c0002row3_col3,#T_5883cc32_6997_11eb_8f0c_0242ac1c0002row4_col4,#T_5883cc32_6997_11eb_8f0c_0242ac1c0002row5_col5{\n",
              "            background-color:  #014636;\n",
              "            color:  #f1f1f1;\n",
              "        }#T_5883cc32_6997_11eb_8f0c_0242ac1c0002row0_col1,#T_5883cc32_6997_11eb_8f0c_0242ac1c0002row0_col2,#T_5883cc32_6997_11eb_8f0c_0242ac1c0002row0_col3,#T_5883cc32_6997_11eb_8f0c_0242ac1c0002row0_col4,#T_5883cc32_6997_11eb_8f0c_0242ac1c0002row0_col5,#T_5883cc32_6997_11eb_8f0c_0242ac1c0002row1_col0,#T_5883cc32_6997_11eb_8f0c_0242ac1c0002row1_col2,#T_5883cc32_6997_11eb_8f0c_0242ac1c0002row1_col3,#T_5883cc32_6997_11eb_8f0c_0242ac1c0002row1_col4,#T_5883cc32_6997_11eb_8f0c_0242ac1c0002row1_col5,#T_5883cc32_6997_11eb_8f0c_0242ac1c0002row2_col0,#T_5883cc32_6997_11eb_8f0c_0242ac1c0002row2_col1,#T_5883cc32_6997_11eb_8f0c_0242ac1c0002row2_col3,#T_5883cc32_6997_11eb_8f0c_0242ac1c0002row2_col4,#T_5883cc32_6997_11eb_8f0c_0242ac1c0002row2_col5,#T_5883cc32_6997_11eb_8f0c_0242ac1c0002row3_col0,#T_5883cc32_6997_11eb_8f0c_0242ac1c0002row3_col1,#T_5883cc32_6997_11eb_8f0c_0242ac1c0002row3_col2,#T_5883cc32_6997_11eb_8f0c_0242ac1c0002row3_col4,#T_5883cc32_6997_11eb_8f0c_0242ac1c0002row3_col5,#T_5883cc32_6997_11eb_8f0c_0242ac1c0002row4_col0,#T_5883cc32_6997_11eb_8f0c_0242ac1c0002row4_col1,#T_5883cc32_6997_11eb_8f0c_0242ac1c0002row4_col2,#T_5883cc32_6997_11eb_8f0c_0242ac1c0002row4_col3,#T_5883cc32_6997_11eb_8f0c_0242ac1c0002row4_col5,#T_5883cc32_6997_11eb_8f0c_0242ac1c0002row5_col0,#T_5883cc32_6997_11eb_8f0c_0242ac1c0002row5_col1,#T_5883cc32_6997_11eb_8f0c_0242ac1c0002row5_col2,#T_5883cc32_6997_11eb_8f0c_0242ac1c0002row5_col3,#T_5883cc32_6997_11eb_8f0c_0242ac1c0002row5_col4{\n",
              "            background-color:  #fff7fb;\n",
              "            color:  #000000;\n",
              "        }</style><table id=\"T_5883cc32_6997_11eb_8f0c_0242ac1c0002\" ><thead>    <tr>        <th class=\"blank level0\" ></th>        <th class=\"col_heading level0 col0\" >price</th>        <th class=\"col_heading level0 col1\" >maint</th>        <th class=\"col_heading level0 col2\" >doors</th>        <th class=\"col_heading level0 col3\" >persons</th>        <th class=\"col_heading level0 col4\" >lug_boot</th>        <th class=\"col_heading level0 col5\" >safety</th>    </tr></thead><tbody>\n",
              "                <tr>\n",
              "                        <th id=\"T_5883cc32_6997_11eb_8f0c_0242ac1c0002level0_row0\" class=\"row_heading level0 row0\" >price</th>\n",
              "                        <td id=\"T_5883cc32_6997_11eb_8f0c_0242ac1c0002row0_col0\" class=\"data row0 col0\" >1.000000</td>\n",
              "                        <td id=\"T_5883cc32_6997_11eb_8f0c_0242ac1c0002row0_col1\" class=\"data row0 col1\" >0.000000</td>\n",
              "                        <td id=\"T_5883cc32_6997_11eb_8f0c_0242ac1c0002row0_col2\" class=\"data row0 col2\" >0.000000</td>\n",
              "                        <td id=\"T_5883cc32_6997_11eb_8f0c_0242ac1c0002row0_col3\" class=\"data row0 col3\" >0.000000</td>\n",
              "                        <td id=\"T_5883cc32_6997_11eb_8f0c_0242ac1c0002row0_col4\" class=\"data row0 col4\" >0.000000</td>\n",
              "                        <td id=\"T_5883cc32_6997_11eb_8f0c_0242ac1c0002row0_col5\" class=\"data row0 col5\" >0.000000</td>\n",
              "            </tr>\n",
              "            <tr>\n",
              "                        <th id=\"T_5883cc32_6997_11eb_8f0c_0242ac1c0002level0_row1\" class=\"row_heading level0 row1\" >maint</th>\n",
              "                        <td id=\"T_5883cc32_6997_11eb_8f0c_0242ac1c0002row1_col0\" class=\"data row1 col0\" >0.000000</td>\n",
              "                        <td id=\"T_5883cc32_6997_11eb_8f0c_0242ac1c0002row1_col1\" class=\"data row1 col1\" >1.000000</td>\n",
              "                        <td id=\"T_5883cc32_6997_11eb_8f0c_0242ac1c0002row1_col2\" class=\"data row1 col2\" >0.000000</td>\n",
              "                        <td id=\"T_5883cc32_6997_11eb_8f0c_0242ac1c0002row1_col3\" class=\"data row1 col3\" >0.000000</td>\n",
              "                        <td id=\"T_5883cc32_6997_11eb_8f0c_0242ac1c0002row1_col4\" class=\"data row1 col4\" >0.000000</td>\n",
              "                        <td id=\"T_5883cc32_6997_11eb_8f0c_0242ac1c0002row1_col5\" class=\"data row1 col5\" >0.000000</td>\n",
              "            </tr>\n",
              "            <tr>\n",
              "                        <th id=\"T_5883cc32_6997_11eb_8f0c_0242ac1c0002level0_row2\" class=\"row_heading level0 row2\" >doors</th>\n",
              "                        <td id=\"T_5883cc32_6997_11eb_8f0c_0242ac1c0002row2_col0\" class=\"data row2 col0\" >0.000000</td>\n",
              "                        <td id=\"T_5883cc32_6997_11eb_8f0c_0242ac1c0002row2_col1\" class=\"data row2 col1\" >0.000000</td>\n",
              "                        <td id=\"T_5883cc32_6997_11eb_8f0c_0242ac1c0002row2_col2\" class=\"data row2 col2\" >1.000000</td>\n",
              "                        <td id=\"T_5883cc32_6997_11eb_8f0c_0242ac1c0002row2_col3\" class=\"data row2 col3\" >0.000000</td>\n",
              "                        <td id=\"T_5883cc32_6997_11eb_8f0c_0242ac1c0002row2_col4\" class=\"data row2 col4\" >0.000000</td>\n",
              "                        <td id=\"T_5883cc32_6997_11eb_8f0c_0242ac1c0002row2_col5\" class=\"data row2 col5\" >0.000000</td>\n",
              "            </tr>\n",
              "            <tr>\n",
              "                        <th id=\"T_5883cc32_6997_11eb_8f0c_0242ac1c0002level0_row3\" class=\"row_heading level0 row3\" >persons</th>\n",
              "                        <td id=\"T_5883cc32_6997_11eb_8f0c_0242ac1c0002row3_col0\" class=\"data row3 col0\" >0.000000</td>\n",
              "                        <td id=\"T_5883cc32_6997_11eb_8f0c_0242ac1c0002row3_col1\" class=\"data row3 col1\" >0.000000</td>\n",
              "                        <td id=\"T_5883cc32_6997_11eb_8f0c_0242ac1c0002row3_col2\" class=\"data row3 col2\" >0.000000</td>\n",
              "                        <td id=\"T_5883cc32_6997_11eb_8f0c_0242ac1c0002row3_col3\" class=\"data row3 col3\" >1.000000</td>\n",
              "                        <td id=\"T_5883cc32_6997_11eb_8f0c_0242ac1c0002row3_col4\" class=\"data row3 col4\" >0.000000</td>\n",
              "                        <td id=\"T_5883cc32_6997_11eb_8f0c_0242ac1c0002row3_col5\" class=\"data row3 col5\" >0.000000</td>\n",
              "            </tr>\n",
              "            <tr>\n",
              "                        <th id=\"T_5883cc32_6997_11eb_8f0c_0242ac1c0002level0_row4\" class=\"row_heading level0 row4\" >lug_boot</th>\n",
              "                        <td id=\"T_5883cc32_6997_11eb_8f0c_0242ac1c0002row4_col0\" class=\"data row4 col0\" >0.000000</td>\n",
              "                        <td id=\"T_5883cc32_6997_11eb_8f0c_0242ac1c0002row4_col1\" class=\"data row4 col1\" >0.000000</td>\n",
              "                        <td id=\"T_5883cc32_6997_11eb_8f0c_0242ac1c0002row4_col2\" class=\"data row4 col2\" >0.000000</td>\n",
              "                        <td id=\"T_5883cc32_6997_11eb_8f0c_0242ac1c0002row4_col3\" class=\"data row4 col3\" >0.000000</td>\n",
              "                        <td id=\"T_5883cc32_6997_11eb_8f0c_0242ac1c0002row4_col4\" class=\"data row4 col4\" >1.000000</td>\n",
              "                        <td id=\"T_5883cc32_6997_11eb_8f0c_0242ac1c0002row4_col5\" class=\"data row4 col5\" >0.000000</td>\n",
              "            </tr>\n",
              "            <tr>\n",
              "                        <th id=\"T_5883cc32_6997_11eb_8f0c_0242ac1c0002level0_row5\" class=\"row_heading level0 row5\" >safety</th>\n",
              "                        <td id=\"T_5883cc32_6997_11eb_8f0c_0242ac1c0002row5_col0\" class=\"data row5 col0\" >0.000000</td>\n",
              "                        <td id=\"T_5883cc32_6997_11eb_8f0c_0242ac1c0002row5_col1\" class=\"data row5 col1\" >0.000000</td>\n",
              "                        <td id=\"T_5883cc32_6997_11eb_8f0c_0242ac1c0002row5_col2\" class=\"data row5 col2\" >0.000000</td>\n",
              "                        <td id=\"T_5883cc32_6997_11eb_8f0c_0242ac1c0002row5_col3\" class=\"data row5 col3\" >0.000000</td>\n",
              "                        <td id=\"T_5883cc32_6997_11eb_8f0c_0242ac1c0002row5_col4\" class=\"data row5 col4\" >0.000000</td>\n",
              "                        <td id=\"T_5883cc32_6997_11eb_8f0c_0242ac1c0002row5_col5\" class=\"data row5 col5\" >1.000000</td>\n",
              "            </tr>\n",
              "    </tbody></table>"
            ],
            "text/plain": [
              "<pandas.io.formats.style.Styler at 0x7fe9c5508ac8>"
            ]
          },
          "metadata": {
            "tags": []
          },
          "execution_count": 10
        }
      ]
    },
    {
      "cell_type": "code",
      "metadata": {
        "id": "fWu-WkYJp92l"
      },
      "source": [
        "# split dataset\r\n",
        "from sklearn.model_selection import train_test_split\r\n",
        "\r\n",
        "#X = df_encode.drop('safety', axis=1)\r\n",
        "X = df_encode[['price']]\r\n",
        "y = df_encode['safety']\r\n",
        "\r\n",
        "X_train, X_test, y_train, y_test = train_test_split(X, y, train_size=0.7)"
      ],
      "execution_count": 16,
      "outputs": []
    },
    {
      "cell_type": "markdown",
      "metadata": {
        "id": "tms7QOQw-fC8"
      },
      "source": [
        "Check Accuracy before use model"
      ]
    },
    {
      "cell_type": "code",
      "metadata": {
        "colab": {
          "base_uri": "https://localhost:8080/"
        },
        "id": "pH55O8lc8rnz",
        "outputId": "a030cbe3-54a7-40b0-ce15-c9ba96c1ce73"
      },
      "source": [
        "# create empty array\r\n",
        "models = []\r\n",
        "# add models in array\r\n",
        "models.append(('Decision Tree', DecisionTreeClassifier()))\r\n",
        "# create 2 empty array to append results and names for models\r\n",
        "results = []\r\n",
        "names = []\r\n",
        "# determine type scoring\r\n",
        "scoring = 'accuracy'\r\n",
        "# loop to \r\n",
        "for name, model in models:\r\n",
        "  kfold = model_selection.KFold(n_splits=10, random_state=None)\r\n",
        "  cv_results = model_selection.cross_val_score(model, pd.DataFrame(X_train), y_train, cv=kfold, scoring=scoring)\r\n",
        "  results.append(cv_results)\r\n",
        "  names.append(name)\r\n",
        "  msg = \"%s: %f (%f)\" % (name, cv_results.mean(), cv_results.std())\r\n",
        "  print(msg)"
      ],
      "execution_count": 17,
      "outputs": [
        {
          "output_type": "stream",
          "text": [
            "Decision Tree: 0.337486 (0.039401)\n"
          ],
          "name": "stdout"
        }
      ]
    },
    {
      "cell_type": "code",
      "metadata": {
        "colab": {
          "base_uri": "https://localhost:8080/",
          "height": 233
        },
        "id": "Ld8wxoMD8y1p",
        "outputId": "aed7b053-107f-43a4-c522-974e599c15d1"
      },
      "source": [
        "# determine figure size\r\n",
        "fig = plt.figure(figsize=(6,3))\r\n",
        "# title\r\n",
        "fig.suptitle('Decision Tree Accuracy')\r\n",
        "ax = fig.add_subplot(111)\r\n",
        "# create boxplot\r\n",
        "plt.boxplot(results)\r\n",
        "ax.set_xticklabels(names)\r\n",
        "# show plot\r\n",
        "plt.show()"
      ],
      "execution_count": 18,
      "outputs": [
        {
          "output_type": "display_data",
          "data": {
            "image/png": "[encoded data removed]",
            "text/plain": [
              "<Figure size 432x216 with 1 Axes>"
            ]
          },
          "metadata": {
            "tags": [],
            "needs_background": "light"
          }
        }
      ]
    },
    {
      "cell_type": "code",
      "metadata": {
        "id": "wr-vd0rw1Bih"
      },
      "source": [
        "# import standard scaler\r\n",
        "from sklearn.preprocessing import StandardScaler\r\n",
        "# import standard scaler\r\n",
        "from sklearn.model_selection import RandomizedSearchCV"
      ],
      "execution_count": 19,
      "outputs": []
    },
    {
      "cell_type": "code",
      "metadata": {
        "id": "1WqOhr9w1Jdp"
      },
      "source": [
        "#Standardize features by removing the mean and scaling to unit variance\r\n",
        "sc = StandardScaler()"
      ],
      "execution_count": 20,
      "outputs": []
    },
    {
      "cell_type": "code",
      "metadata": {
        "id": "wpU6N5i_1TLV"
      },
      "source": [
        "#Compute the mean and std to be used for later scaling\r\n",
        "X_train = sc.fit_transform(pd.DataFrame(X_train))\r\n",
        "#Fit to data, then transform it.\r\n",
        "X_test = sc.transform(pd.DataFrame(X_test))"
      ],
      "execution_count": 21,
      "outputs": []
    },
    {
      "cell_type": "markdown",
      "metadata": {
        "id": "FmXvhDBirx9a"
      },
      "source": [
        "Model Decision Tree"
      ]
    },
    {
      "cell_type": "code",
      "metadata": {
        "colab": {
          "base_uri": "https://localhost:8080/"
        },
        "id": "nPZNR0olq7q3",
        "outputId": "b6dc1e29-866a-4305-c592-8136b04105b7"
      },
      "source": [
        "from sklearn.tree import DecisionTreeClassifier\r\n",
        "\r\n",
        "dtc = DecisionTreeClassifier()\r\n",
        "\r\n",
        "dtc.fit(pd.DataFrame(X_train), y_train)"
      ],
      "execution_count": 22,
      "outputs": [
        {
          "output_type": "execute_result",
          "data": {
            "text/plain": [
              "DecisionTreeClassifier(ccp_alpha=0.0, class_weight=None, criterion='gini',\n",
              "                       max_depth=None, max_features=None, max_leaf_nodes=None,\n",
              "                       min_impurity_decrease=0.0, min_impurity_split=None,\n",
              "                       min_samples_leaf=1, min_samples_split=2,\n",
              "                       min_weight_fraction_leaf=0.0, presort='deprecated',\n",
              "                       random_state=None, splitter='best')"
            ]
          },
          "metadata": {
            "tags": []
          },
          "execution_count": 22
        }
      ]
    },
    {
      "cell_type": "code",
      "metadata": {
        "colab": {
          "base_uri": "https://localhost:8080/"
        },
        "id": "YPMgQkDqrLa4",
        "outputId": "cbfe8d88-05fd-4a3a-86a3-844a0cd586ff"
      },
      "source": [
        "dtc.predict(pd.DataFrame(X_test))"
      ],
      "execution_count": 23,
      "outputs": [
        {
          "output_type": "execute_result",
          "data": {
            "text/plain": [
              "array([3, 1, 1, 3, 1, 1, 3, 1, 3, 1, 1, 1, 3, 1, 3, 3, 3, 3, 3, 3, 3, 1,\n",
              "       3, 3, 3, 3, 3, 3, 3, 3, 3, 1, 1, 3, 3, 3, 1, 1, 1, 3, 3, 3, 3, 3,\n",
              "       3, 1, 3, 1, 3, 1, 1, 1, 1, 3, 3, 3, 3, 1, 3, 1, 3, 3, 3, 3, 3, 3,\n",
              "       3, 3, 3, 1, 3, 1, 1, 3, 3, 3, 3, 3, 3, 3, 3, 3, 3, 3, 3, 1, 3, 3,\n",
              "       3, 1, 3, 1, 3, 1, 1, 3, 1, 3, 1, 3, 3, 3, 3, 3, 3, 3, 3, 3, 3, 1,\n",
              "       1, 1, 3, 3, 3, 3, 3, 1, 3, 1, 1, 3, 3, 3, 3, 3, 1, 1, 3, 3, 3, 1,\n",
              "       1, 1, 3, 3, 3, 3, 1, 3, 1, 1, 3, 3, 1, 3, 3, 3, 3, 3, 1, 1, 1, 3,\n",
              "       3, 3, 1, 1, 3, 3, 3, 1, 3, 3, 3, 3, 3, 3, 3, 1, 3, 3, 3, 3, 1, 3,\n",
              "       3, 3, 1, 3, 1, 3, 1, 3, 3, 3, 3, 3, 3, 3, 3, 3, 3, 3, 3, 1, 3, 3,\n",
              "       3, 3, 3, 3, 3, 3, 1, 1, 3, 3, 3, 3, 3, 3, 3, 3, 3, 3, 1, 3, 3, 3,\n",
              "       1, 3, 1, 3, 3, 3, 3, 3, 3, 1, 3, 3, 3, 3, 3, 1, 3, 3, 1, 1, 1, 1,\n",
              "       3, 3, 3, 3, 3, 3, 1, 3, 3, 3, 3, 1, 1, 3, 3, 3, 3, 3, 3, 3, 3, 3,\n",
              "       3, 1, 3, 3, 1, 3, 3, 3, 3, 3, 3, 3, 3, 1, 3, 3, 3, 1, 3, 3, 3, 3,\n",
              "       3, 3, 3, 3, 3, 3, 3, 3, 1, 1, 3, 3, 3, 3, 3, 3, 3, 3, 3, 3, 3, 3,\n",
              "       3, 3, 3, 3, 3, 3, 3, 3, 3, 3, 3, 3, 1, 1, 3, 3, 3, 3, 3, 3, 1, 3,\n",
              "       1, 3, 3, 3, 3, 3, 3, 3, 1, 1, 1, 3, 3, 3, 3, 3, 1, 3, 3, 3, 3, 3,\n",
              "       1, 3, 1, 1, 3, 1, 1, 3, 3, 1, 1, 3, 3, 3, 3, 3, 3, 3, 3, 3, 3, 3,\n",
              "       1, 1, 3, 1, 3, 3, 3, 3, 3, 1, 3, 3, 3, 3, 3, 3, 3, 3, 3, 3, 1, 3,\n",
              "       3, 3, 3, 3, 3, 3, 3, 3, 3, 3, 1, 3, 3, 3, 3, 1, 3, 3, 3, 3, 3, 3,\n",
              "       3, 3, 3, 3, 3, 3, 1, 3, 3, 3, 3, 1, 3, 1, 1, 3, 3, 3, 3, 3, 3, 3,\n",
              "       3, 1, 1, 3, 3, 1, 3, 1, 3, 3, 1, 3, 3, 3, 1, 3, 3, 3, 3, 3, 3, 1,\n",
              "       3, 3, 1, 3, 3, 1, 1, 3, 1, 1, 3, 3, 1, 1, 3, 3, 1, 1, 3, 3, 3, 1,\n",
              "       3, 3, 3, 3, 3, 3, 3, 3, 3, 3, 3, 3, 3, 3, 3, 3, 3, 3, 3, 3, 3, 3,\n",
              "       3, 3, 1, 3, 1, 3, 3, 3, 3, 3, 3, 1, 3])"
            ]
          },
          "metadata": {
            "tags": []
          },
          "execution_count": 23
        }
      ]
    },
    {
      "cell_type": "code",
      "metadata": {
        "colab": {
          "base_uri": "https://localhost:8080/"
        },
        "id": "8UwFKiYSsrIt",
        "outputId": "e48c6892-aed3-4726-81d3-67fa9dbbd0d4"
      },
      "source": [
        "dtc.feature_importances_"
      ],
      "execution_count": 24,
      "outputs": [
        {
          "output_type": "execute_result",
          "data": {
            "text/plain": [
              "array([1.])"
            ]
          },
          "metadata": {
            "tags": []
          },
          "execution_count": 24
        }
      ]
    },
    {
      "cell_type": "markdown",
      "metadata": {
        "id": "4_yazNMcsPCk"
      },
      "source": [
        "Score Decision Tree Classifier"
      ]
    },
    {
      "cell_type": "code",
      "metadata": {
        "colab": {
          "base_uri": "https://localhost:8080/"
        },
        "id": "xqJiPdtOrOlP",
        "outputId": "c6ac314a-fa36-435b-98f6-30452125809b"
      },
      "source": [
        "from sklearn.metrics import accuracy_score\r\n",
        "\r\n",
        "preds = dtc.predict(pd.DataFrame(X_test))\r\n",
        "\r\n",
        "print(\"Accuracy: {:.2f}%\".format(accuracy_score(y_test, preds)*100))"
      ],
      "execution_count": 25,
      "outputs": [
        {
          "output_type": "stream",
          "text": [
            "Accuracy: 27.36%\n"
          ],
          "name": "stdout"
        }
      ]
    },
    {
      "cell_type": "code",
      "metadata": {
        "colab": {
          "base_uri": "https://localhost:8080/",
          "height": 406
        },
        "id": "Hwx9025rrgtJ",
        "outputId": "b85237f9-df95-4f2c-ef23-9c0ac633ae19"
      },
      "source": [
        "# confusion matrix by sklearn\r\n",
        "from sklearn.metrics import plot_confusion_matrix\r\n",
        "fig, ax = plt.subplots(figsize=(13, 6))\r\n",
        "plt.title('Confusion Matrix', fontsize=16)\r\n",
        "plot_confusion_matrix(dtc, X=pd.DataFrame(X_test), y_true=y_test, cmap='PuBuGn', ax=ax, normalize='true', values_format='.0%');"
      ],
      "execution_count": 26,
      "outputs": [
        {
          "output_type": "display_data",
          "data": {
            "image/png": "[encoded data removed]",
            "text/plain": [
              "<Figure size 936x432 with 2 Axes>"
            ]
          },
          "metadata": {
            "tags": [],
            "needs_background": "light"
          }
        }
      ]
    },
    {
      "cell_type": "markdown",
      "metadata": {
        "id": "9gSVXTKBVMNK"
      },
      "source": [
        "Decision Tree Plot"
      ]
    },
    {
      "cell_type": "code",
      "metadata": {
        "id": "UU1inNL2Ptt4",
        "colab": {
          "base_uri": "https://localhost:8080/",
          "height": 373
        },
        "outputId": "1498e41e-effb-46a7-ab8e-f1569bb88bca"
      },
      "source": [
        "plt.figure(figsize=(8,6))\r\n",
        "tree.plot_tree(dtc, feature_names=df.price, class_names=df.safety, filled=True);\r\n",
        "plt.title('Decision Tree');"
      ],
      "execution_count": 27,
      "outputs": [
        {
          "output_type": "display_data",
          "data": {
            "image/png": "[encoded data removed]",
            "text/plain": [
              "<Figure size 576x432 with 1 Axes>"
            ]
          },
          "metadata": {
            "tags": [],
            "needs_background": "light"
          }
        }
      ]
    },
    {
      "cell_type": "markdown",
      "metadata": {
        "id": "a-6d_Pw6zMsw"
      },
      "source": [
        "GridSearchCV"
      ]
    },
    {
      "cell_type": "code",
      "metadata": {
        "id": "Yjq4o6w7zIBA"
      },
      "source": [
        "from sklearn.model_selection import GridSearchCV\r\n",
        "param_grid ={'criterion': ['gini'],\r\n",
        " 'max_depth': [1],\r\n",
        " 'min_samples_leaf': [1],\r\n",
        " 'min_samples_split': [2]}\r\n",
        "\r\n",
        "#Make GridSearchCV\r\n",
        "grid_search =GridSearchCV(dtc, param_grid, cv=10)"
      ],
      "execution_count": 28,
      "outputs": []
    },
    {
      "cell_type": "code",
      "metadata": {
        "colab": {
          "base_uri": "https://localhost:8080/"
        },
        "id": "ShwNxUkjzglT",
        "outputId": "c7eb91cf-8d1a-498a-e4c4-00808e0a4480"
      },
      "source": [
        "#fit X_train and y_train into grid_search\r\n",
        "grid_search= grid_search.fit(X_train, y_train)\r\n",
        "grid_search"
      ],
      "execution_count": 29,
      "outputs": [
        {
          "output_type": "execute_result",
          "data": {
            "text/plain": [
              "GridSearchCV(cv=10, error_score=nan,\n",
              "             estimator=DecisionTreeClassifier(ccp_alpha=0.0, class_weight=None,\n",
              "                                              criterion='gini', max_depth=None,\n",
              "                                              max_features=None,\n",
              "                                              max_leaf_nodes=None,\n",
              "                                              min_impurity_decrease=0.0,\n",
              "                                              min_impurity_split=None,\n",
              "                                              min_samples_leaf=1,\n",
              "                                              min_samples_split=2,\n",
              "                                              min_weight_fraction_leaf=0.0,\n",
              "                                              presort='deprecated',\n",
              "                                              random_state=None,\n",
              "                                              splitter='best'),\n",
              "             iid='deprecated', n_jobs=None,\n",
              "             param_grid={'criterion': ['gini'], 'max_depth': [1],\n",
              "                         'min_samples_leaf': [1], 'min_samples_split': [2]},\n",
              "             pre_dispatch='2*n_jobs', refit=True, return_train_score=False,\n",
              "             scoring=None, verbose=0)"
            ]
          },
          "metadata": {
            "tags": []
          },
          "execution_count": 29
        }
      ]
    },
    {
      "cell_type": "code",
      "metadata": {
        "colab": {
          "base_uri": "https://localhost:8080/"
        },
        "id": "vvSf9UhlzsCQ",
        "outputId": "ddfcf25e-ee81-490a-d816-824131e97835"
      },
      "source": [
        "#best parameters of LogisticRegression after using GridSearchCV\r\n",
        "grid_search.best_params_"
      ],
      "execution_count": 30,
      "outputs": [
        {
          "output_type": "execute_result",
          "data": {
            "text/plain": [
              "{'criterion': 'gini',\n",
              " 'max_depth': 1,\n",
              " 'min_samples_leaf': 1,\n",
              " 'min_samples_split': 2}"
            ]
          },
          "metadata": {
            "tags": []
          },
          "execution_count": 30
        }
      ]
    },
    {
      "cell_type": "code",
      "metadata": {
        "colab": {
          "base_uri": "https://localhost:8080/"
        },
        "id": "ZAsQEVWQ0Gdm",
        "outputId": "d9d8904a-1536-43ee-c982-70d1044bcc15"
      },
      "source": [
        "grid_search.best_score_"
      ],
      "execution_count": 31,
      "outputs": [
        {
          "output_type": "execute_result",
          "data": {
            "text/plain": [
              "0.32671487603305793"
            ]
          },
          "metadata": {
            "tags": []
          },
          "execution_count": 31
        }
      ]
    },
    {
      "cell_type": "markdown",
      "metadata": {
        "id": "5ropMiKj3USh"
      },
      "source": [
        "RandomizedSearchCV"
      ]
    },
    {
      "cell_type": "code",
      "metadata": {
        "id": "Tcu4sMa53HHs"
      },
      "source": [
        "param_dist = {'criterion': ['entropy'],\r\n",
        " 'max_depth': [None],\r\n",
        " 'max_features': [1],\r\n",
        " 'min_samples_leaf': [6]}"
      ],
      "execution_count": 32,
      "outputs": []
    },
    {
      "cell_type": "code",
      "metadata": {
        "id": "5YLM-Srt5gnw"
      },
      "source": [
        "# Instantiate a Decision Tree classifier: tree\r\n",
        "tree = DecisionTreeClassifier()"
      ],
      "execution_count": 33,
      "outputs": []
    },
    {
      "cell_type": "code",
      "metadata": {
        "colab": {
          "base_uri": "https://localhost:8080/"
        },
        "id": "_p_5hWCt5kos",
        "outputId": "9f3d6075-1eec-48a3-d928-ecdcb4da7b24"
      },
      "source": [
        "# Instantiate the RandomizedSearchCV object: tree_cv\r\n",
        "tree_cv = RandomizedSearchCV(tree, param_dist, cv=5)\r\n",
        "tree_cv"
      ],
      "execution_count": 34,
      "outputs": [
        {
          "output_type": "execute_result",
          "data": {
            "text/plain": [
              "RandomizedSearchCV(cv=5, error_score=nan,\n",
              "                   estimator=DecisionTreeClassifier(ccp_alpha=0.0,\n",
              "                                                    class_weight=None,\n",
              "                                                    criterion='gini',\n",
              "                                                    max_depth=None,\n",
              "                                                    max_features=None,\n",
              "                                                    max_leaf_nodes=None,\n",
              "                                                    min_impurity_decrease=0.0,\n",
              "                                                    min_impurity_split=None,\n",
              "                                                    min_samples_leaf=1,\n",
              "                                                    min_samples_split=2,\n",
              "                                                    min_weight_fraction_leaf=0.0,\n",
              "                                                    presort='deprecated',\n",
              "                                                    random_state=None,\n",
              "                                                    splitter='best'),\n",
              "                   iid='deprecated', n_iter=10, n_jobs=None,\n",
              "                   param_distributions={'criterion': ['entropy'],\n",
              "                                        'max_depth': [None],\n",
              "                                        'max_features': [1],\n",
              "                                        'min_samples_leaf': [6]},\n",
              "                   pre_dispatch='2*n_jobs', random_state=None, refit=True,\n",
              "                   return_train_score=False, scoring=None, verbose=0)"
            ]
          },
          "metadata": {
            "tags": []
          },
          "execution_count": 34
        }
      ]
    },
    {
      "cell_type": "code",
      "metadata": {
        "colab": {
          "base_uri": "https://localhost:8080/"
        },
        "id": "UsjeWA-86pYr",
        "outputId": "2355ea45-59c1-4228-880b-3c03a1d4dc2e"
      },
      "source": [
        "tree_cv.fit(X_train,y_train)"
      ],
      "execution_count": 35,
      "outputs": [
        {
          "output_type": "stream",
          "text": [
            "/usr/local/lib/python3.6/dist-packages/sklearn/model_selection/_search.py:281: UserWarning: The total space of parameters 1 is smaller than n_iter=10. Running 1 iterations. For exhaustive searches, use GridSearchCV.\n",
            "  % (grid_size, self.n_iter, grid_size), UserWarning)\n"
          ],
          "name": "stderr"
        },
        {
          "output_type": "execute_result",
          "data": {
            "text/plain": [
              "RandomizedSearchCV(cv=5, error_score=nan,\n",
              "                   estimator=DecisionTreeClassifier(ccp_alpha=0.0,\n",
              "                                                    class_weight=None,\n",
              "                                                    criterion='gini',\n",
              "                                                    max_depth=None,\n",
              "                                                    max_features=None,\n",
              "                                                    max_leaf_nodes=None,\n",
              "                                                    min_impurity_decrease=0.0,\n",
              "                                                    min_impurity_split=None,\n",
              "                                                    min_samples_leaf=1,\n",
              "                                                    min_samples_split=2,\n",
              "                                                    min_weight_fraction_leaf=0.0,\n",
              "                                                    presort='deprecated',\n",
              "                                                    random_state=None,\n",
              "                                                    splitter='best'),\n",
              "                   iid='deprecated', n_iter=10, n_jobs=None,\n",
              "                   param_distributions={'criterion': ['entropy'],\n",
              "                                        'max_depth': [None],\n",
              "                                        'max_features': [1],\n",
              "                                        'min_samples_leaf': [6]},\n",
              "                   pre_dispatch='2*n_jobs', random_state=None, refit=True,\n",
              "                   return_train_score=False, scoring=None, verbose=0)"
            ]
          },
          "metadata": {
            "tags": []
          },
          "execution_count": 35
        }
      ]
    },
    {
      "cell_type": "code",
      "metadata": {
        "colab": {
          "base_uri": "https://localhost:8080/"
        },
        "id": "QUcnIhX26MFV",
        "outputId": "9e3ae2f0-5786-493e-d181-d2e1996bac69"
      },
      "source": [
        "tree_cv.best_score_"
      ],
      "execution_count": 36,
      "outputs": [
        {
          "output_type": "execute_result",
          "data": {
            "text/plain": [
              "0.3473852062686465"
            ]
          },
          "metadata": {
            "tags": []
          },
          "execution_count": 36
        }
      ]
    },
    {
      "cell_type": "code",
      "metadata": {
        "colab": {
          "base_uri": "https://localhost:8080/"
        },
        "id": "HSBJcTCS6yDH",
        "outputId": "36bdc7b4-2cf3-4786-86a4-4923db2f71ce"
      },
      "source": [
        "tree_cv.best_params_"
      ],
      "execution_count": 37,
      "outputs": [
        {
          "output_type": "execute_result",
          "data": {
            "text/plain": [
              "{'criterion': 'entropy',\n",
              " 'max_depth': None,\n",
              " 'max_features': 1,\n",
              " 'min_samples_leaf': 6}"
            ]
          },
          "metadata": {
            "tags": []
          },
          "execution_count": 37
        }
      ]
    },
    {
      "cell_type": "markdown",
      "metadata": {
        "id": "d653ZDEphE9V"
      },
      "source": [
        "Random Forest Classifier"
      ]
    },
    {
      "cell_type": "code",
      "metadata": {
        "id": "tXuhiP89g9p6"
      },
      "source": [
        "#Import Random Forest Model\r\n",
        "from sklearn.ensemble import RandomForestClassifier\r\n",
        "\r\n",
        "#Create a Gaussian Classifier\r\n",
        "clf=RandomForestClassifier(n_estimators=100)\r\n",
        "\r\n",
        "#Train the model using the training sets y_pred=clf.predict(X_test)\r\n",
        "clf.fit(X_train,y_train)\r\n",
        "\r\n",
        "preds=clf.predict(X_test)"
      ],
      "execution_count": 38,
      "outputs": []
    },
    {
      "cell_type": "code",
      "metadata": {
        "id": "i22DzaBvrv7D",
        "outputId": "3fd75671-cd23-4a5e-e101-f51dd6d850a1",
        "colab": {
          "base_uri": "https://localhost:8080/"
        }
      },
      "source": [
        "#Import scikit-learn metrics module for accuracy calculation\r\n",
        "from sklearn import metrics\r\n",
        "# Model Accuracy, how often is the classifier correct?\r\n",
        "print(\"Accuracy: {:.2f}%\".format(metrics.accuracy_score(y_test, preds)*100))"
      ],
      "execution_count": 39,
      "outputs": [
        {
          "output_type": "stream",
          "text": [
            "Accuracy: 27.55%\n"
          ],
          "name": "stdout"
        }
      ]
    },
    {
      "cell_type": "markdown",
      "metadata": {
        "id": "lzsuyJpStKzX"
      },
      "source": [
        "RandomForestClassifier improve the accuracy but that is not considered a big improve"
      ]
    }
  ]
}